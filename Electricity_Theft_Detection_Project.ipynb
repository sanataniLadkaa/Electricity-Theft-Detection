{
  "cells": [
    {
      "cell_type": "code",
      "execution_count": 1,
      "metadata": {
        "colab": {
          "base_uri": "https://localhost:8080/"
        },
        "id": "nBxg3ZsdMXU7",
        "outputId": "8eeaf2b5-f5ce-4695-c627-e8772f6fc345"
      },
      "outputs": [
        {
          "output_type": "stream",
          "name": "stdout",
          "text": [
            "Mounted at /content/drive\n"
          ]
        }
      ],
      "source": [
        "from google.colab import drive\n",
        "drive.mount(\"/content/drive\", force_remount = True)"
      ]
    },
    {
      "cell_type": "code",
      "execution_count": null,
      "metadata": {
        "colab": {
          "base_uri": "https://localhost:8080/",
          "height": 261
        },
        "id": "uUBkFHeoMTV7",
        "outputId": "63cb9901-5db3-459b-9d62-8b2427ecc0fd"
      },
      "outputs": [
        {
          "output_type": "execute_result",
          "data": {
            "text/plain": [
              "   0  Electricity:Facility [kW](Hourly)  Fans:Electricity [kW](Hourly)  \\\n",
              "0  0                          22.035977                       3.586221   \n",
              "1  1                          14.649757                       0.000000   \n",
              "2  2                          14.669567                       0.000000   \n",
              "3  3                          14.677808                       0.000000   \n",
              "4  4                          14.824794                       0.000000   \n",
              "\n",
              "   Cooling:Electricity [kW](Hourly)  Heating:Electricity [kW](Hourly)  \\\n",
              "0                               0.0                               0.0   \n",
              "1                               0.0                               0.0   \n",
              "2                               0.0                               0.0   \n",
              "3                               0.0                               0.0   \n",
              "4                               0.0                               0.0   \n",
              "\n",
              "   InteriorLights:Electricity [kW](Hourly)  \\\n",
              "0                                 4.589925   \n",
              "1                                 1.529975   \n",
              "2                                 1.529975   \n",
              "3                                 1.529975   \n",
              "4                                 1.529975   \n",
              "\n",
              "   InteriorEquipment:Electricity [kW](Hourly)  Gas:Facility [kW](Hourly)  \\\n",
              "0                                      8.1892                 136.585903   \n",
              "1                                      7.4902                   3.359880   \n",
              "2                                      7.4902                   3.359880   \n",
              "3                                      7.4902                   3.931932   \n",
              "4                                      7.4902                   3.359880   \n",
              "\n",
              "   Heating:Gas [kW](Hourly)  InteriorEquipment:Gas [kW](Hourly)  \\\n",
              "0                123.999076                             3.33988   \n",
              "1                  0.000000                             3.33988   \n",
              "2                  0.000000                             3.33988   \n",
              "3                  0.000000                             3.33988   \n",
              "4                  0.000000                             3.33988   \n",
              "\n",
              "   Water Heater:WaterSystems:Gas [kW](Hourly)                  Class   theft  \n",
              "0                                    9.246947  FullServiceRestaurant  Normal  \n",
              "1                                    0.020000  FullServiceRestaurant  Normal  \n",
              "2                                    0.020000  FullServiceRestaurant  Normal  \n",
              "3                                    0.592052  FullServiceRestaurant  Normal  \n",
              "4                                    0.020000  FullServiceRestaurant  Normal  "
            ],
            "text/html": [
              "\n",
              "  <div id=\"df-e55c4a29-2e1f-484d-ab8e-05c48472bbc9\" class=\"colab-df-container\">\n",
              "    <div>\n",
              "<style scoped>\n",
              "    .dataframe tbody tr th:only-of-type {\n",
              "        vertical-align: middle;\n",
              "    }\n",
              "\n",
              "    .dataframe tbody tr th {\n",
              "        vertical-align: top;\n",
              "    }\n",
              "\n",
              "    .dataframe thead th {\n",
              "        text-align: right;\n",
              "    }\n",
              "</style>\n",
              "<table border=\"1\" class=\"dataframe\">\n",
              "  <thead>\n",
              "    <tr style=\"text-align: right;\">\n",
              "      <th></th>\n",
              "      <th>0</th>\n",
              "      <th>Electricity:Facility [kW](Hourly)</th>\n",
              "      <th>Fans:Electricity [kW](Hourly)</th>\n",
              "      <th>Cooling:Electricity [kW](Hourly)</th>\n",
              "      <th>Heating:Electricity [kW](Hourly)</th>\n",
              "      <th>InteriorLights:Electricity [kW](Hourly)</th>\n",
              "      <th>InteriorEquipment:Electricity [kW](Hourly)</th>\n",
              "      <th>Gas:Facility [kW](Hourly)</th>\n",
              "      <th>Heating:Gas [kW](Hourly)</th>\n",
              "      <th>InteriorEquipment:Gas [kW](Hourly)</th>\n",
              "      <th>Water Heater:WaterSystems:Gas [kW](Hourly)</th>\n",
              "      <th>Class</th>\n",
              "      <th>theft</th>\n",
              "    </tr>\n",
              "  </thead>\n",
              "  <tbody>\n",
              "    <tr>\n",
              "      <th>0</th>\n",
              "      <td>0</td>\n",
              "      <td>22.035977</td>\n",
              "      <td>3.586221</td>\n",
              "      <td>0.0</td>\n",
              "      <td>0.0</td>\n",
              "      <td>4.589925</td>\n",
              "      <td>8.1892</td>\n",
              "      <td>136.585903</td>\n",
              "      <td>123.999076</td>\n",
              "      <td>3.33988</td>\n",
              "      <td>9.246947</td>\n",
              "      <td>FullServiceRestaurant</td>\n",
              "      <td>Normal</td>\n",
              "    </tr>\n",
              "    <tr>\n",
              "      <th>1</th>\n",
              "      <td>1</td>\n",
              "      <td>14.649757</td>\n",
              "      <td>0.000000</td>\n",
              "      <td>0.0</td>\n",
              "      <td>0.0</td>\n",
              "      <td>1.529975</td>\n",
              "      <td>7.4902</td>\n",
              "      <td>3.359880</td>\n",
              "      <td>0.000000</td>\n",
              "      <td>3.33988</td>\n",
              "      <td>0.020000</td>\n",
              "      <td>FullServiceRestaurant</td>\n",
              "      <td>Normal</td>\n",
              "    </tr>\n",
              "    <tr>\n",
              "      <th>2</th>\n",
              "      <td>2</td>\n",
              "      <td>14.669567</td>\n",
              "      <td>0.000000</td>\n",
              "      <td>0.0</td>\n",
              "      <td>0.0</td>\n",
              "      <td>1.529975</td>\n",
              "      <td>7.4902</td>\n",
              "      <td>3.359880</td>\n",
              "      <td>0.000000</td>\n",
              "      <td>3.33988</td>\n",
              "      <td>0.020000</td>\n",
              "      <td>FullServiceRestaurant</td>\n",
              "      <td>Normal</td>\n",
              "    </tr>\n",
              "    <tr>\n",
              "      <th>3</th>\n",
              "      <td>3</td>\n",
              "      <td>14.677808</td>\n",
              "      <td>0.000000</td>\n",
              "      <td>0.0</td>\n",
              "      <td>0.0</td>\n",
              "      <td>1.529975</td>\n",
              "      <td>7.4902</td>\n",
              "      <td>3.931932</td>\n",
              "      <td>0.000000</td>\n",
              "      <td>3.33988</td>\n",
              "      <td>0.592052</td>\n",
              "      <td>FullServiceRestaurant</td>\n",
              "      <td>Normal</td>\n",
              "    </tr>\n",
              "    <tr>\n",
              "      <th>4</th>\n",
              "      <td>4</td>\n",
              "      <td>14.824794</td>\n",
              "      <td>0.000000</td>\n",
              "      <td>0.0</td>\n",
              "      <td>0.0</td>\n",
              "      <td>1.529975</td>\n",
              "      <td>7.4902</td>\n",
              "      <td>3.359880</td>\n",
              "      <td>0.000000</td>\n",
              "      <td>3.33988</td>\n",
              "      <td>0.020000</td>\n",
              "      <td>FullServiceRestaurant</td>\n",
              "      <td>Normal</td>\n",
              "    </tr>\n",
              "  </tbody>\n",
              "</table>\n",
              "</div>\n",
              "    <div class=\"colab-df-buttons\">\n",
              "\n",
              "  <div class=\"colab-df-container\">\n",
              "    <button class=\"colab-df-convert\" onclick=\"convertToInteractive('df-e55c4a29-2e1f-484d-ab8e-05c48472bbc9')\"\n",
              "            title=\"Convert this dataframe to an interactive table.\"\n",
              "            style=\"display:none;\">\n",
              "\n",
              "  <svg xmlns=\"http://www.w3.org/2000/svg\" height=\"24px\" viewBox=\"0 -960 960 960\">\n",
              "    <path d=\"M120-120v-720h720v720H120Zm60-500h600v-160H180v160Zm220 220h160v-160H400v160Zm0 220h160v-160H400v160ZM180-400h160v-160H180v160Zm440 0h160v-160H620v160ZM180-180h160v-160H180v160Zm440 0h160v-160H620v160Z\"/>\n",
              "  </svg>\n",
              "    </button>\n",
              "\n",
              "  <style>\n",
              "    .colab-df-container {\n",
              "      display:flex;\n",
              "      gap: 12px;\n",
              "    }\n",
              "\n",
              "    .colab-df-convert {\n",
              "      background-color: #E8F0FE;\n",
              "      border: none;\n",
              "      border-radius: 50%;\n",
              "      cursor: pointer;\n",
              "      display: none;\n",
              "      fill: #1967D2;\n",
              "      height: 32px;\n",
              "      padding: 0 0 0 0;\n",
              "      width: 32px;\n",
              "    }\n",
              "\n",
              "    .colab-df-convert:hover {\n",
              "      background-color: #E2EBFA;\n",
              "      box-shadow: 0px 1px 2px rgba(60, 64, 67, 0.3), 0px 1px 3px 1px rgba(60, 64, 67, 0.15);\n",
              "      fill: #174EA6;\n",
              "    }\n",
              "\n",
              "    .colab-df-buttons div {\n",
              "      margin-bottom: 4px;\n",
              "    }\n",
              "\n",
              "    [theme=dark] .colab-df-convert {\n",
              "      background-color: #3B4455;\n",
              "      fill: #D2E3FC;\n",
              "    }\n",
              "\n",
              "    [theme=dark] .colab-df-convert:hover {\n",
              "      background-color: #434B5C;\n",
              "      box-shadow: 0px 1px 3px 1px rgba(0, 0, 0, 0.15);\n",
              "      filter: drop-shadow(0px 1px 2px rgba(0, 0, 0, 0.3));\n",
              "      fill: #FFFFFF;\n",
              "    }\n",
              "  </style>\n",
              "\n",
              "    <script>\n",
              "      const buttonEl =\n",
              "        document.querySelector('#df-e55c4a29-2e1f-484d-ab8e-05c48472bbc9 button.colab-df-convert');\n",
              "      buttonEl.style.display =\n",
              "        google.colab.kernel.accessAllowed ? 'block' : 'none';\n",
              "\n",
              "      async function convertToInteractive(key) {\n",
              "        const element = document.querySelector('#df-e55c4a29-2e1f-484d-ab8e-05c48472bbc9');\n",
              "        const dataTable =\n",
              "          await google.colab.kernel.invokeFunction('convertToInteractive',\n",
              "                                                    [key], {});\n",
              "        if (!dataTable) return;\n",
              "\n",
              "        const docLinkHtml = 'Like what you see? Visit the ' +\n",
              "          '<a target=\"_blank\" href=https://colab.research.google.com/notebooks/data_table.ipynb>data table notebook</a>'\n",
              "          + ' to learn more about interactive tables.';\n",
              "        element.innerHTML = '';\n",
              "        dataTable['output_type'] = 'display_data';\n",
              "        await google.colab.output.renderOutput(dataTable, element);\n",
              "        const docLink = document.createElement('div');\n",
              "        docLink.innerHTML = docLinkHtml;\n",
              "        element.appendChild(docLink);\n",
              "      }\n",
              "    </script>\n",
              "  </div>\n",
              "\n",
              "\n",
              "<div id=\"df-f3c62105-bec8-4a15-8e61-dfbba39e3221\">\n",
              "  <button class=\"colab-df-quickchart\" onclick=\"quickchart('df-f3c62105-bec8-4a15-8e61-dfbba39e3221')\"\n",
              "            title=\"Suggest charts.\"\n",
              "            style=\"display:none;\">\n",
              "\n",
              "<svg xmlns=\"http://www.w3.org/2000/svg\" height=\"24px\"viewBox=\"0 0 24 24\"\n",
              "     width=\"24px\">\n",
              "    <g>\n",
              "        <path d=\"M19 3H5c-1.1 0-2 .9-2 2v14c0 1.1.9 2 2 2h14c1.1 0 2-.9 2-2V5c0-1.1-.9-2-2-2zM9 17H7v-7h2v7zm4 0h-2V7h2v10zm4 0h-2v-4h2v4z\"/>\n",
              "    </g>\n",
              "</svg>\n",
              "  </button>\n",
              "\n",
              "<style>\n",
              "  .colab-df-quickchart {\n",
              "    background-color: #E8F0FE;\n",
              "    border: none;\n",
              "    border-radius: 50%;\n",
              "    cursor: pointer;\n",
              "    display: none;\n",
              "    fill: #1967D2;\n",
              "    height: 32px;\n",
              "    padding: 0 0 0 0;\n",
              "    width: 32px;\n",
              "  }\n",
              "\n",
              "  .colab-df-quickchart:hover {\n",
              "    background-color: #E2EBFA;\n",
              "    box-shadow: 0px 1px 2px rgba(60, 64, 67, 0.3), 0px 1px 3px 1px rgba(60, 64, 67, 0.15);\n",
              "    fill: #174EA6;\n",
              "  }\n",
              "\n",
              "  [theme=dark] .colab-df-quickchart {\n",
              "    background-color: #3B4455;\n",
              "    fill: #D2E3FC;\n",
              "  }\n",
              "\n",
              "  [theme=dark] .colab-df-quickchart:hover {\n",
              "    background-color: #434B5C;\n",
              "    box-shadow: 0px 1px 3px 1px rgba(0, 0, 0, 0.15);\n",
              "    filter: drop-shadow(0px 1px 2px rgba(0, 0, 0, 0.3));\n",
              "    fill: #FFFFFF;\n",
              "  }\n",
              "</style>\n",
              "\n",
              "  <script>\n",
              "    async function quickchart(key) {\n",
              "      const charts = await google.colab.kernel.invokeFunction(\n",
              "          'suggestCharts', [key], {});\n",
              "    }\n",
              "    (() => {\n",
              "      let quickchartButtonEl =\n",
              "        document.querySelector('#df-f3c62105-bec8-4a15-8e61-dfbba39e3221 button');\n",
              "      quickchartButtonEl.style.display =\n",
              "        google.colab.kernel.accessAllowed ? 'block' : 'none';\n",
              "    })();\n",
              "  </script>\n",
              "</div>\n",
              "    </div>\n",
              "  </div>\n"
            ]
          },
          "metadata": {},
          "execution_count": 2
        }
      ],
      "source": [
        "import pandas as pd\n",
        "import matplotlib.pyplot as plt\n",
        "df = pd.read_csv(\"/content/drive/MyDrive/DF__DATASET.csv\")\n",
        "df.head()"
      ]
    },
    {
      "cell_type": "code",
      "execution_count": null,
      "metadata": {
        "colab": {
          "base_uri": "https://localhost:8080/",
          "height": 478
        },
        "id": "c0tgt_EoyzsM",
        "outputId": "12c7f376-e50a-4444-ef0c-1e474d37c4cb"
      },
      "outputs": [
        {
          "output_type": "execute_result",
          "data": {
            "text/plain": [
              "             0  Electricity:Facility [kW](Hourly)  \\\n",
              "0            0                          22.035977   \n",
              "1            1                          14.649757   \n",
              "2            2                          14.669567   \n",
              "3            3                          14.677808   \n",
              "4            4                          14.824794   \n",
              "...        ...                                ...   \n",
              "560650  560650                          17.388701   \n",
              "560651  560651                          17.274210   \n",
              "560652  560652                          18.231203   \n",
              "560653  560653                          17.737117   \n",
              "560654  560654                          18.413804   \n",
              "\n",
              "        Fans:Electricity [kW](Hourly)  Cooling:Electricity [kW](Hourly)  \\\n",
              "0                            3.586221                               0.0   \n",
              "1                            0.000000                               0.0   \n",
              "2                            0.000000                               0.0   \n",
              "3                            0.000000                               0.0   \n",
              "4                            0.000000                               0.0   \n",
              "...                               ...                               ...   \n",
              "560650                       1.972876                               0.0   \n",
              "560651                       1.858385                               0.0   \n",
              "560652                       2.815379                               0.0   \n",
              "560653                       2.321293                               0.0   \n",
              "560654                       2.997979                               0.0   \n",
              "\n",
              "        Heating:Electricity [kW](Hourly)  \\\n",
              "0                                    0.0   \n",
              "1                                    0.0   \n",
              "2                                    0.0   \n",
              "3                                    0.0   \n",
              "4                                    0.0   \n",
              "...                                  ...   \n",
              "560650                               0.0   \n",
              "560651                               0.0   \n",
              "560652                               0.0   \n",
              "560653                               0.0   \n",
              "560654                               0.0   \n",
              "\n",
              "        InteriorLights:Electricity [kW](Hourly)  \\\n",
              "0                                      4.589925   \n",
              "1                                      1.529975   \n",
              "2                                      1.529975   \n",
              "3                                      1.529975   \n",
              "4                                      1.529975   \n",
              "...                                         ...   \n",
              "560650                                 5.481225   \n",
              "560651                                 5.481225   \n",
              "560652                                 5.481225   \n",
              "560653                                 5.481225   \n",
              "560654                                 5.481225   \n",
              "\n",
              "        InteriorEquipment:Electricity [kW](Hourly)  Gas:Facility [kW](Hourly)  \\\n",
              "0                                           8.1892                 136.585903   \n",
              "1                                           7.4902                   3.359880   \n",
              "2                                           7.4902                   3.359880   \n",
              "3                                           7.4902                   3.931932   \n",
              "4                                           7.4902                   3.359880   \n",
              "...                                            ...                        ...   \n",
              "560650                                      1.0116                  36.755737   \n",
              "560651                                      1.0116                  34.861068   \n",
              "560652                                      1.0116                  52.866559   \n",
              "560653                                      1.0116                  43.758956   \n",
              "560654                                      1.0116                  56.456040   \n",
              "\n",
              "        Heating:Gas [kW](Hourly)  InteriorEquipment:Gas [kW](Hourly)  \\\n",
              "0                     123.999076                             3.33988   \n",
              "1                       0.000000                             3.33988   \n",
              "2                       0.000000                             3.33988   \n",
              "3                       0.000000                             3.33988   \n",
              "4                       0.000000                             3.33988   \n",
              "...                          ...                                 ...   \n",
              "560650                 36.755737                             0.00000   \n",
              "560651                 34.861068                             0.00000   \n",
              "560652                 52.866559                             0.00000   \n",
              "560653                 43.758956                             0.00000   \n",
              "560654                 56.456040                             0.00000   \n",
              "\n",
              "        Water Heater:WaterSystems:Gas [kW](Hourly)  Class  theft  \n",
              "0                                         9.246947      1      0  \n",
              "1                                         0.020000      1      0  \n",
              "2                                         0.020000      1      0  \n",
              "3                                         0.592052      1      0  \n",
              "4                                         0.020000      1      0  \n",
              "...                                            ...    ...    ...  \n",
              "560650                                    0.000000     16      6  \n",
              "560651                                    0.000000     16      6  \n",
              "560652                                    0.000000     16      6  \n",
              "560653                                    0.000000     16      6  \n",
              "560654                                    0.000000     16      6  \n",
              "\n",
              "[560655 rows x 13 columns]"
            ],
            "text/html": [
              "\n",
              "  <div id=\"df-41d0c2ff-49b6-4704-b78f-d03a54e4a839\" class=\"colab-df-container\">\n",
              "    <div>\n",
              "<style scoped>\n",
              "    .dataframe tbody tr th:only-of-type {\n",
              "        vertical-align: middle;\n",
              "    }\n",
              "\n",
              "    .dataframe tbody tr th {\n",
              "        vertical-align: top;\n",
              "    }\n",
              "\n",
              "    .dataframe thead th {\n",
              "        text-align: right;\n",
              "    }\n",
              "</style>\n",
              "<table border=\"1\" class=\"dataframe\">\n",
              "  <thead>\n",
              "    <tr style=\"text-align: right;\">\n",
              "      <th></th>\n",
              "      <th>0</th>\n",
              "      <th>Electricity:Facility [kW](Hourly)</th>\n",
              "      <th>Fans:Electricity [kW](Hourly)</th>\n",
              "      <th>Cooling:Electricity [kW](Hourly)</th>\n",
              "      <th>Heating:Electricity [kW](Hourly)</th>\n",
              "      <th>InteriorLights:Electricity [kW](Hourly)</th>\n",
              "      <th>InteriorEquipment:Electricity [kW](Hourly)</th>\n",
              "      <th>Gas:Facility [kW](Hourly)</th>\n",
              "      <th>Heating:Gas [kW](Hourly)</th>\n",
              "      <th>InteriorEquipment:Gas [kW](Hourly)</th>\n",
              "      <th>Water Heater:WaterSystems:Gas [kW](Hourly)</th>\n",
              "      <th>Class</th>\n",
              "      <th>theft</th>\n",
              "    </tr>\n",
              "  </thead>\n",
              "  <tbody>\n",
              "    <tr>\n",
              "      <th>0</th>\n",
              "      <td>0</td>\n",
              "      <td>22.035977</td>\n",
              "      <td>3.586221</td>\n",
              "      <td>0.0</td>\n",
              "      <td>0.0</td>\n",
              "      <td>4.589925</td>\n",
              "      <td>8.1892</td>\n",
              "      <td>136.585903</td>\n",
              "      <td>123.999076</td>\n",
              "      <td>3.33988</td>\n",
              "      <td>9.246947</td>\n",
              "      <td>1</td>\n",
              "      <td>0</td>\n",
              "    </tr>\n",
              "    <tr>\n",
              "      <th>1</th>\n",
              "      <td>1</td>\n",
              "      <td>14.649757</td>\n",
              "      <td>0.000000</td>\n",
              "      <td>0.0</td>\n",
              "      <td>0.0</td>\n",
              "      <td>1.529975</td>\n",
              "      <td>7.4902</td>\n",
              "      <td>3.359880</td>\n",
              "      <td>0.000000</td>\n",
              "      <td>3.33988</td>\n",
              "      <td>0.020000</td>\n",
              "      <td>1</td>\n",
              "      <td>0</td>\n",
              "    </tr>\n",
              "    <tr>\n",
              "      <th>2</th>\n",
              "      <td>2</td>\n",
              "      <td>14.669567</td>\n",
              "      <td>0.000000</td>\n",
              "      <td>0.0</td>\n",
              "      <td>0.0</td>\n",
              "      <td>1.529975</td>\n",
              "      <td>7.4902</td>\n",
              "      <td>3.359880</td>\n",
              "      <td>0.000000</td>\n",
              "      <td>3.33988</td>\n",
              "      <td>0.020000</td>\n",
              "      <td>1</td>\n",
              "      <td>0</td>\n",
              "    </tr>\n",
              "    <tr>\n",
              "      <th>3</th>\n",
              "      <td>3</td>\n",
              "      <td>14.677808</td>\n",
              "      <td>0.000000</td>\n",
              "      <td>0.0</td>\n",
              "      <td>0.0</td>\n",
              "      <td>1.529975</td>\n",
              "      <td>7.4902</td>\n",
              "      <td>3.931932</td>\n",
              "      <td>0.000000</td>\n",
              "      <td>3.33988</td>\n",
              "      <td>0.592052</td>\n",
              "      <td>1</td>\n",
              "      <td>0</td>\n",
              "    </tr>\n",
              "    <tr>\n",
              "      <th>4</th>\n",
              "      <td>4</td>\n",
              "      <td>14.824794</td>\n",
              "      <td>0.000000</td>\n",
              "      <td>0.0</td>\n",
              "      <td>0.0</td>\n",
              "      <td>1.529975</td>\n",
              "      <td>7.4902</td>\n",
              "      <td>3.359880</td>\n",
              "      <td>0.000000</td>\n",
              "      <td>3.33988</td>\n",
              "      <td>0.020000</td>\n",
              "      <td>1</td>\n",
              "      <td>0</td>\n",
              "    </tr>\n",
              "    <tr>\n",
              "      <th>...</th>\n",
              "      <td>...</td>\n",
              "      <td>...</td>\n",
              "      <td>...</td>\n",
              "      <td>...</td>\n",
              "      <td>...</td>\n",
              "      <td>...</td>\n",
              "      <td>...</td>\n",
              "      <td>...</td>\n",
              "      <td>...</td>\n",
              "      <td>...</td>\n",
              "      <td>...</td>\n",
              "      <td>...</td>\n",
              "      <td>...</td>\n",
              "    </tr>\n",
              "    <tr>\n",
              "      <th>560650</th>\n",
              "      <td>560650</td>\n",
              "      <td>17.388701</td>\n",
              "      <td>1.972876</td>\n",
              "      <td>0.0</td>\n",
              "      <td>0.0</td>\n",
              "      <td>5.481225</td>\n",
              "      <td>1.0116</td>\n",
              "      <td>36.755737</td>\n",
              "      <td>36.755737</td>\n",
              "      <td>0.00000</td>\n",
              "      <td>0.000000</td>\n",
              "      <td>16</td>\n",
              "      <td>6</td>\n",
              "    </tr>\n",
              "    <tr>\n",
              "      <th>560651</th>\n",
              "      <td>560651</td>\n",
              "      <td>17.274210</td>\n",
              "      <td>1.858385</td>\n",
              "      <td>0.0</td>\n",
              "      <td>0.0</td>\n",
              "      <td>5.481225</td>\n",
              "      <td>1.0116</td>\n",
              "      <td>34.861068</td>\n",
              "      <td>34.861068</td>\n",
              "      <td>0.00000</td>\n",
              "      <td>0.000000</td>\n",
              "      <td>16</td>\n",
              "      <td>6</td>\n",
              "    </tr>\n",
              "    <tr>\n",
              "      <th>560652</th>\n",
              "      <td>560652</td>\n",
              "      <td>18.231203</td>\n",
              "      <td>2.815379</td>\n",
              "      <td>0.0</td>\n",
              "      <td>0.0</td>\n",
              "      <td>5.481225</td>\n",
              "      <td>1.0116</td>\n",
              "      <td>52.866559</td>\n",
              "      <td>52.866559</td>\n",
              "      <td>0.00000</td>\n",
              "      <td>0.000000</td>\n",
              "      <td>16</td>\n",
              "      <td>6</td>\n",
              "    </tr>\n",
              "    <tr>\n",
              "      <th>560653</th>\n",
              "      <td>560653</td>\n",
              "      <td>17.737117</td>\n",
              "      <td>2.321293</td>\n",
              "      <td>0.0</td>\n",
              "      <td>0.0</td>\n",
              "      <td>5.481225</td>\n",
              "      <td>1.0116</td>\n",
              "      <td>43.758956</td>\n",
              "      <td>43.758956</td>\n",
              "      <td>0.00000</td>\n",
              "      <td>0.000000</td>\n",
              "      <td>16</td>\n",
              "      <td>6</td>\n",
              "    </tr>\n",
              "    <tr>\n",
              "      <th>560654</th>\n",
              "      <td>560654</td>\n",
              "      <td>18.413804</td>\n",
              "      <td>2.997979</td>\n",
              "      <td>0.0</td>\n",
              "      <td>0.0</td>\n",
              "      <td>5.481225</td>\n",
              "      <td>1.0116</td>\n",
              "      <td>56.456040</td>\n",
              "      <td>56.456040</td>\n",
              "      <td>0.00000</td>\n",
              "      <td>0.000000</td>\n",
              "      <td>16</td>\n",
              "      <td>6</td>\n",
              "    </tr>\n",
              "  </tbody>\n",
              "</table>\n",
              "<p>560655 rows × 13 columns</p>\n",
              "</div>\n",
              "    <div class=\"colab-df-buttons\">\n",
              "\n",
              "  <div class=\"colab-df-container\">\n",
              "    <button class=\"colab-df-convert\" onclick=\"convertToInteractive('df-41d0c2ff-49b6-4704-b78f-d03a54e4a839')\"\n",
              "            title=\"Convert this dataframe to an interactive table.\"\n",
              "            style=\"display:none;\">\n",
              "\n",
              "  <svg xmlns=\"http://www.w3.org/2000/svg\" height=\"24px\" viewBox=\"0 -960 960 960\">\n",
              "    <path d=\"M120-120v-720h720v720H120Zm60-500h600v-160H180v160Zm220 220h160v-160H400v160Zm0 220h160v-160H400v160ZM180-400h160v-160H180v160Zm440 0h160v-160H620v160ZM180-180h160v-160H180v160Zm440 0h160v-160H620v160Z\"/>\n",
              "  </svg>\n",
              "    </button>\n",
              "\n",
              "  <style>\n",
              "    .colab-df-container {\n",
              "      display:flex;\n",
              "      gap: 12px;\n",
              "    }\n",
              "\n",
              "    .colab-df-convert {\n",
              "      background-color: #E8F0FE;\n",
              "      border: none;\n",
              "      border-radius: 50%;\n",
              "      cursor: pointer;\n",
              "      display: none;\n",
              "      fill: #1967D2;\n",
              "      height: 32px;\n",
              "      padding: 0 0 0 0;\n",
              "      width: 32px;\n",
              "    }\n",
              "\n",
              "    .colab-df-convert:hover {\n",
              "      background-color: #E2EBFA;\n",
              "      box-shadow: 0px 1px 2px rgba(60, 64, 67, 0.3), 0px 1px 3px 1px rgba(60, 64, 67, 0.15);\n",
              "      fill: #174EA6;\n",
              "    }\n",
              "\n",
              "    .colab-df-buttons div {\n",
              "      margin-bottom: 4px;\n",
              "    }\n",
              "\n",
              "    [theme=dark] .colab-df-convert {\n",
              "      background-color: #3B4455;\n",
              "      fill: #D2E3FC;\n",
              "    }\n",
              "\n",
              "    [theme=dark] .colab-df-convert:hover {\n",
              "      background-color: #434B5C;\n",
              "      box-shadow: 0px 1px 3px 1px rgba(0, 0, 0, 0.15);\n",
              "      filter: drop-shadow(0px 1px 2px rgba(0, 0, 0, 0.3));\n",
              "      fill: #FFFFFF;\n",
              "    }\n",
              "  </style>\n",
              "\n",
              "    <script>\n",
              "      const buttonEl =\n",
              "        document.querySelector('#df-41d0c2ff-49b6-4704-b78f-d03a54e4a839 button.colab-df-convert');\n",
              "      buttonEl.style.display =\n",
              "        google.colab.kernel.accessAllowed ? 'block' : 'none';\n",
              "\n",
              "      async function convertToInteractive(key) {\n",
              "        const element = document.querySelector('#df-41d0c2ff-49b6-4704-b78f-d03a54e4a839');\n",
              "        const dataTable =\n",
              "          await google.colab.kernel.invokeFunction('convertToInteractive',\n",
              "                                                    [key], {});\n",
              "        if (!dataTable) return;\n",
              "\n",
              "        const docLinkHtml = 'Like what you see? Visit the ' +\n",
              "          '<a target=\"_blank\" href=https://colab.research.google.com/notebooks/data_table.ipynb>data table notebook</a>'\n",
              "          + ' to learn more about interactive tables.';\n",
              "        element.innerHTML = '';\n",
              "        dataTable['output_type'] = 'display_data';\n",
              "        await google.colab.output.renderOutput(dataTable, element);\n",
              "        const docLink = document.createElement('div');\n",
              "        docLink.innerHTML = docLinkHtml;\n",
              "        element.appendChild(docLink);\n",
              "      }\n",
              "    </script>\n",
              "  </div>\n",
              "\n",
              "\n",
              "<div id=\"df-908d5b3c-2e06-4943-bb11-df5be5297590\">\n",
              "  <button class=\"colab-df-quickchart\" onclick=\"quickchart('df-908d5b3c-2e06-4943-bb11-df5be5297590')\"\n",
              "            title=\"Suggest charts.\"\n",
              "            style=\"display:none;\">\n",
              "\n",
              "<svg xmlns=\"http://www.w3.org/2000/svg\" height=\"24px\"viewBox=\"0 0 24 24\"\n",
              "     width=\"24px\">\n",
              "    <g>\n",
              "        <path d=\"M19 3H5c-1.1 0-2 .9-2 2v14c0 1.1.9 2 2 2h14c1.1 0 2-.9 2-2V5c0-1.1-.9-2-2-2zM9 17H7v-7h2v7zm4 0h-2V7h2v10zm4 0h-2v-4h2v4z\"/>\n",
              "    </g>\n",
              "</svg>\n",
              "  </button>\n",
              "\n",
              "<style>\n",
              "  .colab-df-quickchart {\n",
              "    background-color: #E8F0FE;\n",
              "    border: none;\n",
              "    border-radius: 50%;\n",
              "    cursor: pointer;\n",
              "    display: none;\n",
              "    fill: #1967D2;\n",
              "    height: 32px;\n",
              "    padding: 0 0 0 0;\n",
              "    width: 32px;\n",
              "  }\n",
              "\n",
              "  .colab-df-quickchart:hover {\n",
              "    background-color: #E2EBFA;\n",
              "    box-shadow: 0px 1px 2px rgba(60, 64, 67, 0.3), 0px 1px 3px 1px rgba(60, 64, 67, 0.15);\n",
              "    fill: #174EA6;\n",
              "  }\n",
              "\n",
              "  [theme=dark] .colab-df-quickchart {\n",
              "    background-color: #3B4455;\n",
              "    fill: #D2E3FC;\n",
              "  }\n",
              "\n",
              "  [theme=dark] .colab-df-quickchart:hover {\n",
              "    background-color: #434B5C;\n",
              "    box-shadow: 0px 1px 3px 1px rgba(0, 0, 0, 0.15);\n",
              "    filter: drop-shadow(0px 1px 2px rgba(0, 0, 0, 0.3));\n",
              "    fill: #FFFFFF;\n",
              "  }\n",
              "</style>\n",
              "\n",
              "  <script>\n",
              "    async function quickchart(key) {\n",
              "      const charts = await google.colab.kernel.invokeFunction(\n",
              "          'suggestCharts', [key], {});\n",
              "    }\n",
              "    (() => {\n",
              "      let quickchartButtonEl =\n",
              "        document.querySelector('#df-908d5b3c-2e06-4943-bb11-df5be5297590 button');\n",
              "      quickchartButtonEl.style.display =\n",
              "        google.colab.kernel.accessAllowed ? 'block' : 'none';\n",
              "    })();\n",
              "  </script>\n",
              "</div>\n",
              "    </div>\n",
              "  </div>\n"
            ]
          },
          "metadata": {},
          "execution_count": 3
        }
      ],
      "source": [
        "\n",
        "from sklearn.preprocessing import LabelEncoder\n",
        "le = LabelEncoder()\n",
        "df.Class =le.fit_transform(df.Class)\n",
        "df.theft = le.fit_transform(df.theft)\n",
        "df"
      ]
    },
    {
      "cell_type": "code",
      "execution_count": null,
      "metadata": {
        "colab": {
          "base_uri": "https://localhost:8080/",
          "height": 261
        },
        "id": "jbw5pwCPzJRB",
        "outputId": "bee428b4-29c2-4e19-d633-f5e3348be0bd"
      },
      "outputs": [
        {
          "output_type": "execute_result",
          "data": {
            "text/plain": [
              "   0  Electricity:Facility [kW](Hourly)  Fans:Electricity [kW](Hourly)  \\\n",
              "0  0                          22.035977                       3.586221   \n",
              "1  1                          14.649757                       0.000000   \n",
              "2  2                          14.669567                       0.000000   \n",
              "3  3                          14.677808                       0.000000   \n",
              "4  4                          14.824794                       0.000000   \n",
              "\n",
              "   Cooling:Electricity [kW](Hourly)  Heating:Electricity [kW](Hourly)  \\\n",
              "0                               0.0                               0.0   \n",
              "1                               0.0                               0.0   \n",
              "2                               0.0                               0.0   \n",
              "3                               0.0                               0.0   \n",
              "4                               0.0                               0.0   \n",
              "\n",
              "   InteriorLights:Electricity [kW](Hourly)  \\\n",
              "0                                 4.589925   \n",
              "1                                 1.529975   \n",
              "2                                 1.529975   \n",
              "3                                 1.529975   \n",
              "4                                 1.529975   \n",
              "\n",
              "   InteriorEquipment:Electricity [kW](Hourly)  Gas:Facility [kW](Hourly)  \\\n",
              "0                                      8.1892                 136.585903   \n",
              "1                                      7.4902                   3.359880   \n",
              "2                                      7.4902                   3.359880   \n",
              "3                                      7.4902                   3.931932   \n",
              "4                                      7.4902                   3.359880   \n",
              "\n",
              "   Heating:Gas [kW](Hourly)  InteriorEquipment:Gas [kW](Hourly)  \\\n",
              "0                123.999076                             3.33988   \n",
              "1                  0.000000                             3.33988   \n",
              "2                  0.000000                             3.33988   \n",
              "3                  0.000000                             3.33988   \n",
              "4                  0.000000                             3.33988   \n",
              "\n",
              "   Water Heater:WaterSystems:Gas [kW](Hourly)  Class  theft  \n",
              "0                                    9.246947      1      0  \n",
              "1                                    0.020000      1      0  \n",
              "2                                    0.020000      1      0  \n",
              "3                                    0.592052      1      0  \n",
              "4                                    0.020000      1      0  "
            ],
            "text/html": [
              "\n",
              "  <div id=\"df-5bbc1a86-6e7b-46f6-b2ab-57ac96bf991f\" class=\"colab-df-container\">\n",
              "    <div>\n",
              "<style scoped>\n",
              "    .dataframe tbody tr th:only-of-type {\n",
              "        vertical-align: middle;\n",
              "    }\n",
              "\n",
              "    .dataframe tbody tr th {\n",
              "        vertical-align: top;\n",
              "    }\n",
              "\n",
              "    .dataframe thead th {\n",
              "        text-align: right;\n",
              "    }\n",
              "</style>\n",
              "<table border=\"1\" class=\"dataframe\">\n",
              "  <thead>\n",
              "    <tr style=\"text-align: right;\">\n",
              "      <th></th>\n",
              "      <th>0</th>\n",
              "      <th>Electricity:Facility [kW](Hourly)</th>\n",
              "      <th>Fans:Electricity [kW](Hourly)</th>\n",
              "      <th>Cooling:Electricity [kW](Hourly)</th>\n",
              "      <th>Heating:Electricity [kW](Hourly)</th>\n",
              "      <th>InteriorLights:Electricity [kW](Hourly)</th>\n",
              "      <th>InteriorEquipment:Electricity [kW](Hourly)</th>\n",
              "      <th>Gas:Facility [kW](Hourly)</th>\n",
              "      <th>Heating:Gas [kW](Hourly)</th>\n",
              "      <th>InteriorEquipment:Gas [kW](Hourly)</th>\n",
              "      <th>Water Heater:WaterSystems:Gas [kW](Hourly)</th>\n",
              "      <th>Class</th>\n",
              "      <th>theft</th>\n",
              "    </tr>\n",
              "  </thead>\n",
              "  <tbody>\n",
              "    <tr>\n",
              "      <th>0</th>\n",
              "      <td>0</td>\n",
              "      <td>22.035977</td>\n",
              "      <td>3.586221</td>\n",
              "      <td>0.0</td>\n",
              "      <td>0.0</td>\n",
              "      <td>4.589925</td>\n",
              "      <td>8.1892</td>\n",
              "      <td>136.585903</td>\n",
              "      <td>123.999076</td>\n",
              "      <td>3.33988</td>\n",
              "      <td>9.246947</td>\n",
              "      <td>1</td>\n",
              "      <td>0</td>\n",
              "    </tr>\n",
              "    <tr>\n",
              "      <th>1</th>\n",
              "      <td>1</td>\n",
              "      <td>14.649757</td>\n",
              "      <td>0.000000</td>\n",
              "      <td>0.0</td>\n",
              "      <td>0.0</td>\n",
              "      <td>1.529975</td>\n",
              "      <td>7.4902</td>\n",
              "      <td>3.359880</td>\n",
              "      <td>0.000000</td>\n",
              "      <td>3.33988</td>\n",
              "      <td>0.020000</td>\n",
              "      <td>1</td>\n",
              "      <td>0</td>\n",
              "    </tr>\n",
              "    <tr>\n",
              "      <th>2</th>\n",
              "      <td>2</td>\n",
              "      <td>14.669567</td>\n",
              "      <td>0.000000</td>\n",
              "      <td>0.0</td>\n",
              "      <td>0.0</td>\n",
              "      <td>1.529975</td>\n",
              "      <td>7.4902</td>\n",
              "      <td>3.359880</td>\n",
              "      <td>0.000000</td>\n",
              "      <td>3.33988</td>\n",
              "      <td>0.020000</td>\n",
              "      <td>1</td>\n",
              "      <td>0</td>\n",
              "    </tr>\n",
              "    <tr>\n",
              "      <th>3</th>\n",
              "      <td>3</td>\n",
              "      <td>14.677808</td>\n",
              "      <td>0.000000</td>\n",
              "      <td>0.0</td>\n",
              "      <td>0.0</td>\n",
              "      <td>1.529975</td>\n",
              "      <td>7.4902</td>\n",
              "      <td>3.931932</td>\n",
              "      <td>0.000000</td>\n",
              "      <td>3.33988</td>\n",
              "      <td>0.592052</td>\n",
              "      <td>1</td>\n",
              "      <td>0</td>\n",
              "    </tr>\n",
              "    <tr>\n",
              "      <th>4</th>\n",
              "      <td>4</td>\n",
              "      <td>14.824794</td>\n",
              "      <td>0.000000</td>\n",
              "      <td>0.0</td>\n",
              "      <td>0.0</td>\n",
              "      <td>1.529975</td>\n",
              "      <td>7.4902</td>\n",
              "      <td>3.359880</td>\n",
              "      <td>0.000000</td>\n",
              "      <td>3.33988</td>\n",
              "      <td>0.020000</td>\n",
              "      <td>1</td>\n",
              "      <td>0</td>\n",
              "    </tr>\n",
              "  </tbody>\n",
              "</table>\n",
              "</div>\n",
              "    <div class=\"colab-df-buttons\">\n",
              "\n",
              "  <div class=\"colab-df-container\">\n",
              "    <button class=\"colab-df-convert\" onclick=\"convertToInteractive('df-5bbc1a86-6e7b-46f6-b2ab-57ac96bf991f')\"\n",
              "            title=\"Convert this dataframe to an interactive table.\"\n",
              "            style=\"display:none;\">\n",
              "\n",
              "  <svg xmlns=\"http://www.w3.org/2000/svg\" height=\"24px\" viewBox=\"0 -960 960 960\">\n",
              "    <path d=\"M120-120v-720h720v720H120Zm60-500h600v-160H180v160Zm220 220h160v-160H400v160Zm0 220h160v-160H400v160ZM180-400h160v-160H180v160Zm440 0h160v-160H620v160ZM180-180h160v-160H180v160Zm440 0h160v-160H620v160Z\"/>\n",
              "  </svg>\n",
              "    </button>\n",
              "\n",
              "  <style>\n",
              "    .colab-df-container {\n",
              "      display:flex;\n",
              "      gap: 12px;\n",
              "    }\n",
              "\n",
              "    .colab-df-convert {\n",
              "      background-color: #E8F0FE;\n",
              "      border: none;\n",
              "      border-radius: 50%;\n",
              "      cursor: pointer;\n",
              "      display: none;\n",
              "      fill: #1967D2;\n",
              "      height: 32px;\n",
              "      padding: 0 0 0 0;\n",
              "      width: 32px;\n",
              "    }\n",
              "\n",
              "    .colab-df-convert:hover {\n",
              "      background-color: #E2EBFA;\n",
              "      box-shadow: 0px 1px 2px rgba(60, 64, 67, 0.3), 0px 1px 3px 1px rgba(60, 64, 67, 0.15);\n",
              "      fill: #174EA6;\n",
              "    }\n",
              "\n",
              "    .colab-df-buttons div {\n",
              "      margin-bottom: 4px;\n",
              "    }\n",
              "\n",
              "    [theme=dark] .colab-df-convert {\n",
              "      background-color: #3B4455;\n",
              "      fill: #D2E3FC;\n",
              "    }\n",
              "\n",
              "    [theme=dark] .colab-df-convert:hover {\n",
              "      background-color: #434B5C;\n",
              "      box-shadow: 0px 1px 3px 1px rgba(0, 0, 0, 0.15);\n",
              "      filter: drop-shadow(0px 1px 2px rgba(0, 0, 0, 0.3));\n",
              "      fill: #FFFFFF;\n",
              "    }\n",
              "  </style>\n",
              "\n",
              "    <script>\n",
              "      const buttonEl =\n",
              "        document.querySelector('#df-5bbc1a86-6e7b-46f6-b2ab-57ac96bf991f button.colab-df-convert');\n",
              "      buttonEl.style.display =\n",
              "        google.colab.kernel.accessAllowed ? 'block' : 'none';\n",
              "\n",
              "      async function convertToInteractive(key) {\n",
              "        const element = document.querySelector('#df-5bbc1a86-6e7b-46f6-b2ab-57ac96bf991f');\n",
              "        const dataTable =\n",
              "          await google.colab.kernel.invokeFunction('convertToInteractive',\n",
              "                                                    [key], {});\n",
              "        if (!dataTable) return;\n",
              "\n",
              "        const docLinkHtml = 'Like what you see? Visit the ' +\n",
              "          '<a target=\"_blank\" href=https://colab.research.google.com/notebooks/data_table.ipynb>data table notebook</a>'\n",
              "          + ' to learn more about interactive tables.';\n",
              "        element.innerHTML = '';\n",
              "        dataTable['output_type'] = 'display_data';\n",
              "        await google.colab.output.renderOutput(dataTable, element);\n",
              "        const docLink = document.createElement('div');\n",
              "        docLink.innerHTML = docLinkHtml;\n",
              "        element.appendChild(docLink);\n",
              "      }\n",
              "    </script>\n",
              "  </div>\n",
              "\n",
              "\n",
              "<div id=\"df-38a5f513-446d-46d6-9e13-1e62ac59a303\">\n",
              "  <button class=\"colab-df-quickchart\" onclick=\"quickchart('df-38a5f513-446d-46d6-9e13-1e62ac59a303')\"\n",
              "            title=\"Suggest charts.\"\n",
              "            style=\"display:none;\">\n",
              "\n",
              "<svg xmlns=\"http://www.w3.org/2000/svg\" height=\"24px\"viewBox=\"0 0 24 24\"\n",
              "     width=\"24px\">\n",
              "    <g>\n",
              "        <path d=\"M19 3H5c-1.1 0-2 .9-2 2v14c0 1.1.9 2 2 2h14c1.1 0 2-.9 2-2V5c0-1.1-.9-2-2-2zM9 17H7v-7h2v7zm4 0h-2V7h2v10zm4 0h-2v-4h2v4z\"/>\n",
              "    </g>\n",
              "</svg>\n",
              "  </button>\n",
              "\n",
              "<style>\n",
              "  .colab-df-quickchart {\n",
              "    background-color: #E8F0FE;\n",
              "    border: none;\n",
              "    border-radius: 50%;\n",
              "    cursor: pointer;\n",
              "    display: none;\n",
              "    fill: #1967D2;\n",
              "    height: 32px;\n",
              "    padding: 0 0 0 0;\n",
              "    width: 32px;\n",
              "  }\n",
              "\n",
              "  .colab-df-quickchart:hover {\n",
              "    background-color: #E2EBFA;\n",
              "    box-shadow: 0px 1px 2px rgba(60, 64, 67, 0.3), 0px 1px 3px 1px rgba(60, 64, 67, 0.15);\n",
              "    fill: #174EA6;\n",
              "  }\n",
              "\n",
              "  [theme=dark] .colab-df-quickchart {\n",
              "    background-color: #3B4455;\n",
              "    fill: #D2E3FC;\n",
              "  }\n",
              "\n",
              "  [theme=dark] .colab-df-quickchart:hover {\n",
              "    background-color: #434B5C;\n",
              "    box-shadow: 0px 1px 3px 1px rgba(0, 0, 0, 0.15);\n",
              "    filter: drop-shadow(0px 1px 2px rgba(0, 0, 0, 0.3));\n",
              "    fill: #FFFFFF;\n",
              "  }\n",
              "</style>\n",
              "\n",
              "  <script>\n",
              "    async function quickchart(key) {\n",
              "      const charts = await google.colab.kernel.invokeFunction(\n",
              "          'suggestCharts', [key], {});\n",
              "    }\n",
              "    (() => {\n",
              "      let quickchartButtonEl =\n",
              "        document.querySelector('#df-38a5f513-446d-46d6-9e13-1e62ac59a303 button');\n",
              "      quickchartButtonEl.style.display =\n",
              "        google.colab.kernel.accessAllowed ? 'block' : 'none';\n",
              "    })();\n",
              "  </script>\n",
              "</div>\n",
              "    </div>\n",
              "  </div>\n"
            ]
          },
          "metadata": {},
          "execution_count": 4
        }
      ],
      "source": [
        "df.head(5)"
      ]
    },
    {
      "cell_type": "code",
      "execution_count": null,
      "metadata": {
        "colab": {
          "base_uri": "https://localhost:8080/"
        },
        "id": "PyHV5J6UzLpK",
        "outputId": "bdb0191a-8530-4b94-8aa3-857a7d9c0f77"
      },
      "outputs": [
        {
          "output_type": "execute_result",
          "data": {
            "text/plain": [
              "0                                             False\n",
              "Electricity:Facility [kW](Hourly)             False\n",
              "Fans:Electricity [kW](Hourly)                 False\n",
              "Cooling:Electricity [kW](Hourly)              False\n",
              "Heating:Electricity [kW](Hourly)              False\n",
              "InteriorLights:Electricity [kW](Hourly)       False\n",
              "InteriorEquipment:Electricity [kW](Hourly)    False\n",
              "Gas:Facility [kW](Hourly)                     False\n",
              "Heating:Gas [kW](Hourly)                      False\n",
              "InteriorEquipment:Gas [kW](Hourly)            False\n",
              "Water Heater:WaterSystems:Gas [kW](Hourly)    False\n",
              "Class                                         False\n",
              "theft                                         False\n",
              "dtype: bool"
            ]
          },
          "metadata": {},
          "execution_count": 5
        }
      ],
      "source": [
        "df.isnull().any()"
      ]
    },
    {
      "cell_type": "code",
      "execution_count": null,
      "metadata": {
        "id": "TZUCODNGzOVr"
      },
      "outputs": [],
      "source": [
        "import numpy as np\n",
        "df.interpolate(method = 'linear', limit_direction='backward' , inplace=True)\n",
        "df.interpolate(method = 'linear', limit_direction='forward', inplace=True)\n",
        "df.fillna(df.median(numeric_only=True).round(1),inplace=True)"
      ]
    },
    {
      "cell_type": "code",
      "execution_count": null,
      "metadata": {
        "colab": {
          "base_uri": "https://localhost:8080/"
        },
        "id": "Ln1lYLX1zTIw",
        "outputId": "1360f38e-ffbe-4326-c0ca-9f12b8d55dec"
      },
      "outputs": [
        {
          "output_type": "execute_result",
          "data": {
            "text/plain": [
              "0                                             False\n",
              "Electricity:Facility [kW](Hourly)             False\n",
              "Fans:Electricity [kW](Hourly)                 False\n",
              "Cooling:Electricity [kW](Hourly)              False\n",
              "Heating:Electricity [kW](Hourly)              False\n",
              "InteriorLights:Electricity [kW](Hourly)       False\n",
              "InteriorEquipment:Electricity [kW](Hourly)    False\n",
              "Gas:Facility [kW](Hourly)                     False\n",
              "Heating:Gas [kW](Hourly)                      False\n",
              "InteriorEquipment:Gas [kW](Hourly)            False\n",
              "Water Heater:WaterSystems:Gas [kW](Hourly)    False\n",
              "Class                                         False\n",
              "theft                                         False\n",
              "dtype: bool"
            ]
          },
          "metadata": {},
          "execution_count": 7
        }
      ],
      "source": [
        "df.isnull().any()"
      ]
    },
    {
      "cell_type": "code",
      "execution_count": null,
      "metadata": {
        "colab": {
          "base_uri": "https://localhost:8080/",
          "height": 478
        },
        "id": "Y_KLHM9PzVg9",
        "outputId": "554d3c8e-0775-4f50-cfa3-8d1866624583"
      },
      "outputs": [
        {
          "output_type": "execute_result",
          "data": {
            "text/plain": [
              "            0  Electricity:Facility [kW](Hourly)  \\\n",
              "0       False                              False   \n",
              "1       False                              False   \n",
              "2       False                              False   \n",
              "3       False                              False   \n",
              "4       False                              False   \n",
              "...       ...                                ...   \n",
              "560650  False                              False   \n",
              "560651  False                              False   \n",
              "560652  False                              False   \n",
              "560653  False                              False   \n",
              "560654  False                              False   \n",
              "\n",
              "        Fans:Electricity [kW](Hourly)  Cooling:Electricity [kW](Hourly)  \\\n",
              "0                               False                             False   \n",
              "1                               False                             False   \n",
              "2                               False                             False   \n",
              "3                               False                             False   \n",
              "4                               False                             False   \n",
              "...                               ...                               ...   \n",
              "560650                          False                             False   \n",
              "560651                          False                             False   \n",
              "560652                          False                             False   \n",
              "560653                          False                             False   \n",
              "560654                          False                             False   \n",
              "\n",
              "        Heating:Electricity [kW](Hourly)  \\\n",
              "0                                  False   \n",
              "1                                  False   \n",
              "2                                  False   \n",
              "3                                  False   \n",
              "4                                  False   \n",
              "...                                  ...   \n",
              "560650                             False   \n",
              "560651                             False   \n",
              "560652                             False   \n",
              "560653                             False   \n",
              "560654                             False   \n",
              "\n",
              "        InteriorLights:Electricity [kW](Hourly)  \\\n",
              "0                                         False   \n",
              "1                                         False   \n",
              "2                                         False   \n",
              "3                                         False   \n",
              "4                                         False   \n",
              "...                                         ...   \n",
              "560650                                    False   \n",
              "560651                                    False   \n",
              "560652                                    False   \n",
              "560653                                    False   \n",
              "560654                                    False   \n",
              "\n",
              "        InteriorEquipment:Electricity [kW](Hourly)  Gas:Facility [kW](Hourly)  \\\n",
              "0                                            False                      False   \n",
              "1                                            False                      False   \n",
              "2                                            False                      False   \n",
              "3                                            False                      False   \n",
              "4                                            False                      False   \n",
              "...                                            ...                        ...   \n",
              "560650                                       False                      False   \n",
              "560651                                       False                      False   \n",
              "560652                                       False                      False   \n",
              "560653                                       False                      False   \n",
              "560654                                       False                      False   \n",
              "\n",
              "        Heating:Gas [kW](Hourly)  InteriorEquipment:Gas [kW](Hourly)  \\\n",
              "0                          False                               False   \n",
              "1                          False                               False   \n",
              "2                          False                               False   \n",
              "3                          False                               False   \n",
              "4                          False                               False   \n",
              "...                          ...                                 ...   \n",
              "560650                     False                               False   \n",
              "560651                     False                               False   \n",
              "560652                     False                               False   \n",
              "560653                     False                               False   \n",
              "560654                     False                               False   \n",
              "\n",
              "        Water Heater:WaterSystems:Gas [kW](Hourly)  Class  theft  \n",
              "0                                            False  False  False  \n",
              "1                                            False  False  False  \n",
              "2                                            False  False  False  \n",
              "3                                            False  False  False  \n",
              "4                                            False  False  False  \n",
              "...                                            ...    ...    ...  \n",
              "560650                                       False  False  False  \n",
              "560651                                       False  False  False  \n",
              "560652                                       False  False  False  \n",
              "560653                                       False  False  False  \n",
              "560654                                       False  False  False  \n",
              "\n",
              "[560655 rows x 13 columns]"
            ],
            "text/html": [
              "\n",
              "  <div id=\"df-9c893ae1-4825-418b-b5e5-111bcfe32f43\" class=\"colab-df-container\">\n",
              "    <div>\n",
              "<style scoped>\n",
              "    .dataframe tbody tr th:only-of-type {\n",
              "        vertical-align: middle;\n",
              "    }\n",
              "\n",
              "    .dataframe tbody tr th {\n",
              "        vertical-align: top;\n",
              "    }\n",
              "\n",
              "    .dataframe thead th {\n",
              "        text-align: right;\n",
              "    }\n",
              "</style>\n",
              "<table border=\"1\" class=\"dataframe\">\n",
              "  <thead>\n",
              "    <tr style=\"text-align: right;\">\n",
              "      <th></th>\n",
              "      <th>0</th>\n",
              "      <th>Electricity:Facility [kW](Hourly)</th>\n",
              "      <th>Fans:Electricity [kW](Hourly)</th>\n",
              "      <th>Cooling:Electricity [kW](Hourly)</th>\n",
              "      <th>Heating:Electricity [kW](Hourly)</th>\n",
              "      <th>InteriorLights:Electricity [kW](Hourly)</th>\n",
              "      <th>InteriorEquipment:Electricity [kW](Hourly)</th>\n",
              "      <th>Gas:Facility [kW](Hourly)</th>\n",
              "      <th>Heating:Gas [kW](Hourly)</th>\n",
              "      <th>InteriorEquipment:Gas [kW](Hourly)</th>\n",
              "      <th>Water Heater:WaterSystems:Gas [kW](Hourly)</th>\n",
              "      <th>Class</th>\n",
              "      <th>theft</th>\n",
              "    </tr>\n",
              "  </thead>\n",
              "  <tbody>\n",
              "    <tr>\n",
              "      <th>0</th>\n",
              "      <td>False</td>\n",
              "      <td>False</td>\n",
              "      <td>False</td>\n",
              "      <td>False</td>\n",
              "      <td>False</td>\n",
              "      <td>False</td>\n",
              "      <td>False</td>\n",
              "      <td>False</td>\n",
              "      <td>False</td>\n",
              "      <td>False</td>\n",
              "      <td>False</td>\n",
              "      <td>False</td>\n",
              "      <td>False</td>\n",
              "    </tr>\n",
              "    <tr>\n",
              "      <th>1</th>\n",
              "      <td>False</td>\n",
              "      <td>False</td>\n",
              "      <td>False</td>\n",
              "      <td>False</td>\n",
              "      <td>False</td>\n",
              "      <td>False</td>\n",
              "      <td>False</td>\n",
              "      <td>False</td>\n",
              "      <td>False</td>\n",
              "      <td>False</td>\n",
              "      <td>False</td>\n",
              "      <td>False</td>\n",
              "      <td>False</td>\n",
              "    </tr>\n",
              "    <tr>\n",
              "      <th>2</th>\n",
              "      <td>False</td>\n",
              "      <td>False</td>\n",
              "      <td>False</td>\n",
              "      <td>False</td>\n",
              "      <td>False</td>\n",
              "      <td>False</td>\n",
              "      <td>False</td>\n",
              "      <td>False</td>\n",
              "      <td>False</td>\n",
              "      <td>False</td>\n",
              "      <td>False</td>\n",
              "      <td>False</td>\n",
              "      <td>False</td>\n",
              "    </tr>\n",
              "    <tr>\n",
              "      <th>3</th>\n",
              "      <td>False</td>\n",
              "      <td>False</td>\n",
              "      <td>False</td>\n",
              "      <td>False</td>\n",
              "      <td>False</td>\n",
              "      <td>False</td>\n",
              "      <td>False</td>\n",
              "      <td>False</td>\n",
              "      <td>False</td>\n",
              "      <td>False</td>\n",
              "      <td>False</td>\n",
              "      <td>False</td>\n",
              "      <td>False</td>\n",
              "    </tr>\n",
              "    <tr>\n",
              "      <th>4</th>\n",
              "      <td>False</td>\n",
              "      <td>False</td>\n",
              "      <td>False</td>\n",
              "      <td>False</td>\n",
              "      <td>False</td>\n",
              "      <td>False</td>\n",
              "      <td>False</td>\n",
              "      <td>False</td>\n",
              "      <td>False</td>\n",
              "      <td>False</td>\n",
              "      <td>False</td>\n",
              "      <td>False</td>\n",
              "      <td>False</td>\n",
              "    </tr>\n",
              "    <tr>\n",
              "      <th>...</th>\n",
              "      <td>...</td>\n",
              "      <td>...</td>\n",
              "      <td>...</td>\n",
              "      <td>...</td>\n",
              "      <td>...</td>\n",
              "      <td>...</td>\n",
              "      <td>...</td>\n",
              "      <td>...</td>\n",
              "      <td>...</td>\n",
              "      <td>...</td>\n",
              "      <td>...</td>\n",
              "      <td>...</td>\n",
              "      <td>...</td>\n",
              "    </tr>\n",
              "    <tr>\n",
              "      <th>560650</th>\n",
              "      <td>False</td>\n",
              "      <td>False</td>\n",
              "      <td>False</td>\n",
              "      <td>False</td>\n",
              "      <td>False</td>\n",
              "      <td>False</td>\n",
              "      <td>False</td>\n",
              "      <td>False</td>\n",
              "      <td>False</td>\n",
              "      <td>False</td>\n",
              "      <td>False</td>\n",
              "      <td>False</td>\n",
              "      <td>False</td>\n",
              "    </tr>\n",
              "    <tr>\n",
              "      <th>560651</th>\n",
              "      <td>False</td>\n",
              "      <td>False</td>\n",
              "      <td>False</td>\n",
              "      <td>False</td>\n",
              "      <td>False</td>\n",
              "      <td>False</td>\n",
              "      <td>False</td>\n",
              "      <td>False</td>\n",
              "      <td>False</td>\n",
              "      <td>False</td>\n",
              "      <td>False</td>\n",
              "      <td>False</td>\n",
              "      <td>False</td>\n",
              "    </tr>\n",
              "    <tr>\n",
              "      <th>560652</th>\n",
              "      <td>False</td>\n",
              "      <td>False</td>\n",
              "      <td>False</td>\n",
              "      <td>False</td>\n",
              "      <td>False</td>\n",
              "      <td>False</td>\n",
              "      <td>False</td>\n",
              "      <td>False</td>\n",
              "      <td>False</td>\n",
              "      <td>False</td>\n",
              "      <td>False</td>\n",
              "      <td>False</td>\n",
              "      <td>False</td>\n",
              "    </tr>\n",
              "    <tr>\n",
              "      <th>560653</th>\n",
              "      <td>False</td>\n",
              "      <td>False</td>\n",
              "      <td>False</td>\n",
              "      <td>False</td>\n",
              "      <td>False</td>\n",
              "      <td>False</td>\n",
              "      <td>False</td>\n",
              "      <td>False</td>\n",
              "      <td>False</td>\n",
              "      <td>False</td>\n",
              "      <td>False</td>\n",
              "      <td>False</td>\n",
              "      <td>False</td>\n",
              "    </tr>\n",
              "    <tr>\n",
              "      <th>560654</th>\n",
              "      <td>False</td>\n",
              "      <td>False</td>\n",
              "      <td>False</td>\n",
              "      <td>False</td>\n",
              "      <td>False</td>\n",
              "      <td>False</td>\n",
              "      <td>False</td>\n",
              "      <td>False</td>\n",
              "      <td>False</td>\n",
              "      <td>False</td>\n",
              "      <td>False</td>\n",
              "      <td>False</td>\n",
              "      <td>False</td>\n",
              "    </tr>\n",
              "  </tbody>\n",
              "</table>\n",
              "<p>560655 rows × 13 columns</p>\n",
              "</div>\n",
              "    <div class=\"colab-df-buttons\">\n",
              "\n",
              "  <div class=\"colab-df-container\">\n",
              "    <button class=\"colab-df-convert\" onclick=\"convertToInteractive('df-9c893ae1-4825-418b-b5e5-111bcfe32f43')\"\n",
              "            title=\"Convert this dataframe to an interactive table.\"\n",
              "            style=\"display:none;\">\n",
              "\n",
              "  <svg xmlns=\"http://www.w3.org/2000/svg\" height=\"24px\" viewBox=\"0 -960 960 960\">\n",
              "    <path d=\"M120-120v-720h720v720H120Zm60-500h600v-160H180v160Zm220 220h160v-160H400v160Zm0 220h160v-160H400v160ZM180-400h160v-160H180v160Zm440 0h160v-160H620v160ZM180-180h160v-160H180v160Zm440 0h160v-160H620v160Z\"/>\n",
              "  </svg>\n",
              "    </button>\n",
              "\n",
              "  <style>\n",
              "    .colab-df-container {\n",
              "      display:flex;\n",
              "      gap: 12px;\n",
              "    }\n",
              "\n",
              "    .colab-df-convert {\n",
              "      background-color: #E8F0FE;\n",
              "      border: none;\n",
              "      border-radius: 50%;\n",
              "      cursor: pointer;\n",
              "      display: none;\n",
              "      fill: #1967D2;\n",
              "      height: 32px;\n",
              "      padding: 0 0 0 0;\n",
              "      width: 32px;\n",
              "    }\n",
              "\n",
              "    .colab-df-convert:hover {\n",
              "      background-color: #E2EBFA;\n",
              "      box-shadow: 0px 1px 2px rgba(60, 64, 67, 0.3), 0px 1px 3px 1px rgba(60, 64, 67, 0.15);\n",
              "      fill: #174EA6;\n",
              "    }\n",
              "\n",
              "    .colab-df-buttons div {\n",
              "      margin-bottom: 4px;\n",
              "    }\n",
              "\n",
              "    [theme=dark] .colab-df-convert {\n",
              "      background-color: #3B4455;\n",
              "      fill: #D2E3FC;\n",
              "    }\n",
              "\n",
              "    [theme=dark] .colab-df-convert:hover {\n",
              "      background-color: #434B5C;\n",
              "      box-shadow: 0px 1px 3px 1px rgba(0, 0, 0, 0.15);\n",
              "      filter: drop-shadow(0px 1px 2px rgba(0, 0, 0, 0.3));\n",
              "      fill: #FFFFFF;\n",
              "    }\n",
              "  </style>\n",
              "\n",
              "    <script>\n",
              "      const buttonEl =\n",
              "        document.querySelector('#df-9c893ae1-4825-418b-b5e5-111bcfe32f43 button.colab-df-convert');\n",
              "      buttonEl.style.display =\n",
              "        google.colab.kernel.accessAllowed ? 'block' : 'none';\n",
              "\n",
              "      async function convertToInteractive(key) {\n",
              "        const element = document.querySelector('#df-9c893ae1-4825-418b-b5e5-111bcfe32f43');\n",
              "        const dataTable =\n",
              "          await google.colab.kernel.invokeFunction('convertToInteractive',\n",
              "                                                    [key], {});\n",
              "        if (!dataTable) return;\n",
              "\n",
              "        const docLinkHtml = 'Like what you see? Visit the ' +\n",
              "          '<a target=\"_blank\" href=https://colab.research.google.com/notebooks/data_table.ipynb>data table notebook</a>'\n",
              "          + ' to learn more about interactive tables.';\n",
              "        element.innerHTML = '';\n",
              "        dataTable['output_type'] = 'display_data';\n",
              "        await google.colab.output.renderOutput(dataTable, element);\n",
              "        const docLink = document.createElement('div');\n",
              "        docLink.innerHTML = docLinkHtml;\n",
              "        element.appendChild(docLink);\n",
              "      }\n",
              "    </script>\n",
              "  </div>\n",
              "\n",
              "\n",
              "<div id=\"df-7bfa142b-8531-467f-9a20-f255c9da2c5c\">\n",
              "  <button class=\"colab-df-quickchart\" onclick=\"quickchart('df-7bfa142b-8531-467f-9a20-f255c9da2c5c')\"\n",
              "            title=\"Suggest charts.\"\n",
              "            style=\"display:none;\">\n",
              "\n",
              "<svg xmlns=\"http://www.w3.org/2000/svg\" height=\"24px\"viewBox=\"0 0 24 24\"\n",
              "     width=\"24px\">\n",
              "    <g>\n",
              "        <path d=\"M19 3H5c-1.1 0-2 .9-2 2v14c0 1.1.9 2 2 2h14c1.1 0 2-.9 2-2V5c0-1.1-.9-2-2-2zM9 17H7v-7h2v7zm4 0h-2V7h2v10zm4 0h-2v-4h2v4z\"/>\n",
              "    </g>\n",
              "</svg>\n",
              "  </button>\n",
              "\n",
              "<style>\n",
              "  .colab-df-quickchart {\n",
              "    background-color: #E8F0FE;\n",
              "    border: none;\n",
              "    border-radius: 50%;\n",
              "    cursor: pointer;\n",
              "    display: none;\n",
              "    fill: #1967D2;\n",
              "    height: 32px;\n",
              "    padding: 0 0 0 0;\n",
              "    width: 32px;\n",
              "  }\n",
              "\n",
              "  .colab-df-quickchart:hover {\n",
              "    background-color: #E2EBFA;\n",
              "    box-shadow: 0px 1px 2px rgba(60, 64, 67, 0.3), 0px 1px 3px 1px rgba(60, 64, 67, 0.15);\n",
              "    fill: #174EA6;\n",
              "  }\n",
              "\n",
              "  [theme=dark] .colab-df-quickchart {\n",
              "    background-color: #3B4455;\n",
              "    fill: #D2E3FC;\n",
              "  }\n",
              "\n",
              "  [theme=dark] .colab-df-quickchart:hover {\n",
              "    background-color: #434B5C;\n",
              "    box-shadow: 0px 1px 3px 1px rgba(0, 0, 0, 0.15);\n",
              "    filter: drop-shadow(0px 1px 2px rgba(0, 0, 0, 0.3));\n",
              "    fill: #FFFFFF;\n",
              "  }\n",
              "</style>\n",
              "\n",
              "  <script>\n",
              "    async function quickchart(key) {\n",
              "      const charts = await google.colab.kernel.invokeFunction(\n",
              "          'suggestCharts', [key], {});\n",
              "    }\n",
              "    (() => {\n",
              "      let quickchartButtonEl =\n",
              "        document.querySelector('#df-7bfa142b-8531-467f-9a20-f255c9da2c5c button');\n",
              "      quickchartButtonEl.style.display =\n",
              "        google.colab.kernel.accessAllowed ? 'block' : 'none';\n",
              "    })();\n",
              "  </script>\n",
              "</div>\n",
              "    </div>\n",
              "  </div>\n"
            ]
          },
          "metadata": {},
          "execution_count": 8
        }
      ],
      "source": [
        "df.isnull()"
      ]
    },
    {
      "cell_type": "markdown",
      "source": [
        "IQR method for data removal"
      ],
      "metadata": {
        "id": "08wcEXifnJ45"
      }
    },
    {
      "cell_type": "code",
      "execution_count": null,
      "metadata": {
        "id": "2QhAE8DFzX0D"
      },
      "outputs": [],
      "source": [
        "\n",
        "# def Outliers(data):\n",
        "#   outliers = [None for i in range(560640)]\n",
        "#   for i in range(len(data.columns)):\n",
        "#     feature1 = data.columns[i]\n",
        "#     feature2 = data[feature1]\n",
        "#     IQR = feature2.quantile(0.75)-feature2.quantile(0.25)\n",
        "#     lwr_bound = data[feature1].quantile(0.25) - (IQR*1.5)\n",
        "#     upr_bound = data[feature1].quantile(0.75) + (IQR*1.5)\n",
        "#     df1 = data[feature1]\n",
        "#     np.array(df1)\n",
        "#     p = 560640\n",
        "#     for j in range(p):\n",
        "#       if df1[j] > upr_bound or df1[j] <lwr_bound:\n",
        "#         outliers[j] = 1\n",
        "#       if outliers[j] == 1:\n",
        "#         outliers[j] = 1\n",
        "#       else:\n",
        "#         outliers[j] = 0\n",
        "\n",
        "#   return outliers"
      ]
    },
    {
      "cell_type": "code",
      "source": [
        "# from pprint import pprint\n",
        "# printable = 'long statement'\n",
        "# pprint(printable)"
      ],
      "metadata": {
        "id": "z_OKILKgxpyx"
      },
      "execution_count": null,
      "outputs": []
    },
    {
      "cell_type": "markdown",
      "source": [
        "Z score method for outlier removal"
      ],
      "metadata": {
        "id": "PGAkAkgjnOvD"
      }
    },
    {
      "cell_type": "code",
      "source": [
        "\n",
        "# outliers = [None for i in  range(560640)]\n",
        "# def Outliers(data):\n",
        "#   for i  in range(len(data.columns)):\n",
        "#     feature1 = data.columns[i]\n",
        "#     feature2 = data[feature1]\n",
        "#     mean = sum(feature2)/len(feature2)\n",
        "#     difference = [( item - mean)**2 for item in feature2]\n",
        "#     sum_of_difference = sum(difference)\n",
        "#     sd_deviation = (sum_of_difference / (len(feature2)-1))**0.5\n",
        "#     Zscore = [(item - mean)/ sd_deviation for item in feature2]\n",
        "#     print(Zscore)\n",
        "#     # p = 560640\n",
        "#   #   for j in range(p):\n",
        "#   #     if Zscore[j]<2 or Zscore[j]> -2:\n",
        "#   #       outliers[j] = 1\n",
        "#   #     if outliers[j] == 1:\n",
        "#   #       outliers[j] = 1\n",
        "#   #     else:\n",
        "#   #       outliers[j] = 0\n",
        "#   # return outliers"
      ],
      "metadata": {
        "id": "fBccW0h4rnod"
      },
      "execution_count": null,
      "outputs": []
    },
    {
      "cell_type": "code",
      "source": [
        "df.columns"
      ],
      "metadata": {
        "colab": {
          "base_uri": "https://localhost:8080/"
        },
        "id": "jLua0oJ1ozbf",
        "outputId": "35d2f582-1253-429e-c617-ced347379085"
      },
      "execution_count": null,
      "outputs": [
        {
          "output_type": "execute_result",
          "data": {
            "text/plain": [
              "Index(['0', 'Electricity:Facility [kW](Hourly)',\n",
              "       'Fans:Electricity [kW](Hourly)', 'Cooling:Electricity [kW](Hourly)',\n",
              "       'Heating:Electricity [kW](Hourly)',\n",
              "       'InteriorLights:Electricity [kW](Hourly)',\n",
              "       'InteriorEquipment:Electricity [kW](Hourly)',\n",
              "       'Gas:Facility [kW](Hourly)', 'Heating:Gas [kW](Hourly)',\n",
              "       'InteriorEquipment:Gas [kW](Hourly)',\n",
              "       'Water Heater:WaterSystems:Gas [kW](Hourly)', 'Class', 'theft'],\n",
              "      dtype='object')"
            ]
          },
          "metadata": {},
          "execution_count": 12
        }
      ]
    },
    {
      "cell_type": "code",
      "source": [
        "import pandas as pd\n",
        "bad_indx = []\n",
        "for col in df.columns:\n",
        "  z_score = (df[col] - df[col].mean())/df[col].std()\n",
        "  bad_nums = df[col][z_score.abs()>3]\n",
        "  bad_indx.extend(bad_nums.index)\n"
      ],
      "metadata": {
        "id": "SlKJdAjtnVWr"
      },
      "execution_count": null,
      "outputs": []
    },
    {
      "cell_type": "code",
      "source": [
        "def remove_outliers(index , data):\n",
        "  index = set(index)\n",
        "\n",
        "  data = data.drop(index , axis=0)\n",
        "  return data"
      ],
      "metadata": {
        "id": "KUcTnL2foPCZ"
      },
      "execution_count": null,
      "outputs": []
    },
    {
      "cell_type": "code",
      "source": [
        "df = remove_outliers(bad_indx , df)"
      ],
      "metadata": {
        "id": "BwiyMlXVoh7M"
      },
      "execution_count": null,
      "outputs": []
    },
    {
      "cell_type": "code",
      "execution_count": null,
      "metadata": {
        "id": "VDsbTFSxzaCP"
      },
      "outputs": [],
      "source": [
        "# colums = Outliers(df)"
      ]
    },
    {
      "cell_type": "code",
      "source": [
        "# print(colums)"
      ],
      "metadata": {
        "id": "CJBaJJttv-y8"
      },
      "execution_count": null,
      "outputs": []
    },
    {
      "cell_type": "code",
      "source": [
        "# print(len(colums))"
      ],
      "metadata": {
        "id": "HSe9NTi4vwgE"
      },
      "execution_count": null,
      "outputs": []
    },
    {
      "cell_type": "code",
      "source": [
        "df.head()"
      ],
      "metadata": {
        "colab": {
          "base_uri": "https://localhost:8080/",
          "height": 261
        },
        "id": "MmYeguWfrwZ1",
        "outputId": "0083f167-3acd-4220-8bbe-469a1b6049cf"
      },
      "execution_count": null,
      "outputs": [
        {
          "output_type": "execute_result",
          "data": {
            "text/plain": [
              "   0  Electricity:Facility [kW](Hourly)  Fans:Electricity [kW](Hourly)  \\\n",
              "0  0                          22.035977                       3.586221   \n",
              "1  1                          14.649757                       0.000000   \n",
              "2  2                          14.669567                       0.000000   \n",
              "3  3                          14.677808                       0.000000   \n",
              "4  4                          14.824794                       0.000000   \n",
              "\n",
              "   Cooling:Electricity [kW](Hourly)  Heating:Electricity [kW](Hourly)  \\\n",
              "0                               0.0                               0.0   \n",
              "1                               0.0                               0.0   \n",
              "2                               0.0                               0.0   \n",
              "3                               0.0                               0.0   \n",
              "4                               0.0                               0.0   \n",
              "\n",
              "   InteriorLights:Electricity [kW](Hourly)  \\\n",
              "0                                 4.589925   \n",
              "1                                 1.529975   \n",
              "2                                 1.529975   \n",
              "3                                 1.529975   \n",
              "4                                 1.529975   \n",
              "\n",
              "   InteriorEquipment:Electricity [kW](Hourly)  Gas:Facility [kW](Hourly)  \\\n",
              "0                                      8.1892                 136.585903   \n",
              "1                                      7.4902                   3.359880   \n",
              "2                                      7.4902                   3.359880   \n",
              "3                                      7.4902                   3.931932   \n",
              "4                                      7.4902                   3.359880   \n",
              "\n",
              "   Heating:Gas [kW](Hourly)  InteriorEquipment:Gas [kW](Hourly)  \\\n",
              "0                123.999076                             3.33988   \n",
              "1                  0.000000                             3.33988   \n",
              "2                  0.000000                             3.33988   \n",
              "3                  0.000000                             3.33988   \n",
              "4                  0.000000                             3.33988   \n",
              "\n",
              "   Water Heater:WaterSystems:Gas [kW](Hourly)  Class  theft  \n",
              "0                                    9.246947      1      0  \n",
              "1                                    0.020000      1      0  \n",
              "2                                    0.020000      1      0  \n",
              "3                                    0.592052      1      0  \n",
              "4                                    0.020000      1      0  "
            ],
            "text/html": [
              "\n",
              "  <div id=\"df-30f792c3-6c85-43d2-ac95-3cb7b6d140d2\" class=\"colab-df-container\">\n",
              "    <div>\n",
              "<style scoped>\n",
              "    .dataframe tbody tr th:only-of-type {\n",
              "        vertical-align: middle;\n",
              "    }\n",
              "\n",
              "    .dataframe tbody tr th {\n",
              "        vertical-align: top;\n",
              "    }\n",
              "\n",
              "    .dataframe thead th {\n",
              "        text-align: right;\n",
              "    }\n",
              "</style>\n",
              "<table border=\"1\" class=\"dataframe\">\n",
              "  <thead>\n",
              "    <tr style=\"text-align: right;\">\n",
              "      <th></th>\n",
              "      <th>0</th>\n",
              "      <th>Electricity:Facility [kW](Hourly)</th>\n",
              "      <th>Fans:Electricity [kW](Hourly)</th>\n",
              "      <th>Cooling:Electricity [kW](Hourly)</th>\n",
              "      <th>Heating:Electricity [kW](Hourly)</th>\n",
              "      <th>InteriorLights:Electricity [kW](Hourly)</th>\n",
              "      <th>InteriorEquipment:Electricity [kW](Hourly)</th>\n",
              "      <th>Gas:Facility [kW](Hourly)</th>\n",
              "      <th>Heating:Gas [kW](Hourly)</th>\n",
              "      <th>InteriorEquipment:Gas [kW](Hourly)</th>\n",
              "      <th>Water Heater:WaterSystems:Gas [kW](Hourly)</th>\n",
              "      <th>Class</th>\n",
              "      <th>theft</th>\n",
              "    </tr>\n",
              "  </thead>\n",
              "  <tbody>\n",
              "    <tr>\n",
              "      <th>0</th>\n",
              "      <td>0</td>\n",
              "      <td>22.035977</td>\n",
              "      <td>3.586221</td>\n",
              "      <td>0.0</td>\n",
              "      <td>0.0</td>\n",
              "      <td>4.589925</td>\n",
              "      <td>8.1892</td>\n",
              "      <td>136.585903</td>\n",
              "      <td>123.999076</td>\n",
              "      <td>3.33988</td>\n",
              "      <td>9.246947</td>\n",
              "      <td>1</td>\n",
              "      <td>0</td>\n",
              "    </tr>\n",
              "    <tr>\n",
              "      <th>1</th>\n",
              "      <td>1</td>\n",
              "      <td>14.649757</td>\n",
              "      <td>0.000000</td>\n",
              "      <td>0.0</td>\n",
              "      <td>0.0</td>\n",
              "      <td>1.529975</td>\n",
              "      <td>7.4902</td>\n",
              "      <td>3.359880</td>\n",
              "      <td>0.000000</td>\n",
              "      <td>3.33988</td>\n",
              "      <td>0.020000</td>\n",
              "      <td>1</td>\n",
              "      <td>0</td>\n",
              "    </tr>\n",
              "    <tr>\n",
              "      <th>2</th>\n",
              "      <td>2</td>\n",
              "      <td>14.669567</td>\n",
              "      <td>0.000000</td>\n",
              "      <td>0.0</td>\n",
              "      <td>0.0</td>\n",
              "      <td>1.529975</td>\n",
              "      <td>7.4902</td>\n",
              "      <td>3.359880</td>\n",
              "      <td>0.000000</td>\n",
              "      <td>3.33988</td>\n",
              "      <td>0.020000</td>\n",
              "      <td>1</td>\n",
              "      <td>0</td>\n",
              "    </tr>\n",
              "    <tr>\n",
              "      <th>3</th>\n",
              "      <td>3</td>\n",
              "      <td>14.677808</td>\n",
              "      <td>0.000000</td>\n",
              "      <td>0.0</td>\n",
              "      <td>0.0</td>\n",
              "      <td>1.529975</td>\n",
              "      <td>7.4902</td>\n",
              "      <td>3.931932</td>\n",
              "      <td>0.000000</td>\n",
              "      <td>3.33988</td>\n",
              "      <td>0.592052</td>\n",
              "      <td>1</td>\n",
              "      <td>0</td>\n",
              "    </tr>\n",
              "    <tr>\n",
              "      <th>4</th>\n",
              "      <td>4</td>\n",
              "      <td>14.824794</td>\n",
              "      <td>0.000000</td>\n",
              "      <td>0.0</td>\n",
              "      <td>0.0</td>\n",
              "      <td>1.529975</td>\n",
              "      <td>7.4902</td>\n",
              "      <td>3.359880</td>\n",
              "      <td>0.000000</td>\n",
              "      <td>3.33988</td>\n",
              "      <td>0.020000</td>\n",
              "      <td>1</td>\n",
              "      <td>0</td>\n",
              "    </tr>\n",
              "  </tbody>\n",
              "</table>\n",
              "</div>\n",
              "    <div class=\"colab-df-buttons\">\n",
              "\n",
              "  <div class=\"colab-df-container\">\n",
              "    <button class=\"colab-df-convert\" onclick=\"convertToInteractive('df-30f792c3-6c85-43d2-ac95-3cb7b6d140d2')\"\n",
              "            title=\"Convert this dataframe to an interactive table.\"\n",
              "            style=\"display:none;\">\n",
              "\n",
              "  <svg xmlns=\"http://www.w3.org/2000/svg\" height=\"24px\" viewBox=\"0 -960 960 960\">\n",
              "    <path d=\"M120-120v-720h720v720H120Zm60-500h600v-160H180v160Zm220 220h160v-160H400v160Zm0 220h160v-160H400v160ZM180-400h160v-160H180v160Zm440 0h160v-160H620v160ZM180-180h160v-160H180v160Zm440 0h160v-160H620v160Z\"/>\n",
              "  </svg>\n",
              "    </button>\n",
              "\n",
              "  <style>\n",
              "    .colab-df-container {\n",
              "      display:flex;\n",
              "      gap: 12px;\n",
              "    }\n",
              "\n",
              "    .colab-df-convert {\n",
              "      background-color: #E8F0FE;\n",
              "      border: none;\n",
              "      border-radius: 50%;\n",
              "      cursor: pointer;\n",
              "      display: none;\n",
              "      fill: #1967D2;\n",
              "      height: 32px;\n",
              "      padding: 0 0 0 0;\n",
              "      width: 32px;\n",
              "    }\n",
              "\n",
              "    .colab-df-convert:hover {\n",
              "      background-color: #E2EBFA;\n",
              "      box-shadow: 0px 1px 2px rgba(60, 64, 67, 0.3), 0px 1px 3px 1px rgba(60, 64, 67, 0.15);\n",
              "      fill: #174EA6;\n",
              "    }\n",
              "\n",
              "    .colab-df-buttons div {\n",
              "      margin-bottom: 4px;\n",
              "    }\n",
              "\n",
              "    [theme=dark] .colab-df-convert {\n",
              "      background-color: #3B4455;\n",
              "      fill: #D2E3FC;\n",
              "    }\n",
              "\n",
              "    [theme=dark] .colab-df-convert:hover {\n",
              "      background-color: #434B5C;\n",
              "      box-shadow: 0px 1px 3px 1px rgba(0, 0, 0, 0.15);\n",
              "      filter: drop-shadow(0px 1px 2px rgba(0, 0, 0, 0.3));\n",
              "      fill: #FFFFFF;\n",
              "    }\n",
              "  </style>\n",
              "\n",
              "    <script>\n",
              "      const buttonEl =\n",
              "        document.querySelector('#df-30f792c3-6c85-43d2-ac95-3cb7b6d140d2 button.colab-df-convert');\n",
              "      buttonEl.style.display =\n",
              "        google.colab.kernel.accessAllowed ? 'block' : 'none';\n",
              "\n",
              "      async function convertToInteractive(key) {\n",
              "        const element = document.querySelector('#df-30f792c3-6c85-43d2-ac95-3cb7b6d140d2');\n",
              "        const dataTable =\n",
              "          await google.colab.kernel.invokeFunction('convertToInteractive',\n",
              "                                                    [key], {});\n",
              "        if (!dataTable) return;\n",
              "\n",
              "        const docLinkHtml = 'Like what you see? Visit the ' +\n",
              "          '<a target=\"_blank\" href=https://colab.research.google.com/notebooks/data_table.ipynb>data table notebook</a>'\n",
              "          + ' to learn more about interactive tables.';\n",
              "        element.innerHTML = '';\n",
              "        dataTable['output_type'] = 'display_data';\n",
              "        await google.colab.output.renderOutput(dataTable, element);\n",
              "        const docLink = document.createElement('div');\n",
              "        docLink.innerHTML = docLinkHtml;\n",
              "        element.appendChild(docLink);\n",
              "      }\n",
              "    </script>\n",
              "  </div>\n",
              "\n",
              "\n",
              "<div id=\"df-e0197da3-307d-4610-b248-b8c1c8445b15\">\n",
              "  <button class=\"colab-df-quickchart\" onclick=\"quickchart('df-e0197da3-307d-4610-b248-b8c1c8445b15')\"\n",
              "            title=\"Suggest charts.\"\n",
              "            style=\"display:none;\">\n",
              "\n",
              "<svg xmlns=\"http://www.w3.org/2000/svg\" height=\"24px\"viewBox=\"0 0 24 24\"\n",
              "     width=\"24px\">\n",
              "    <g>\n",
              "        <path d=\"M19 3H5c-1.1 0-2 .9-2 2v14c0 1.1.9 2 2 2h14c1.1 0 2-.9 2-2V5c0-1.1-.9-2-2-2zM9 17H7v-7h2v7zm4 0h-2V7h2v10zm4 0h-2v-4h2v4z\"/>\n",
              "    </g>\n",
              "</svg>\n",
              "  </button>\n",
              "\n",
              "<style>\n",
              "  .colab-df-quickchart {\n",
              "    background-color: #E8F0FE;\n",
              "    border: none;\n",
              "    border-radius: 50%;\n",
              "    cursor: pointer;\n",
              "    display: none;\n",
              "    fill: #1967D2;\n",
              "    height: 32px;\n",
              "    padding: 0 0 0 0;\n",
              "    width: 32px;\n",
              "  }\n",
              "\n",
              "  .colab-df-quickchart:hover {\n",
              "    background-color: #E2EBFA;\n",
              "    box-shadow: 0px 1px 2px rgba(60, 64, 67, 0.3), 0px 1px 3px 1px rgba(60, 64, 67, 0.15);\n",
              "    fill: #174EA6;\n",
              "  }\n",
              "\n",
              "  [theme=dark] .colab-df-quickchart {\n",
              "    background-color: #3B4455;\n",
              "    fill: #D2E3FC;\n",
              "  }\n",
              "\n",
              "  [theme=dark] .colab-df-quickchart:hover {\n",
              "    background-color: #434B5C;\n",
              "    box-shadow: 0px 1px 3px 1px rgba(0, 0, 0, 0.15);\n",
              "    filter: drop-shadow(0px 1px 2px rgba(0, 0, 0, 0.3));\n",
              "    fill: #FFFFFF;\n",
              "  }\n",
              "</style>\n",
              "\n",
              "  <script>\n",
              "    async function quickchart(key) {\n",
              "      const charts = await google.colab.kernel.invokeFunction(\n",
              "          'suggestCharts', [key], {});\n",
              "    }\n",
              "    (() => {\n",
              "      let quickchartButtonEl =\n",
              "        document.querySelector('#df-e0197da3-307d-4610-b248-b8c1c8445b15 button');\n",
              "      quickchartButtonEl.style.display =\n",
              "        google.colab.kernel.accessAllowed ? 'block' : 'none';\n",
              "    })();\n",
              "  </script>\n",
              "</div>\n",
              "    </div>\n",
              "  </div>\n"
            ]
          },
          "metadata": {},
          "execution_count": 19
        }
      ]
    },
    {
      "cell_type": "code",
      "execution_count": null,
      "metadata": {
        "id": "pvZxhkcDzfiB"
      },
      "outputs": [],
      "source": [
        "# import numpy as np\n",
        "# col  = np.vstack(df)\n",
        "# print(col)"
      ]
    },
    {
      "cell_type": "code",
      "execution_count": null,
      "metadata": {
        "colab": {
          "base_uri": "https://localhost:8080/",
          "height": 261
        },
        "id": "fXF_oV2U0HZn",
        "outputId": "39bcb3d0-60f2-4997-8a1f-7e1eb1ff0e28"
      },
      "outputs": [
        {
          "output_type": "execute_result",
          "data": {
            "text/plain": [
              "   0  Electricity:Facility [kW](Hourly)  Fans:Electricity [kW](Hourly)  \\\n",
              "0  0                          22.035977                       3.586221   \n",
              "1  1                          14.649757                       0.000000   \n",
              "2  2                          14.669567                       0.000000   \n",
              "3  3                          14.677808                       0.000000   \n",
              "4  4                          14.824794                       0.000000   \n",
              "\n",
              "   Cooling:Electricity [kW](Hourly)  Heating:Electricity [kW](Hourly)  \\\n",
              "0                               0.0                               0.0   \n",
              "1                               0.0                               0.0   \n",
              "2                               0.0                               0.0   \n",
              "3                               0.0                               0.0   \n",
              "4                               0.0                               0.0   \n",
              "\n",
              "   InteriorLights:Electricity [kW](Hourly)  \\\n",
              "0                                 4.589925   \n",
              "1                                 1.529975   \n",
              "2                                 1.529975   \n",
              "3                                 1.529975   \n",
              "4                                 1.529975   \n",
              "\n",
              "   InteriorEquipment:Electricity [kW](Hourly)  Gas:Facility [kW](Hourly)  \\\n",
              "0                                      8.1892                 136.585903   \n",
              "1                                      7.4902                   3.359880   \n",
              "2                                      7.4902                   3.359880   \n",
              "3                                      7.4902                   3.931932   \n",
              "4                                      7.4902                   3.359880   \n",
              "\n",
              "   Heating:Gas [kW](Hourly)  InteriorEquipment:Gas [kW](Hourly)  \\\n",
              "0                123.999076                             3.33988   \n",
              "1                  0.000000                             3.33988   \n",
              "2                  0.000000                             3.33988   \n",
              "3                  0.000000                             3.33988   \n",
              "4                  0.000000                             3.33988   \n",
              "\n",
              "   Water Heater:WaterSystems:Gas [kW](Hourly)  Class  theft  \n",
              "0                                    9.246947      1      0  \n",
              "1                                    0.020000      1      0  \n",
              "2                                    0.020000      1      0  \n",
              "3                                    0.592052      1      0  \n",
              "4                                    0.020000      1      0  "
            ],
            "text/html": [
              "\n",
              "  <div id=\"df-2c070a45-6523-432d-b55d-30aa68258e01\" class=\"colab-df-container\">\n",
              "    <div>\n",
              "<style scoped>\n",
              "    .dataframe tbody tr th:only-of-type {\n",
              "        vertical-align: middle;\n",
              "    }\n",
              "\n",
              "    .dataframe tbody tr th {\n",
              "        vertical-align: top;\n",
              "    }\n",
              "\n",
              "    .dataframe thead th {\n",
              "        text-align: right;\n",
              "    }\n",
              "</style>\n",
              "<table border=\"1\" class=\"dataframe\">\n",
              "  <thead>\n",
              "    <tr style=\"text-align: right;\">\n",
              "      <th></th>\n",
              "      <th>0</th>\n",
              "      <th>Electricity:Facility [kW](Hourly)</th>\n",
              "      <th>Fans:Electricity [kW](Hourly)</th>\n",
              "      <th>Cooling:Electricity [kW](Hourly)</th>\n",
              "      <th>Heating:Electricity [kW](Hourly)</th>\n",
              "      <th>InteriorLights:Electricity [kW](Hourly)</th>\n",
              "      <th>InteriorEquipment:Electricity [kW](Hourly)</th>\n",
              "      <th>Gas:Facility [kW](Hourly)</th>\n",
              "      <th>Heating:Gas [kW](Hourly)</th>\n",
              "      <th>InteriorEquipment:Gas [kW](Hourly)</th>\n",
              "      <th>Water Heater:WaterSystems:Gas [kW](Hourly)</th>\n",
              "      <th>Class</th>\n",
              "      <th>theft</th>\n",
              "    </tr>\n",
              "  </thead>\n",
              "  <tbody>\n",
              "    <tr>\n",
              "      <th>0</th>\n",
              "      <td>0</td>\n",
              "      <td>22.035977</td>\n",
              "      <td>3.586221</td>\n",
              "      <td>0.0</td>\n",
              "      <td>0.0</td>\n",
              "      <td>4.589925</td>\n",
              "      <td>8.1892</td>\n",
              "      <td>136.585903</td>\n",
              "      <td>123.999076</td>\n",
              "      <td>3.33988</td>\n",
              "      <td>9.246947</td>\n",
              "      <td>1</td>\n",
              "      <td>0</td>\n",
              "    </tr>\n",
              "    <tr>\n",
              "      <th>1</th>\n",
              "      <td>1</td>\n",
              "      <td>14.649757</td>\n",
              "      <td>0.000000</td>\n",
              "      <td>0.0</td>\n",
              "      <td>0.0</td>\n",
              "      <td>1.529975</td>\n",
              "      <td>7.4902</td>\n",
              "      <td>3.359880</td>\n",
              "      <td>0.000000</td>\n",
              "      <td>3.33988</td>\n",
              "      <td>0.020000</td>\n",
              "      <td>1</td>\n",
              "      <td>0</td>\n",
              "    </tr>\n",
              "    <tr>\n",
              "      <th>2</th>\n",
              "      <td>2</td>\n",
              "      <td>14.669567</td>\n",
              "      <td>0.000000</td>\n",
              "      <td>0.0</td>\n",
              "      <td>0.0</td>\n",
              "      <td>1.529975</td>\n",
              "      <td>7.4902</td>\n",
              "      <td>3.359880</td>\n",
              "      <td>0.000000</td>\n",
              "      <td>3.33988</td>\n",
              "      <td>0.020000</td>\n",
              "      <td>1</td>\n",
              "      <td>0</td>\n",
              "    </tr>\n",
              "    <tr>\n",
              "      <th>3</th>\n",
              "      <td>3</td>\n",
              "      <td>14.677808</td>\n",
              "      <td>0.000000</td>\n",
              "      <td>0.0</td>\n",
              "      <td>0.0</td>\n",
              "      <td>1.529975</td>\n",
              "      <td>7.4902</td>\n",
              "      <td>3.931932</td>\n",
              "      <td>0.000000</td>\n",
              "      <td>3.33988</td>\n",
              "      <td>0.592052</td>\n",
              "      <td>1</td>\n",
              "      <td>0</td>\n",
              "    </tr>\n",
              "    <tr>\n",
              "      <th>4</th>\n",
              "      <td>4</td>\n",
              "      <td>14.824794</td>\n",
              "      <td>0.000000</td>\n",
              "      <td>0.0</td>\n",
              "      <td>0.0</td>\n",
              "      <td>1.529975</td>\n",
              "      <td>7.4902</td>\n",
              "      <td>3.359880</td>\n",
              "      <td>0.000000</td>\n",
              "      <td>3.33988</td>\n",
              "      <td>0.020000</td>\n",
              "      <td>1</td>\n",
              "      <td>0</td>\n",
              "    </tr>\n",
              "  </tbody>\n",
              "</table>\n",
              "</div>\n",
              "    <div class=\"colab-df-buttons\">\n",
              "\n",
              "  <div class=\"colab-df-container\">\n",
              "    <button class=\"colab-df-convert\" onclick=\"convertToInteractive('df-2c070a45-6523-432d-b55d-30aa68258e01')\"\n",
              "            title=\"Convert this dataframe to an interactive table.\"\n",
              "            style=\"display:none;\">\n",
              "\n",
              "  <svg xmlns=\"http://www.w3.org/2000/svg\" height=\"24px\" viewBox=\"0 -960 960 960\">\n",
              "    <path d=\"M120-120v-720h720v720H120Zm60-500h600v-160H180v160Zm220 220h160v-160H400v160Zm0 220h160v-160H400v160ZM180-400h160v-160H180v160Zm440 0h160v-160H620v160ZM180-180h160v-160H180v160Zm440 0h160v-160H620v160Z\"/>\n",
              "  </svg>\n",
              "    </button>\n",
              "\n",
              "  <style>\n",
              "    .colab-df-container {\n",
              "      display:flex;\n",
              "      gap: 12px;\n",
              "    }\n",
              "\n",
              "    .colab-df-convert {\n",
              "      background-color: #E8F0FE;\n",
              "      border: none;\n",
              "      border-radius: 50%;\n",
              "      cursor: pointer;\n",
              "      display: none;\n",
              "      fill: #1967D2;\n",
              "      height: 32px;\n",
              "      padding: 0 0 0 0;\n",
              "      width: 32px;\n",
              "    }\n",
              "\n",
              "    .colab-df-convert:hover {\n",
              "      background-color: #E2EBFA;\n",
              "      box-shadow: 0px 1px 2px rgba(60, 64, 67, 0.3), 0px 1px 3px 1px rgba(60, 64, 67, 0.15);\n",
              "      fill: #174EA6;\n",
              "    }\n",
              "\n",
              "    .colab-df-buttons div {\n",
              "      margin-bottom: 4px;\n",
              "    }\n",
              "\n",
              "    [theme=dark] .colab-df-convert {\n",
              "      background-color: #3B4455;\n",
              "      fill: #D2E3FC;\n",
              "    }\n",
              "\n",
              "    [theme=dark] .colab-df-convert:hover {\n",
              "      background-color: #434B5C;\n",
              "      box-shadow: 0px 1px 3px 1px rgba(0, 0, 0, 0.15);\n",
              "      filter: drop-shadow(0px 1px 2px rgba(0, 0, 0, 0.3));\n",
              "      fill: #FFFFFF;\n",
              "    }\n",
              "  </style>\n",
              "\n",
              "    <script>\n",
              "      const buttonEl =\n",
              "        document.querySelector('#df-2c070a45-6523-432d-b55d-30aa68258e01 button.colab-df-convert');\n",
              "      buttonEl.style.display =\n",
              "        google.colab.kernel.accessAllowed ? 'block' : 'none';\n",
              "\n",
              "      async function convertToInteractive(key) {\n",
              "        const element = document.querySelector('#df-2c070a45-6523-432d-b55d-30aa68258e01');\n",
              "        const dataTable =\n",
              "          await google.colab.kernel.invokeFunction('convertToInteractive',\n",
              "                                                    [key], {});\n",
              "        if (!dataTable) return;\n",
              "\n",
              "        const docLinkHtml = 'Like what you see? Visit the ' +\n",
              "          '<a target=\"_blank\" href=https://colab.research.google.com/notebooks/data_table.ipynb>data table notebook</a>'\n",
              "          + ' to learn more about interactive tables.';\n",
              "        element.innerHTML = '';\n",
              "        dataTable['output_type'] = 'display_data';\n",
              "        await google.colab.output.renderOutput(dataTable, element);\n",
              "        const docLink = document.createElement('div');\n",
              "        docLink.innerHTML = docLinkHtml;\n",
              "        element.appendChild(docLink);\n",
              "      }\n",
              "    </script>\n",
              "  </div>\n",
              "\n",
              "\n",
              "<div id=\"df-ddb48849-a558-4e07-95b3-63d43c673273\">\n",
              "  <button class=\"colab-df-quickchart\" onclick=\"quickchart('df-ddb48849-a558-4e07-95b3-63d43c673273')\"\n",
              "            title=\"Suggest charts.\"\n",
              "            style=\"display:none;\">\n",
              "\n",
              "<svg xmlns=\"http://www.w3.org/2000/svg\" height=\"24px\"viewBox=\"0 0 24 24\"\n",
              "     width=\"24px\">\n",
              "    <g>\n",
              "        <path d=\"M19 3H5c-1.1 0-2 .9-2 2v14c0 1.1.9 2 2 2h14c1.1 0 2-.9 2-2V5c0-1.1-.9-2-2-2zM9 17H7v-7h2v7zm4 0h-2V7h2v10zm4 0h-2v-4h2v4z\"/>\n",
              "    </g>\n",
              "</svg>\n",
              "  </button>\n",
              "\n",
              "<style>\n",
              "  .colab-df-quickchart {\n",
              "    background-color: #E8F0FE;\n",
              "    border: none;\n",
              "    border-radius: 50%;\n",
              "    cursor: pointer;\n",
              "    display: none;\n",
              "    fill: #1967D2;\n",
              "    height: 32px;\n",
              "    padding: 0 0 0 0;\n",
              "    width: 32px;\n",
              "  }\n",
              "\n",
              "  .colab-df-quickchart:hover {\n",
              "    background-color: #E2EBFA;\n",
              "    box-shadow: 0px 1px 2px rgba(60, 64, 67, 0.3), 0px 1px 3px 1px rgba(60, 64, 67, 0.15);\n",
              "    fill: #174EA6;\n",
              "  }\n",
              "\n",
              "  [theme=dark] .colab-df-quickchart {\n",
              "    background-color: #3B4455;\n",
              "    fill: #D2E3FC;\n",
              "  }\n",
              "\n",
              "  [theme=dark] .colab-df-quickchart:hover {\n",
              "    background-color: #434B5C;\n",
              "    box-shadow: 0px 1px 3px 1px rgba(0, 0, 0, 0.15);\n",
              "    filter: drop-shadow(0px 1px 2px rgba(0, 0, 0, 0.3));\n",
              "    fill: #FFFFFF;\n",
              "  }\n",
              "</style>\n",
              "\n",
              "  <script>\n",
              "    async function quickchart(key) {\n",
              "      const charts = await google.colab.kernel.invokeFunction(\n",
              "          'suggestCharts', [key], {});\n",
              "    }\n",
              "    (() => {\n",
              "      let quickchartButtonEl =\n",
              "        document.querySelector('#df-ddb48849-a558-4e07-95b3-63d43c673273 button');\n",
              "      quickchartButtonEl.style.display =\n",
              "        google.colab.kernel.accessAllowed ? 'block' : 'none';\n",
              "    })();\n",
              "  </script>\n",
              "</div>\n",
              "    </div>\n",
              "  </div>\n"
            ]
          },
          "metadata": {},
          "execution_count": 21
        }
      ],
      "source": [
        "df.head()"
      ]
    },
    {
      "cell_type": "code",
      "execution_count": null,
      "metadata": {
        "id": "3L0W99SQ0LIS"
      },
      "outputs": [],
      "source": [
        "# col = pd.DataFrame(col)\n",
        "# col"
      ]
    },
    {
      "cell_type": "code",
      "execution_count": null,
      "metadata": {
        "id": "5Li8ERuN0NyN"
      },
      "outputs": [],
      "source": [
        "# df['ouliers'] = col\n",
        "# df"
      ]
    },
    {
      "cell_type": "code",
      "execution_count": null,
      "metadata": {
        "colab": {
          "base_uri": "https://localhost:8080/",
          "height": 417
        },
        "id": "m2zYlUMk0UM4",
        "outputId": "c3dd6f62-5a84-4259-f439-2cb612f91594"
      },
      "outputs": [
        {
          "output_type": "execute_result",
          "data": {
            "text/plain": [
              "             0  Electricity:Facility [kW](Hourly)  \\\n",
              "474850  474850                         126.539376   \n",
              "143353  143353                          10.063612   \n",
              "199664  199664                         242.619704   \n",
              "462695  462695                         123.421237   \n",
              "287488  287488                          29.794774   \n",
              "77970    77970                           4.300570   \n",
              "260179  260179                          33.427349   \n",
              "462566  462566                          38.936184   \n",
              "262266  262266                          26.101548   \n",
              "95826    95826                          92.019950   \n",
              "\n",
              "        Fans:Electricity [kW](Hourly)  Cooling:Electricity [kW](Hourly)  \\\n",
              "474850                      27.404276                         33.285526   \n",
              "143353                       0.000000                          0.000000   \n",
              "199664                      30.414510                         56.940373   \n",
              "462695                       3.252258                          6.960973   \n",
              "287488                       3.048323                          0.000811   \n",
              "77970                        0.296807                          0.000000   \n",
              "260179                       4.358178                          9.526762   \n",
              "462566                       0.000000                          0.000000   \n",
              "262266                       5.660313                          0.000000   \n",
              "95826                        4.836496                          0.041384   \n",
              "\n",
              "        Heating:Electricity [kW](Hourly)  \\\n",
              "474850                          0.000000   \n",
              "143353                          0.000000   \n",
              "199664                          0.988224   \n",
              "462695                          2.897337   \n",
              "287488                          0.000000   \n",
              "77970                           0.000000   \n",
              "260179                          0.000000   \n",
              "462566                          0.000000   \n",
              "262266                          0.000000   \n",
              "95826                           9.826215   \n",
              "\n",
              "        InteriorLights:Electricity [kW](Hourly)  \\\n",
              "474850                                12.367293   \n",
              "143353                                 1.025923   \n",
              "199664                                37.101880   \n",
              "462695                                48.247488   \n",
              "287488                                 6.484953   \n",
              "77970                                  0.574567   \n",
              "260179                                15.679740   \n",
              "462566                                 2.680416   \n",
              "262266                                10.638992   \n",
              "95826                                 32.690315   \n",
              "\n",
              "        InteriorEquipment:Electricity [kW](Hourly)  Gas:Facility [kW](Hourly)  \\\n",
              "474850                                   38.689202                  97.468910   \n",
              "143353                                    5.022544                   2.636561   \n",
              "199664                                  116.476156                 107.726133   \n",
              "462695                                   62.054741                   1.104055   \n",
              "287488                                   19.013444                  60.804032   \n",
              "77970                                     2.798318                   9.668828   \n",
              "260179                                    3.862669                   0.000000   \n",
              "462566                                   21.443328                   1.102950   \n",
              "262266                                    4.077146                  30.376216   \n",
              "95826                                    37.081613                  70.992971   \n",
              "\n",
              "        Heating:Gas [kW](Hourly)  InteriorEquipment:Gas [kW](Hourly)  \\\n",
              "474850                 94.477179                            2.971730   \n",
              "143353                  0.000000                            2.239552   \n",
              "199664                 97.800365                            9.905768   \n",
              "462695                  0.000000                            0.000000   \n",
              "287488                 27.371514                           23.594029   \n",
              "77970                   4.826831                            3.948845   \n",
              "260179                  0.000000                            0.000000   \n",
              "462566                  0.000000                            0.000000   \n",
              "262266                 30.376216                            0.000000   \n",
              "95826                  59.428485                            0.000000   \n",
              "\n",
              "        Water Heater:WaterSystems:Gas [kW](Hourly)  Class  theft  \n",
              "474850                                    0.020000      7      0  \n",
              "143353                                    0.397009      1      6  \n",
              "199664                                    0.020000      7      0  \n",
              "462695                                    1.104055      5      0  \n",
              "287488                                    9.838489      1      1  \n",
              "77970                                     0.893152      9      3  \n",
              "260179                                    0.000000     14      3  \n",
              "462566                                    1.102950      5      0  \n",
              "262266                                    0.000000     14      5  \n",
              "95826                                    11.564486     11      0  "
            ],
            "text/html": [
              "\n",
              "  <div id=\"df-c6020a01-aca1-439c-8b48-676e3aca831a\" class=\"colab-df-container\">\n",
              "    <div>\n",
              "<style scoped>\n",
              "    .dataframe tbody tr th:only-of-type {\n",
              "        vertical-align: middle;\n",
              "    }\n",
              "\n",
              "    .dataframe tbody tr th {\n",
              "        vertical-align: top;\n",
              "    }\n",
              "\n",
              "    .dataframe thead th {\n",
              "        text-align: right;\n",
              "    }\n",
              "</style>\n",
              "<table border=\"1\" class=\"dataframe\">\n",
              "  <thead>\n",
              "    <tr style=\"text-align: right;\">\n",
              "      <th></th>\n",
              "      <th>0</th>\n",
              "      <th>Electricity:Facility [kW](Hourly)</th>\n",
              "      <th>Fans:Electricity [kW](Hourly)</th>\n",
              "      <th>Cooling:Electricity [kW](Hourly)</th>\n",
              "      <th>Heating:Electricity [kW](Hourly)</th>\n",
              "      <th>InteriorLights:Electricity [kW](Hourly)</th>\n",
              "      <th>InteriorEquipment:Electricity [kW](Hourly)</th>\n",
              "      <th>Gas:Facility [kW](Hourly)</th>\n",
              "      <th>Heating:Gas [kW](Hourly)</th>\n",
              "      <th>InteriorEquipment:Gas [kW](Hourly)</th>\n",
              "      <th>Water Heater:WaterSystems:Gas [kW](Hourly)</th>\n",
              "      <th>Class</th>\n",
              "      <th>theft</th>\n",
              "    </tr>\n",
              "  </thead>\n",
              "  <tbody>\n",
              "    <tr>\n",
              "      <th>474850</th>\n",
              "      <td>474850</td>\n",
              "      <td>126.539376</td>\n",
              "      <td>27.404276</td>\n",
              "      <td>33.285526</td>\n",
              "      <td>0.000000</td>\n",
              "      <td>12.367293</td>\n",
              "      <td>38.689202</td>\n",
              "      <td>97.468910</td>\n",
              "      <td>94.477179</td>\n",
              "      <td>2.971730</td>\n",
              "      <td>0.020000</td>\n",
              "      <td>7</td>\n",
              "      <td>0</td>\n",
              "    </tr>\n",
              "    <tr>\n",
              "      <th>143353</th>\n",
              "      <td>143353</td>\n",
              "      <td>10.063612</td>\n",
              "      <td>0.000000</td>\n",
              "      <td>0.000000</td>\n",
              "      <td>0.000000</td>\n",
              "      <td>1.025923</td>\n",
              "      <td>5.022544</td>\n",
              "      <td>2.636561</td>\n",
              "      <td>0.000000</td>\n",
              "      <td>2.239552</td>\n",
              "      <td>0.397009</td>\n",
              "      <td>1</td>\n",
              "      <td>6</td>\n",
              "    </tr>\n",
              "    <tr>\n",
              "      <th>199664</th>\n",
              "      <td>199664</td>\n",
              "      <td>242.619704</td>\n",
              "      <td>30.414510</td>\n",
              "      <td>56.940373</td>\n",
              "      <td>0.988224</td>\n",
              "      <td>37.101880</td>\n",
              "      <td>116.476156</td>\n",
              "      <td>107.726133</td>\n",
              "      <td>97.800365</td>\n",
              "      <td>9.905768</td>\n",
              "      <td>0.020000</td>\n",
              "      <td>7</td>\n",
              "      <td>0</td>\n",
              "    </tr>\n",
              "    <tr>\n",
              "      <th>462695</th>\n",
              "      <td>462695</td>\n",
              "      <td>123.421237</td>\n",
              "      <td>3.252258</td>\n",
              "      <td>6.960973</td>\n",
              "      <td>2.897337</td>\n",
              "      <td>48.247488</td>\n",
              "      <td>62.054741</td>\n",
              "      <td>1.104055</td>\n",
              "      <td>0.000000</td>\n",
              "      <td>0.000000</td>\n",
              "      <td>1.104055</td>\n",
              "      <td>5</td>\n",
              "      <td>0</td>\n",
              "    </tr>\n",
              "    <tr>\n",
              "      <th>287488</th>\n",
              "      <td>287488</td>\n",
              "      <td>29.794774</td>\n",
              "      <td>3.048323</td>\n",
              "      <td>0.000811</td>\n",
              "      <td>0.000000</td>\n",
              "      <td>6.484953</td>\n",
              "      <td>19.013444</td>\n",
              "      <td>60.804032</td>\n",
              "      <td>27.371514</td>\n",
              "      <td>23.594029</td>\n",
              "      <td>9.838489</td>\n",
              "      <td>1</td>\n",
              "      <td>1</td>\n",
              "    </tr>\n",
              "    <tr>\n",
              "      <th>77970</th>\n",
              "      <td>77970</td>\n",
              "      <td>4.300570</td>\n",
              "      <td>0.296807</td>\n",
              "      <td>0.000000</td>\n",
              "      <td>0.000000</td>\n",
              "      <td>0.574567</td>\n",
              "      <td>2.798318</td>\n",
              "      <td>9.668828</td>\n",
              "      <td>4.826831</td>\n",
              "      <td>3.948845</td>\n",
              "      <td>0.893152</td>\n",
              "      <td>9</td>\n",
              "      <td>3</td>\n",
              "    </tr>\n",
              "    <tr>\n",
              "      <th>260179</th>\n",
              "      <td>260179</td>\n",
              "      <td>33.427349</td>\n",
              "      <td>4.358178</td>\n",
              "      <td>9.526762</td>\n",
              "      <td>0.000000</td>\n",
              "      <td>15.679740</td>\n",
              "      <td>3.862669</td>\n",
              "      <td>0.000000</td>\n",
              "      <td>0.000000</td>\n",
              "      <td>0.000000</td>\n",
              "      <td>0.000000</td>\n",
              "      <td>14</td>\n",
              "      <td>3</td>\n",
              "    </tr>\n",
              "    <tr>\n",
              "      <th>462566</th>\n",
              "      <td>462566</td>\n",
              "      <td>38.936184</td>\n",
              "      <td>0.000000</td>\n",
              "      <td>0.000000</td>\n",
              "      <td>0.000000</td>\n",
              "      <td>2.680416</td>\n",
              "      <td>21.443328</td>\n",
              "      <td>1.102950</td>\n",
              "      <td>0.000000</td>\n",
              "      <td>0.000000</td>\n",
              "      <td>1.102950</td>\n",
              "      <td>5</td>\n",
              "      <td>0</td>\n",
              "    </tr>\n",
              "    <tr>\n",
              "      <th>262266</th>\n",
              "      <td>262266</td>\n",
              "      <td>26.101548</td>\n",
              "      <td>5.660313</td>\n",
              "      <td>0.000000</td>\n",
              "      <td>0.000000</td>\n",
              "      <td>10.638992</td>\n",
              "      <td>4.077146</td>\n",
              "      <td>30.376216</td>\n",
              "      <td>30.376216</td>\n",
              "      <td>0.000000</td>\n",
              "      <td>0.000000</td>\n",
              "      <td>14</td>\n",
              "      <td>5</td>\n",
              "    </tr>\n",
              "    <tr>\n",
              "      <th>95826</th>\n",
              "      <td>95826</td>\n",
              "      <td>92.019950</td>\n",
              "      <td>4.836496</td>\n",
              "      <td>0.041384</td>\n",
              "      <td>9.826215</td>\n",
              "      <td>32.690315</td>\n",
              "      <td>37.081613</td>\n",
              "      <td>70.992971</td>\n",
              "      <td>59.428485</td>\n",
              "      <td>0.000000</td>\n",
              "      <td>11.564486</td>\n",
              "      <td>11</td>\n",
              "      <td>0</td>\n",
              "    </tr>\n",
              "  </tbody>\n",
              "</table>\n",
              "</div>\n",
              "    <div class=\"colab-df-buttons\">\n",
              "\n",
              "  <div class=\"colab-df-container\">\n",
              "    <button class=\"colab-df-convert\" onclick=\"convertToInteractive('df-c6020a01-aca1-439c-8b48-676e3aca831a')\"\n",
              "            title=\"Convert this dataframe to an interactive table.\"\n",
              "            style=\"display:none;\">\n",
              "\n",
              "  <svg xmlns=\"http://www.w3.org/2000/svg\" height=\"24px\" viewBox=\"0 -960 960 960\">\n",
              "    <path d=\"M120-120v-720h720v720H120Zm60-500h600v-160H180v160Zm220 220h160v-160H400v160Zm0 220h160v-160H400v160ZM180-400h160v-160H180v160Zm440 0h160v-160H620v160ZM180-180h160v-160H180v160Zm440 0h160v-160H620v160Z\"/>\n",
              "  </svg>\n",
              "    </button>\n",
              "\n",
              "  <style>\n",
              "    .colab-df-container {\n",
              "      display:flex;\n",
              "      gap: 12px;\n",
              "    }\n",
              "\n",
              "    .colab-df-convert {\n",
              "      background-color: #E8F0FE;\n",
              "      border: none;\n",
              "      border-radius: 50%;\n",
              "      cursor: pointer;\n",
              "      display: none;\n",
              "      fill: #1967D2;\n",
              "      height: 32px;\n",
              "      padding: 0 0 0 0;\n",
              "      width: 32px;\n",
              "    }\n",
              "\n",
              "    .colab-df-convert:hover {\n",
              "      background-color: #E2EBFA;\n",
              "      box-shadow: 0px 1px 2px rgba(60, 64, 67, 0.3), 0px 1px 3px 1px rgba(60, 64, 67, 0.15);\n",
              "      fill: #174EA6;\n",
              "    }\n",
              "\n",
              "    .colab-df-buttons div {\n",
              "      margin-bottom: 4px;\n",
              "    }\n",
              "\n",
              "    [theme=dark] .colab-df-convert {\n",
              "      background-color: #3B4455;\n",
              "      fill: #D2E3FC;\n",
              "    }\n",
              "\n",
              "    [theme=dark] .colab-df-convert:hover {\n",
              "      background-color: #434B5C;\n",
              "      box-shadow: 0px 1px 3px 1px rgba(0, 0, 0, 0.15);\n",
              "      filter: drop-shadow(0px 1px 2px rgba(0, 0, 0, 0.3));\n",
              "      fill: #FFFFFF;\n",
              "    }\n",
              "  </style>\n",
              "\n",
              "    <script>\n",
              "      const buttonEl =\n",
              "        document.querySelector('#df-c6020a01-aca1-439c-8b48-676e3aca831a button.colab-df-convert');\n",
              "      buttonEl.style.display =\n",
              "        google.colab.kernel.accessAllowed ? 'block' : 'none';\n",
              "\n",
              "      async function convertToInteractive(key) {\n",
              "        const element = document.querySelector('#df-c6020a01-aca1-439c-8b48-676e3aca831a');\n",
              "        const dataTable =\n",
              "          await google.colab.kernel.invokeFunction('convertToInteractive',\n",
              "                                                    [key], {});\n",
              "        if (!dataTable) return;\n",
              "\n",
              "        const docLinkHtml = 'Like what you see? Visit the ' +\n",
              "          '<a target=\"_blank\" href=https://colab.research.google.com/notebooks/data_table.ipynb>data table notebook</a>'\n",
              "          + ' to learn more about interactive tables.';\n",
              "        element.innerHTML = '';\n",
              "        dataTable['output_type'] = 'display_data';\n",
              "        await google.colab.output.renderOutput(dataTable, element);\n",
              "        const docLink = document.createElement('div');\n",
              "        docLink.innerHTML = docLinkHtml;\n",
              "        element.appendChild(docLink);\n",
              "      }\n",
              "    </script>\n",
              "  </div>\n",
              "\n",
              "\n",
              "<div id=\"df-bc2e3f1e-6146-4ec5-b6a3-3931b69988af\">\n",
              "  <button class=\"colab-df-quickchart\" onclick=\"quickchart('df-bc2e3f1e-6146-4ec5-b6a3-3931b69988af')\"\n",
              "            title=\"Suggest charts.\"\n",
              "            style=\"display:none;\">\n",
              "\n",
              "<svg xmlns=\"http://www.w3.org/2000/svg\" height=\"24px\"viewBox=\"0 0 24 24\"\n",
              "     width=\"24px\">\n",
              "    <g>\n",
              "        <path d=\"M19 3H5c-1.1 0-2 .9-2 2v14c0 1.1.9 2 2 2h14c1.1 0 2-.9 2-2V5c0-1.1-.9-2-2-2zM9 17H7v-7h2v7zm4 0h-2V7h2v10zm4 0h-2v-4h2v4z\"/>\n",
              "    </g>\n",
              "</svg>\n",
              "  </button>\n",
              "\n",
              "<style>\n",
              "  .colab-df-quickchart {\n",
              "    background-color: #E8F0FE;\n",
              "    border: none;\n",
              "    border-radius: 50%;\n",
              "    cursor: pointer;\n",
              "    display: none;\n",
              "    fill: #1967D2;\n",
              "    height: 32px;\n",
              "    padding: 0 0 0 0;\n",
              "    width: 32px;\n",
              "  }\n",
              "\n",
              "  .colab-df-quickchart:hover {\n",
              "    background-color: #E2EBFA;\n",
              "    box-shadow: 0px 1px 2px rgba(60, 64, 67, 0.3), 0px 1px 3px 1px rgba(60, 64, 67, 0.15);\n",
              "    fill: #174EA6;\n",
              "  }\n",
              "\n",
              "  [theme=dark] .colab-df-quickchart {\n",
              "    background-color: #3B4455;\n",
              "    fill: #D2E3FC;\n",
              "  }\n",
              "\n",
              "  [theme=dark] .colab-df-quickchart:hover {\n",
              "    background-color: #434B5C;\n",
              "    box-shadow: 0px 1px 3px 1px rgba(0, 0, 0, 0.15);\n",
              "    filter: drop-shadow(0px 1px 2px rgba(0, 0, 0, 0.3));\n",
              "    fill: #FFFFFF;\n",
              "  }\n",
              "</style>\n",
              "\n",
              "  <script>\n",
              "    async function quickchart(key) {\n",
              "      const charts = await google.colab.kernel.invokeFunction(\n",
              "          'suggestCharts', [key], {});\n",
              "    }\n",
              "    (() => {\n",
              "      let quickchartButtonEl =\n",
              "        document.querySelector('#df-bc2e3f1e-6146-4ec5-b6a3-3931b69988af button');\n",
              "      quickchartButtonEl.style.display =\n",
              "        google.colab.kernel.accessAllowed ? 'block' : 'none';\n",
              "    })();\n",
              "  </script>\n",
              "</div>\n",
              "    </div>\n",
              "  </div>\n"
            ]
          },
          "metadata": {},
          "execution_count": 24
        }
      ],
      "source": [
        "df.sample(10)"
      ]
    },
    {
      "cell_type": "code",
      "execution_count": null,
      "metadata": {
        "colab": {
          "base_uri": "https://localhost:8080/",
          "height": 261
        },
        "id": "58-jLQR20UvY",
        "outputId": "940a7940-4624-4840-dbab-f71426e70043"
      },
      "outputs": [
        {
          "output_type": "execute_result",
          "data": {
            "text/plain": [
              "   0  Electricity:Facility [kW](Hourly)  Fans:Electricity [kW](Hourly)  \\\n",
              "0  0                          22.035977                       3.586221   \n",
              "1  1                          14.649757                       0.000000   \n",
              "2  2                          14.669567                       0.000000   \n",
              "3  3                          14.677808                       0.000000   \n",
              "4  4                          14.824794                       0.000000   \n",
              "\n",
              "   Cooling:Electricity [kW](Hourly)  Heating:Electricity [kW](Hourly)  \\\n",
              "0                               0.0                               0.0   \n",
              "1                               0.0                               0.0   \n",
              "2                               0.0                               0.0   \n",
              "3                               0.0                               0.0   \n",
              "4                               0.0                               0.0   \n",
              "\n",
              "   InteriorLights:Electricity [kW](Hourly)  \\\n",
              "0                                 4.589925   \n",
              "1                                 1.529975   \n",
              "2                                 1.529975   \n",
              "3                                 1.529975   \n",
              "4                                 1.529975   \n",
              "\n",
              "   InteriorEquipment:Electricity [kW](Hourly)  Gas:Facility [kW](Hourly)  \\\n",
              "0                                      8.1892                 136.585903   \n",
              "1                                      7.4902                   3.359880   \n",
              "2                                      7.4902                   3.359880   \n",
              "3                                      7.4902                   3.931932   \n",
              "4                                      7.4902                   3.359880   \n",
              "\n",
              "   Heating:Gas [kW](Hourly)  InteriorEquipment:Gas [kW](Hourly)  \\\n",
              "0                123.999076                             3.33988   \n",
              "1                  0.000000                             3.33988   \n",
              "2                  0.000000                             3.33988   \n",
              "3                  0.000000                             3.33988   \n",
              "4                  0.000000                             3.33988   \n",
              "\n",
              "   Water Heater:WaterSystems:Gas [kW](Hourly)  Class  theft  \n",
              "0                                    9.246947      1      0  \n",
              "1                                    0.020000      1      0  \n",
              "2                                    0.020000      1      0  \n",
              "3                                    0.592052      1      0  \n",
              "4                                    0.020000      1      0  "
            ],
            "text/html": [
              "\n",
              "  <div id=\"df-d4f4e210-2958-4bdc-84b1-612c09b72aa9\" class=\"colab-df-container\">\n",
              "    <div>\n",
              "<style scoped>\n",
              "    .dataframe tbody tr th:only-of-type {\n",
              "        vertical-align: middle;\n",
              "    }\n",
              "\n",
              "    .dataframe tbody tr th {\n",
              "        vertical-align: top;\n",
              "    }\n",
              "\n",
              "    .dataframe thead th {\n",
              "        text-align: right;\n",
              "    }\n",
              "</style>\n",
              "<table border=\"1\" class=\"dataframe\">\n",
              "  <thead>\n",
              "    <tr style=\"text-align: right;\">\n",
              "      <th></th>\n",
              "      <th>0</th>\n",
              "      <th>Electricity:Facility [kW](Hourly)</th>\n",
              "      <th>Fans:Electricity [kW](Hourly)</th>\n",
              "      <th>Cooling:Electricity [kW](Hourly)</th>\n",
              "      <th>Heating:Electricity [kW](Hourly)</th>\n",
              "      <th>InteriorLights:Electricity [kW](Hourly)</th>\n",
              "      <th>InteriorEquipment:Electricity [kW](Hourly)</th>\n",
              "      <th>Gas:Facility [kW](Hourly)</th>\n",
              "      <th>Heating:Gas [kW](Hourly)</th>\n",
              "      <th>InteriorEquipment:Gas [kW](Hourly)</th>\n",
              "      <th>Water Heater:WaterSystems:Gas [kW](Hourly)</th>\n",
              "      <th>Class</th>\n",
              "      <th>theft</th>\n",
              "    </tr>\n",
              "  </thead>\n",
              "  <tbody>\n",
              "    <tr>\n",
              "      <th>0</th>\n",
              "      <td>0</td>\n",
              "      <td>22.035977</td>\n",
              "      <td>3.586221</td>\n",
              "      <td>0.0</td>\n",
              "      <td>0.0</td>\n",
              "      <td>4.589925</td>\n",
              "      <td>8.1892</td>\n",
              "      <td>136.585903</td>\n",
              "      <td>123.999076</td>\n",
              "      <td>3.33988</td>\n",
              "      <td>9.246947</td>\n",
              "      <td>1</td>\n",
              "      <td>0</td>\n",
              "    </tr>\n",
              "    <tr>\n",
              "      <th>1</th>\n",
              "      <td>1</td>\n",
              "      <td>14.649757</td>\n",
              "      <td>0.000000</td>\n",
              "      <td>0.0</td>\n",
              "      <td>0.0</td>\n",
              "      <td>1.529975</td>\n",
              "      <td>7.4902</td>\n",
              "      <td>3.359880</td>\n",
              "      <td>0.000000</td>\n",
              "      <td>3.33988</td>\n",
              "      <td>0.020000</td>\n",
              "      <td>1</td>\n",
              "      <td>0</td>\n",
              "    </tr>\n",
              "    <tr>\n",
              "      <th>2</th>\n",
              "      <td>2</td>\n",
              "      <td>14.669567</td>\n",
              "      <td>0.000000</td>\n",
              "      <td>0.0</td>\n",
              "      <td>0.0</td>\n",
              "      <td>1.529975</td>\n",
              "      <td>7.4902</td>\n",
              "      <td>3.359880</td>\n",
              "      <td>0.000000</td>\n",
              "      <td>3.33988</td>\n",
              "      <td>0.020000</td>\n",
              "      <td>1</td>\n",
              "      <td>0</td>\n",
              "    </tr>\n",
              "    <tr>\n",
              "      <th>3</th>\n",
              "      <td>3</td>\n",
              "      <td>14.677808</td>\n",
              "      <td>0.000000</td>\n",
              "      <td>0.0</td>\n",
              "      <td>0.0</td>\n",
              "      <td>1.529975</td>\n",
              "      <td>7.4902</td>\n",
              "      <td>3.931932</td>\n",
              "      <td>0.000000</td>\n",
              "      <td>3.33988</td>\n",
              "      <td>0.592052</td>\n",
              "      <td>1</td>\n",
              "      <td>0</td>\n",
              "    </tr>\n",
              "    <tr>\n",
              "      <th>4</th>\n",
              "      <td>4</td>\n",
              "      <td>14.824794</td>\n",
              "      <td>0.000000</td>\n",
              "      <td>0.0</td>\n",
              "      <td>0.0</td>\n",
              "      <td>1.529975</td>\n",
              "      <td>7.4902</td>\n",
              "      <td>3.359880</td>\n",
              "      <td>0.000000</td>\n",
              "      <td>3.33988</td>\n",
              "      <td>0.020000</td>\n",
              "      <td>1</td>\n",
              "      <td>0</td>\n",
              "    </tr>\n",
              "  </tbody>\n",
              "</table>\n",
              "</div>\n",
              "    <div class=\"colab-df-buttons\">\n",
              "\n",
              "  <div class=\"colab-df-container\">\n",
              "    <button class=\"colab-df-convert\" onclick=\"convertToInteractive('df-d4f4e210-2958-4bdc-84b1-612c09b72aa9')\"\n",
              "            title=\"Convert this dataframe to an interactive table.\"\n",
              "            style=\"display:none;\">\n",
              "\n",
              "  <svg xmlns=\"http://www.w3.org/2000/svg\" height=\"24px\" viewBox=\"0 -960 960 960\">\n",
              "    <path d=\"M120-120v-720h720v720H120Zm60-500h600v-160H180v160Zm220 220h160v-160H400v160Zm0 220h160v-160H400v160ZM180-400h160v-160H180v160Zm440 0h160v-160H620v160ZM180-180h160v-160H180v160Zm440 0h160v-160H620v160Z\"/>\n",
              "  </svg>\n",
              "    </button>\n",
              "\n",
              "  <style>\n",
              "    .colab-df-container {\n",
              "      display:flex;\n",
              "      gap: 12px;\n",
              "    }\n",
              "\n",
              "    .colab-df-convert {\n",
              "      background-color: #E8F0FE;\n",
              "      border: none;\n",
              "      border-radius: 50%;\n",
              "      cursor: pointer;\n",
              "      display: none;\n",
              "      fill: #1967D2;\n",
              "      height: 32px;\n",
              "      padding: 0 0 0 0;\n",
              "      width: 32px;\n",
              "    }\n",
              "\n",
              "    .colab-df-convert:hover {\n",
              "      background-color: #E2EBFA;\n",
              "      box-shadow: 0px 1px 2px rgba(60, 64, 67, 0.3), 0px 1px 3px 1px rgba(60, 64, 67, 0.15);\n",
              "      fill: #174EA6;\n",
              "    }\n",
              "\n",
              "    .colab-df-buttons div {\n",
              "      margin-bottom: 4px;\n",
              "    }\n",
              "\n",
              "    [theme=dark] .colab-df-convert {\n",
              "      background-color: #3B4455;\n",
              "      fill: #D2E3FC;\n",
              "    }\n",
              "\n",
              "    [theme=dark] .colab-df-convert:hover {\n",
              "      background-color: #434B5C;\n",
              "      box-shadow: 0px 1px 3px 1px rgba(0, 0, 0, 0.15);\n",
              "      filter: drop-shadow(0px 1px 2px rgba(0, 0, 0, 0.3));\n",
              "      fill: #FFFFFF;\n",
              "    }\n",
              "  </style>\n",
              "\n",
              "    <script>\n",
              "      const buttonEl =\n",
              "        document.querySelector('#df-d4f4e210-2958-4bdc-84b1-612c09b72aa9 button.colab-df-convert');\n",
              "      buttonEl.style.display =\n",
              "        google.colab.kernel.accessAllowed ? 'block' : 'none';\n",
              "\n",
              "      async function convertToInteractive(key) {\n",
              "        const element = document.querySelector('#df-d4f4e210-2958-4bdc-84b1-612c09b72aa9');\n",
              "        const dataTable =\n",
              "          await google.colab.kernel.invokeFunction('convertToInteractive',\n",
              "                                                    [key], {});\n",
              "        if (!dataTable) return;\n",
              "\n",
              "        const docLinkHtml = 'Like what you see? Visit the ' +\n",
              "          '<a target=\"_blank\" href=https://colab.research.google.com/notebooks/data_table.ipynb>data table notebook</a>'\n",
              "          + ' to learn more about interactive tables.';\n",
              "        element.innerHTML = '';\n",
              "        dataTable['output_type'] = 'display_data';\n",
              "        await google.colab.output.renderOutput(dataTable, element);\n",
              "        const docLink = document.createElement('div');\n",
              "        docLink.innerHTML = docLinkHtml;\n",
              "        element.appendChild(docLink);\n",
              "      }\n",
              "    </script>\n",
              "  </div>\n",
              "\n",
              "\n",
              "<div id=\"df-f8528fd5-09f1-4cec-995a-c17dafbe4816\">\n",
              "  <button class=\"colab-df-quickchart\" onclick=\"quickchart('df-f8528fd5-09f1-4cec-995a-c17dafbe4816')\"\n",
              "            title=\"Suggest charts.\"\n",
              "            style=\"display:none;\">\n",
              "\n",
              "<svg xmlns=\"http://www.w3.org/2000/svg\" height=\"24px\"viewBox=\"0 0 24 24\"\n",
              "     width=\"24px\">\n",
              "    <g>\n",
              "        <path d=\"M19 3H5c-1.1 0-2 .9-2 2v14c0 1.1.9 2 2 2h14c1.1 0 2-.9 2-2V5c0-1.1-.9-2-2-2zM9 17H7v-7h2v7zm4 0h-2V7h2v10zm4 0h-2v-4h2v4z\"/>\n",
              "    </g>\n",
              "</svg>\n",
              "  </button>\n",
              "\n",
              "<style>\n",
              "  .colab-df-quickchart {\n",
              "    background-color: #E8F0FE;\n",
              "    border: none;\n",
              "    border-radius: 50%;\n",
              "    cursor: pointer;\n",
              "    display: none;\n",
              "    fill: #1967D2;\n",
              "    height: 32px;\n",
              "    padding: 0 0 0 0;\n",
              "    width: 32px;\n",
              "  }\n",
              "\n",
              "  .colab-df-quickchart:hover {\n",
              "    background-color: #E2EBFA;\n",
              "    box-shadow: 0px 1px 2px rgba(60, 64, 67, 0.3), 0px 1px 3px 1px rgba(60, 64, 67, 0.15);\n",
              "    fill: #174EA6;\n",
              "  }\n",
              "\n",
              "  [theme=dark] .colab-df-quickchart {\n",
              "    background-color: #3B4455;\n",
              "    fill: #D2E3FC;\n",
              "  }\n",
              "\n",
              "  [theme=dark] .colab-df-quickchart:hover {\n",
              "    background-color: #434B5C;\n",
              "    box-shadow: 0px 1px 3px 1px rgba(0, 0, 0, 0.15);\n",
              "    filter: drop-shadow(0px 1px 2px rgba(0, 0, 0, 0.3));\n",
              "    fill: #FFFFFF;\n",
              "  }\n",
              "</style>\n",
              "\n",
              "  <script>\n",
              "    async function quickchart(key) {\n",
              "      const charts = await google.colab.kernel.invokeFunction(\n",
              "          'suggestCharts', [key], {});\n",
              "    }\n",
              "    (() => {\n",
              "      let quickchartButtonEl =\n",
              "        document.querySelector('#df-f8528fd5-09f1-4cec-995a-c17dafbe4816 button');\n",
              "      quickchartButtonEl.style.display =\n",
              "        google.colab.kernel.accessAllowed ? 'block' : 'none';\n",
              "    })();\n",
              "  </script>\n",
              "</div>\n",
              "    </div>\n",
              "  </div>\n"
            ]
          },
          "metadata": {},
          "execution_count": 25
        }
      ],
      "source": [
        "df.head()"
      ]
    },
    {
      "cell_type": "code",
      "execution_count": null,
      "metadata": {
        "id": "AiZptzD60YN8"
      },
      "outputs": [],
      "source": [
        "# df1 = df[df.ouliers != 1]"
      ]
    },
    {
      "cell_type": "code",
      "execution_count": null,
      "metadata": {
        "id": "gOnloAE40cX2"
      },
      "outputs": [],
      "source": [
        "# df1.shape"
      ]
    },
    {
      "cell_type": "code",
      "execution_count": null,
      "metadata": {
        "id": "sEOpDrvN0e2J"
      },
      "outputs": [],
      "source": [
        "def fun(x):\n",
        "  if x == 0:\n",
        "    return 0\n",
        "  else:\n",
        "    return 1"
      ]
    },
    {
      "cell_type": "code",
      "execution_count": null,
      "metadata": {
        "id": "Z-8V4KpS0hK2"
      },
      "outputs": [],
      "source": [
        "df['theft'] = df['theft'].apply(fun)"
      ]
    },
    {
      "cell_type": "code",
      "source": [
        "df"
      ],
      "metadata": {
        "colab": {
          "base_uri": "https://localhost:8080/",
          "height": 478
        },
        "id": "40mAqZt9uX4K",
        "outputId": "af563fd9-982e-4b97-9e9a-f70dcd920cee"
      },
      "execution_count": null,
      "outputs": [
        {
          "output_type": "execute_result",
          "data": {
            "text/plain": [
              "             0  Electricity:Facility [kW](Hourly)  \\\n",
              "0            0                          22.035977   \n",
              "1            1                          14.649757   \n",
              "2            2                          14.669567   \n",
              "3            3                          14.677808   \n",
              "4            4                          14.824794   \n",
              "...        ...                                ...   \n",
              "560650  560650                          17.388701   \n",
              "560651  560651                          17.274210   \n",
              "560652  560652                          18.231203   \n",
              "560653  560653                          17.737117   \n",
              "560654  560654                          18.413804   \n",
              "\n",
              "        Fans:Electricity [kW](Hourly)  Cooling:Electricity [kW](Hourly)  \\\n",
              "0                            3.586221                               0.0   \n",
              "1                            0.000000                               0.0   \n",
              "2                            0.000000                               0.0   \n",
              "3                            0.000000                               0.0   \n",
              "4                            0.000000                               0.0   \n",
              "...                               ...                               ...   \n",
              "560650                       1.972876                               0.0   \n",
              "560651                       1.858385                               0.0   \n",
              "560652                       2.815379                               0.0   \n",
              "560653                       2.321293                               0.0   \n",
              "560654                       2.997979                               0.0   \n",
              "\n",
              "        Heating:Electricity [kW](Hourly)  \\\n",
              "0                                    0.0   \n",
              "1                                    0.0   \n",
              "2                                    0.0   \n",
              "3                                    0.0   \n",
              "4                                    0.0   \n",
              "...                                  ...   \n",
              "560650                               0.0   \n",
              "560651                               0.0   \n",
              "560652                               0.0   \n",
              "560653                               0.0   \n",
              "560654                               0.0   \n",
              "\n",
              "        InteriorLights:Electricity [kW](Hourly)  \\\n",
              "0                                      4.589925   \n",
              "1                                      1.529975   \n",
              "2                                      1.529975   \n",
              "3                                      1.529975   \n",
              "4                                      1.529975   \n",
              "...                                         ...   \n",
              "560650                                 5.481225   \n",
              "560651                                 5.481225   \n",
              "560652                                 5.481225   \n",
              "560653                                 5.481225   \n",
              "560654                                 5.481225   \n",
              "\n",
              "        InteriorEquipment:Electricity [kW](Hourly)  Gas:Facility [kW](Hourly)  \\\n",
              "0                                           8.1892                 136.585903   \n",
              "1                                           7.4902                   3.359880   \n",
              "2                                           7.4902                   3.359880   \n",
              "3                                           7.4902                   3.931932   \n",
              "4                                           7.4902                   3.359880   \n",
              "...                                            ...                        ...   \n",
              "560650                                      1.0116                  36.755737   \n",
              "560651                                      1.0116                  34.861068   \n",
              "560652                                      1.0116                  52.866559   \n",
              "560653                                      1.0116                  43.758956   \n",
              "560654                                      1.0116                  56.456040   \n",
              "\n",
              "        Heating:Gas [kW](Hourly)  InteriorEquipment:Gas [kW](Hourly)  \\\n",
              "0                     123.999076                             3.33988   \n",
              "1                       0.000000                             3.33988   \n",
              "2                       0.000000                             3.33988   \n",
              "3                       0.000000                             3.33988   \n",
              "4                       0.000000                             3.33988   \n",
              "...                          ...                                 ...   \n",
              "560650                 36.755737                             0.00000   \n",
              "560651                 34.861068                             0.00000   \n",
              "560652                 52.866559                             0.00000   \n",
              "560653                 43.758956                             0.00000   \n",
              "560654                 56.456040                             0.00000   \n",
              "\n",
              "        Water Heater:WaterSystems:Gas [kW](Hourly)  Class  theft  \n",
              "0                                         9.246947      1      0  \n",
              "1                                         0.020000      1      0  \n",
              "2                                         0.020000      1      0  \n",
              "3                                         0.592052      1      0  \n",
              "4                                         0.020000      1      0  \n",
              "...                                            ...    ...    ...  \n",
              "560650                                    0.000000     16      1  \n",
              "560651                                    0.000000     16      1  \n",
              "560652                                    0.000000     16      1  \n",
              "560653                                    0.000000     16      1  \n",
              "560654                                    0.000000     16      1  \n",
              "\n",
              "[489674 rows x 13 columns]"
            ],
            "text/html": [
              "\n",
              "  <div id=\"df-a568a0b1-431c-48d0-a5c5-e805f7bc6d6a\" class=\"colab-df-container\">\n",
              "    <div>\n",
              "<style scoped>\n",
              "    .dataframe tbody tr th:only-of-type {\n",
              "        vertical-align: middle;\n",
              "    }\n",
              "\n",
              "    .dataframe tbody tr th {\n",
              "        vertical-align: top;\n",
              "    }\n",
              "\n",
              "    .dataframe thead th {\n",
              "        text-align: right;\n",
              "    }\n",
              "</style>\n",
              "<table border=\"1\" class=\"dataframe\">\n",
              "  <thead>\n",
              "    <tr style=\"text-align: right;\">\n",
              "      <th></th>\n",
              "      <th>0</th>\n",
              "      <th>Electricity:Facility [kW](Hourly)</th>\n",
              "      <th>Fans:Electricity [kW](Hourly)</th>\n",
              "      <th>Cooling:Electricity [kW](Hourly)</th>\n",
              "      <th>Heating:Electricity [kW](Hourly)</th>\n",
              "      <th>InteriorLights:Electricity [kW](Hourly)</th>\n",
              "      <th>InteriorEquipment:Electricity [kW](Hourly)</th>\n",
              "      <th>Gas:Facility [kW](Hourly)</th>\n",
              "      <th>Heating:Gas [kW](Hourly)</th>\n",
              "      <th>InteriorEquipment:Gas [kW](Hourly)</th>\n",
              "      <th>Water Heater:WaterSystems:Gas [kW](Hourly)</th>\n",
              "      <th>Class</th>\n",
              "      <th>theft</th>\n",
              "    </tr>\n",
              "  </thead>\n",
              "  <tbody>\n",
              "    <tr>\n",
              "      <th>0</th>\n",
              "      <td>0</td>\n",
              "      <td>22.035977</td>\n",
              "      <td>3.586221</td>\n",
              "      <td>0.0</td>\n",
              "      <td>0.0</td>\n",
              "      <td>4.589925</td>\n",
              "      <td>8.1892</td>\n",
              "      <td>136.585903</td>\n",
              "      <td>123.999076</td>\n",
              "      <td>3.33988</td>\n",
              "      <td>9.246947</td>\n",
              "      <td>1</td>\n",
              "      <td>0</td>\n",
              "    </tr>\n",
              "    <tr>\n",
              "      <th>1</th>\n",
              "      <td>1</td>\n",
              "      <td>14.649757</td>\n",
              "      <td>0.000000</td>\n",
              "      <td>0.0</td>\n",
              "      <td>0.0</td>\n",
              "      <td>1.529975</td>\n",
              "      <td>7.4902</td>\n",
              "      <td>3.359880</td>\n",
              "      <td>0.000000</td>\n",
              "      <td>3.33988</td>\n",
              "      <td>0.020000</td>\n",
              "      <td>1</td>\n",
              "      <td>0</td>\n",
              "    </tr>\n",
              "    <tr>\n",
              "      <th>2</th>\n",
              "      <td>2</td>\n",
              "      <td>14.669567</td>\n",
              "      <td>0.000000</td>\n",
              "      <td>0.0</td>\n",
              "      <td>0.0</td>\n",
              "      <td>1.529975</td>\n",
              "      <td>7.4902</td>\n",
              "      <td>3.359880</td>\n",
              "      <td>0.000000</td>\n",
              "      <td>3.33988</td>\n",
              "      <td>0.020000</td>\n",
              "      <td>1</td>\n",
              "      <td>0</td>\n",
              "    </tr>\n",
              "    <tr>\n",
              "      <th>3</th>\n",
              "      <td>3</td>\n",
              "      <td>14.677808</td>\n",
              "      <td>0.000000</td>\n",
              "      <td>0.0</td>\n",
              "      <td>0.0</td>\n",
              "      <td>1.529975</td>\n",
              "      <td>7.4902</td>\n",
              "      <td>3.931932</td>\n",
              "      <td>0.000000</td>\n",
              "      <td>3.33988</td>\n",
              "      <td>0.592052</td>\n",
              "      <td>1</td>\n",
              "      <td>0</td>\n",
              "    </tr>\n",
              "    <tr>\n",
              "      <th>4</th>\n",
              "      <td>4</td>\n",
              "      <td>14.824794</td>\n",
              "      <td>0.000000</td>\n",
              "      <td>0.0</td>\n",
              "      <td>0.0</td>\n",
              "      <td>1.529975</td>\n",
              "      <td>7.4902</td>\n",
              "      <td>3.359880</td>\n",
              "      <td>0.000000</td>\n",
              "      <td>3.33988</td>\n",
              "      <td>0.020000</td>\n",
              "      <td>1</td>\n",
              "      <td>0</td>\n",
              "    </tr>\n",
              "    <tr>\n",
              "      <th>...</th>\n",
              "      <td>...</td>\n",
              "      <td>...</td>\n",
              "      <td>...</td>\n",
              "      <td>...</td>\n",
              "      <td>...</td>\n",
              "      <td>...</td>\n",
              "      <td>...</td>\n",
              "      <td>...</td>\n",
              "      <td>...</td>\n",
              "      <td>...</td>\n",
              "      <td>...</td>\n",
              "      <td>...</td>\n",
              "      <td>...</td>\n",
              "    </tr>\n",
              "    <tr>\n",
              "      <th>560650</th>\n",
              "      <td>560650</td>\n",
              "      <td>17.388701</td>\n",
              "      <td>1.972876</td>\n",
              "      <td>0.0</td>\n",
              "      <td>0.0</td>\n",
              "      <td>5.481225</td>\n",
              "      <td>1.0116</td>\n",
              "      <td>36.755737</td>\n",
              "      <td>36.755737</td>\n",
              "      <td>0.00000</td>\n",
              "      <td>0.000000</td>\n",
              "      <td>16</td>\n",
              "      <td>1</td>\n",
              "    </tr>\n",
              "    <tr>\n",
              "      <th>560651</th>\n",
              "      <td>560651</td>\n",
              "      <td>17.274210</td>\n",
              "      <td>1.858385</td>\n",
              "      <td>0.0</td>\n",
              "      <td>0.0</td>\n",
              "      <td>5.481225</td>\n",
              "      <td>1.0116</td>\n",
              "      <td>34.861068</td>\n",
              "      <td>34.861068</td>\n",
              "      <td>0.00000</td>\n",
              "      <td>0.000000</td>\n",
              "      <td>16</td>\n",
              "      <td>1</td>\n",
              "    </tr>\n",
              "    <tr>\n",
              "      <th>560652</th>\n",
              "      <td>560652</td>\n",
              "      <td>18.231203</td>\n",
              "      <td>2.815379</td>\n",
              "      <td>0.0</td>\n",
              "      <td>0.0</td>\n",
              "      <td>5.481225</td>\n",
              "      <td>1.0116</td>\n",
              "      <td>52.866559</td>\n",
              "      <td>52.866559</td>\n",
              "      <td>0.00000</td>\n",
              "      <td>0.000000</td>\n",
              "      <td>16</td>\n",
              "      <td>1</td>\n",
              "    </tr>\n",
              "    <tr>\n",
              "      <th>560653</th>\n",
              "      <td>560653</td>\n",
              "      <td>17.737117</td>\n",
              "      <td>2.321293</td>\n",
              "      <td>0.0</td>\n",
              "      <td>0.0</td>\n",
              "      <td>5.481225</td>\n",
              "      <td>1.0116</td>\n",
              "      <td>43.758956</td>\n",
              "      <td>43.758956</td>\n",
              "      <td>0.00000</td>\n",
              "      <td>0.000000</td>\n",
              "      <td>16</td>\n",
              "      <td>1</td>\n",
              "    </tr>\n",
              "    <tr>\n",
              "      <th>560654</th>\n",
              "      <td>560654</td>\n",
              "      <td>18.413804</td>\n",
              "      <td>2.997979</td>\n",
              "      <td>0.0</td>\n",
              "      <td>0.0</td>\n",
              "      <td>5.481225</td>\n",
              "      <td>1.0116</td>\n",
              "      <td>56.456040</td>\n",
              "      <td>56.456040</td>\n",
              "      <td>0.00000</td>\n",
              "      <td>0.000000</td>\n",
              "      <td>16</td>\n",
              "      <td>1</td>\n",
              "    </tr>\n",
              "  </tbody>\n",
              "</table>\n",
              "<p>489674 rows × 13 columns</p>\n",
              "</div>\n",
              "    <div class=\"colab-df-buttons\">\n",
              "\n",
              "  <div class=\"colab-df-container\">\n",
              "    <button class=\"colab-df-convert\" onclick=\"convertToInteractive('df-a568a0b1-431c-48d0-a5c5-e805f7bc6d6a')\"\n",
              "            title=\"Convert this dataframe to an interactive table.\"\n",
              "            style=\"display:none;\">\n",
              "\n",
              "  <svg xmlns=\"http://www.w3.org/2000/svg\" height=\"24px\" viewBox=\"0 -960 960 960\">\n",
              "    <path d=\"M120-120v-720h720v720H120Zm60-500h600v-160H180v160Zm220 220h160v-160H400v160Zm0 220h160v-160H400v160ZM180-400h160v-160H180v160Zm440 0h160v-160H620v160ZM180-180h160v-160H180v160Zm440 0h160v-160H620v160Z\"/>\n",
              "  </svg>\n",
              "    </button>\n",
              "\n",
              "  <style>\n",
              "    .colab-df-container {\n",
              "      display:flex;\n",
              "      gap: 12px;\n",
              "    }\n",
              "\n",
              "    .colab-df-convert {\n",
              "      background-color: #E8F0FE;\n",
              "      border: none;\n",
              "      border-radius: 50%;\n",
              "      cursor: pointer;\n",
              "      display: none;\n",
              "      fill: #1967D2;\n",
              "      height: 32px;\n",
              "      padding: 0 0 0 0;\n",
              "      width: 32px;\n",
              "    }\n",
              "\n",
              "    .colab-df-convert:hover {\n",
              "      background-color: #E2EBFA;\n",
              "      box-shadow: 0px 1px 2px rgba(60, 64, 67, 0.3), 0px 1px 3px 1px rgba(60, 64, 67, 0.15);\n",
              "      fill: #174EA6;\n",
              "    }\n",
              "\n",
              "    .colab-df-buttons div {\n",
              "      margin-bottom: 4px;\n",
              "    }\n",
              "\n",
              "    [theme=dark] .colab-df-convert {\n",
              "      background-color: #3B4455;\n",
              "      fill: #D2E3FC;\n",
              "    }\n",
              "\n",
              "    [theme=dark] .colab-df-convert:hover {\n",
              "      background-color: #434B5C;\n",
              "      box-shadow: 0px 1px 3px 1px rgba(0, 0, 0, 0.15);\n",
              "      filter: drop-shadow(0px 1px 2px rgba(0, 0, 0, 0.3));\n",
              "      fill: #FFFFFF;\n",
              "    }\n",
              "  </style>\n",
              "\n",
              "    <script>\n",
              "      const buttonEl =\n",
              "        document.querySelector('#df-a568a0b1-431c-48d0-a5c5-e805f7bc6d6a button.colab-df-convert');\n",
              "      buttonEl.style.display =\n",
              "        google.colab.kernel.accessAllowed ? 'block' : 'none';\n",
              "\n",
              "      async function convertToInteractive(key) {\n",
              "        const element = document.querySelector('#df-a568a0b1-431c-48d0-a5c5-e805f7bc6d6a');\n",
              "        const dataTable =\n",
              "          await google.colab.kernel.invokeFunction('convertToInteractive',\n",
              "                                                    [key], {});\n",
              "        if (!dataTable) return;\n",
              "\n",
              "        const docLinkHtml = 'Like what you see? Visit the ' +\n",
              "          '<a target=\"_blank\" href=https://colab.research.google.com/notebooks/data_table.ipynb>data table notebook</a>'\n",
              "          + ' to learn more about interactive tables.';\n",
              "        element.innerHTML = '';\n",
              "        dataTable['output_type'] = 'display_data';\n",
              "        await google.colab.output.renderOutput(dataTable, element);\n",
              "        const docLink = document.createElement('div');\n",
              "        docLink.innerHTML = docLinkHtml;\n",
              "        element.appendChild(docLink);\n",
              "      }\n",
              "    </script>\n",
              "  </div>\n",
              "\n",
              "\n",
              "<div id=\"df-3add9307-dbfa-4453-91c0-b8cd97b4408b\">\n",
              "  <button class=\"colab-df-quickchart\" onclick=\"quickchart('df-3add9307-dbfa-4453-91c0-b8cd97b4408b')\"\n",
              "            title=\"Suggest charts.\"\n",
              "            style=\"display:none;\">\n",
              "\n",
              "<svg xmlns=\"http://www.w3.org/2000/svg\" height=\"24px\"viewBox=\"0 0 24 24\"\n",
              "     width=\"24px\">\n",
              "    <g>\n",
              "        <path d=\"M19 3H5c-1.1 0-2 .9-2 2v14c0 1.1.9 2 2 2h14c1.1 0 2-.9 2-2V5c0-1.1-.9-2-2-2zM9 17H7v-7h2v7zm4 0h-2V7h2v10zm4 0h-2v-4h2v4z\"/>\n",
              "    </g>\n",
              "</svg>\n",
              "  </button>\n",
              "\n",
              "<style>\n",
              "  .colab-df-quickchart {\n",
              "    background-color: #E8F0FE;\n",
              "    border: none;\n",
              "    border-radius: 50%;\n",
              "    cursor: pointer;\n",
              "    display: none;\n",
              "    fill: #1967D2;\n",
              "    height: 32px;\n",
              "    padding: 0 0 0 0;\n",
              "    width: 32px;\n",
              "  }\n",
              "\n",
              "  .colab-df-quickchart:hover {\n",
              "    background-color: #E2EBFA;\n",
              "    box-shadow: 0px 1px 2px rgba(60, 64, 67, 0.3), 0px 1px 3px 1px rgba(60, 64, 67, 0.15);\n",
              "    fill: #174EA6;\n",
              "  }\n",
              "\n",
              "  [theme=dark] .colab-df-quickchart {\n",
              "    background-color: #3B4455;\n",
              "    fill: #D2E3FC;\n",
              "  }\n",
              "\n",
              "  [theme=dark] .colab-df-quickchart:hover {\n",
              "    background-color: #434B5C;\n",
              "    box-shadow: 0px 1px 3px 1px rgba(0, 0, 0, 0.15);\n",
              "    filter: drop-shadow(0px 1px 2px rgba(0, 0, 0, 0.3));\n",
              "    fill: #FFFFFF;\n",
              "  }\n",
              "</style>\n",
              "\n",
              "  <script>\n",
              "    async function quickchart(key) {\n",
              "      const charts = await google.colab.kernel.invokeFunction(\n",
              "          'suggestCharts', [key], {});\n",
              "    }\n",
              "    (() => {\n",
              "      let quickchartButtonEl =\n",
              "        document.querySelector('#df-3add9307-dbfa-4453-91c0-b8cd97b4408b button');\n",
              "      quickchartButtonEl.style.display =\n",
              "        google.colab.kernel.accessAllowed ? 'block' : 'none';\n",
              "    })();\n",
              "  </script>\n",
              "</div>\n",
              "    </div>\n",
              "  </div>\n"
            ]
          },
          "metadata": {},
          "execution_count": 30
        }
      ]
    },
    {
      "cell_type": "code",
      "execution_count": null,
      "metadata": {
        "id": "Gx1FZ5c00ms6"
      },
      "outputs": [],
      "source": [
        "from sklearn.model_selection import train_test_split\n",
        "X =df[['Electricity:Facility [kW](Hourly)','Fans:Electricity [kW](Hourly)','Cooling:Electricity [kW](Hourly)','Heating:Electricity [kW](Hourly)','InteriorLights:Electricity [kW](Hourly)','InteriorEquipment:Electricity [kW](Hourly)','Gas:Facility [kW](Hourly)','Heating:Gas [kW](Hourly)','InteriorEquipment:Gas [kW](Hourly)','Water Heater:WaterSystems:Gas [kW](Hourly)','Class']]\n",
        "Y = df[['theft']]\n",
        "X_train, X_test, Y_train, Y_test = train_test_split(X, Y, test_size=0.2, random_state=15)"
      ]
    },
    {
      "cell_type": "code",
      "execution_count": null,
      "metadata": {
        "colab": {
          "base_uri": "https://localhost:8080/"
        },
        "id": "Ad6ODZkh0pPL",
        "outputId": "43914c0e-eb87-412f-b2b1-99d39339bda4"
      },
      "outputs": [
        {
          "output_type": "execute_result",
          "data": {
            "text/plain": [
              "(489674, 11)"
            ]
          },
          "metadata": {},
          "execution_count": 32
        }
      ],
      "source": [
        "X.shape"
      ]
    },
    {
      "cell_type": "code",
      "execution_count": null,
      "metadata": {
        "id": "tz1n1N360ry2",
        "colab": {
          "base_uri": "https://localhost:8080/"
        },
        "outputId": "519e0639-0b8f-4bba-f7b6-de62200d2c3f"
      },
      "outputs": [
        {
          "output_type": "execute_result",
          "data": {
            "text/plain": [
              "(489674, 1)"
            ]
          },
          "metadata": {},
          "execution_count": 33
        }
      ],
      "source": [
        "Y.shape"
      ]
    },
    {
      "cell_type": "code",
      "source": [],
      "metadata": {
        "id": "Ig4_8iSlvk22"
      },
      "execution_count": null,
      "outputs": []
    },
    {
      "cell_type": "code",
      "source": [
        "df.theft"
      ],
      "metadata": {
        "colab": {
          "base_uri": "https://localhost:8080/"
        },
        "id": "_r0PItSGwJLA",
        "outputId": "7a6fe090-33f9-4426-c031-bb4e0a240763"
      },
      "execution_count": null,
      "outputs": [
        {
          "output_type": "execute_result",
          "data": {
            "text/plain": [
              "0         0\n",
              "1         0\n",
              "2         0\n",
              "3         0\n",
              "4         0\n",
              "         ..\n",
              "560650    1\n",
              "560651    1\n",
              "560652    1\n",
              "560653    1\n",
              "560654    1\n",
              "Name: theft, Length: 489674, dtype: int64"
            ]
          },
          "metadata": {},
          "execution_count": 34
        }
      ]
    },
    {
      "cell_type": "code",
      "execution_count": null,
      "metadata": {
        "colab": {
          "base_uri": "https://localhost:8080/"
        },
        "id": "-OtEYCCl0uUP",
        "outputId": "3091561b-def1-45c6-843b-22d3a2536f8c"
      },
      "outputs": [
        {
          "output_type": "execute_result",
          "data": {
            "text/plain": [
              "theft\n",
              "0        275332\n",
              "1        214342\n",
              "dtype: int64"
            ]
          },
          "metadata": {},
          "execution_count": 35
        }
      ],
      "source": [
        "Y.value_counts()"
      ]
    },
    {
      "cell_type": "code",
      "execution_count": null,
      "metadata": {
        "id": "lBEFU2QCMCCJ"
      },
      "outputs": [],
      "source": [
        "# from imblearn.over_sampling import SMOTE\n",
        "# from sklearn.model_selection import train_test_split\n",
        "# smote = SMOTE(sampling_strategy='minority')\n",
        "# X_sm, y_sm = smote.fit_resample(X, Y)\n",
        "# y_sm.value_counts()\n",
        "# X_train, X_test, Y_train, Y_test = train_test_split(X_sm, y_sm, test_size=0.2, random_state=15, stratify=y_sm)"
      ]
    },
    {
      "cell_type": "code",
      "source": [
        "X = np.array(X)\n",
        "Y = np.array(Y)"
      ],
      "metadata": {
        "id": "p1AcBgIeKA-v"
      },
      "execution_count": null,
      "outputs": []
    },
    {
      "cell_type": "code",
      "execution_count": null,
      "metadata": {
        "id": "cYIW1VGmMBzl"
      },
      "outputs": [],
      "source": [
        "# from sklearn.model_selection import KFold\n",
        "# kf = KFold(n_splits = 2, random_state = 10, shuffle = True)\n",
        "# for train_index , test_index in kf.split(X):\n",
        "#       print(\"TRAIN:\" , train_index, \"Test :\" , test_index)\n",
        "#       X_train , X_test = X[train_index], X[test_index]\n",
        "#       Y_train , Y_test = Y[train_index], Y[test_index]\n"
      ]
    },
    {
      "cell_type": "code",
      "source": [
        "\n",
        "# import pandas as df_\n",
        "# X_train = pd.DataFrame(X_train)\n",
        "# Y_train = pd.DataFrame(Y_train)\n",
        "# X_test = pd.DataFrame(X_test)\n",
        "# Y_test = pd.DataFrame(Y_test)"
      ],
      "metadata": {
        "id": "ecx_QqZomVW3"
      },
      "execution_count": null,
      "outputs": []
    },
    {
      "cell_type": "code",
      "source": [
        "from imblearn.over_sampling import SMOTE\n",
        "from sklearn.model_selection import train_test_split\n",
        "smote = SMOTE(sampling_strategy='minority')\n",
        "X_train, Y_train = smote.fit_resample(X, Y)\n",
        "\n",
        "# y_sm.value_counts()\n",
        "X_train, X_test, Y_train, Y_test = train_test_split(X_train, Y_train, test_size=0.2, random_state=15, stratify=Y_train)"
      ],
      "metadata": {
        "id": "nS9INVgVZNbf"
      },
      "execution_count": null,
      "outputs": []
    },
    {
      "cell_type": "code",
      "source": [
        "X_train.shape"
      ],
      "metadata": {
        "colab": {
          "base_uri": "https://localhost:8080/"
        },
        "id": "FmhG0NZMKRL2",
        "outputId": "e8072362-cd6f-4b8e-e079-2665a6c4a92a"
      },
      "execution_count": null,
      "outputs": [
        {
          "output_type": "execute_result",
          "data": {
            "text/plain": [
              "(440531, 11)"
            ]
          },
          "metadata": {},
          "execution_count": 41
        }
      ]
    },
    {
      "cell_type": "code",
      "source": [
        "# from imblearn.over_sampling import ADASYN\n",
        "# ad = ADASYN(random_state=42)\n",
        "# X_train , Y_train = ad.fit_resample(X,Y)"
      ],
      "metadata": {
        "id": "MAP_wq4GLG3z"
      },
      "execution_count": null,
      "outputs": []
    },
    {
      "cell_type": "code",
      "source": [
        "X_train.shape"
      ],
      "metadata": {
        "colab": {
          "base_uri": "https://localhost:8080/"
        },
        "id": "n3LNQQI4L1Zc",
        "outputId": "a4d125c0-6907-4ca4-8410-2fa0efbdb04c"
      },
      "execution_count": null,
      "outputs": [
        {
          "output_type": "execute_result",
          "data": {
            "text/plain": [
              "(440531, 11)"
            ]
          },
          "metadata": {},
          "execution_count": 43
        }
      ]
    },
    {
      "cell_type": "markdown",
      "metadata": {
        "id": "oGezAG_H07P6"
      },
      "source": [
        "### K NEAREST NEIGHBOUR"
      ]
    },
    {
      "cell_type": "code",
      "execution_count": null,
      "metadata": {
        "colab": {
          "base_uri": "https://localhost:8080/"
        },
        "id": "GtcfC0sB0w1C",
        "outputId": "e8c97b2e-8ba1-4c36-db02-55893afe9ee4"
      },
      "outputs": [
        {
          "output_type": "execute_result",
          "data": {
            "text/plain": [
              "0.9412437688976056"
            ]
          },
          "metadata": {},
          "execution_count": 44
        }
      ],
      "source": [
        "from sklearn.neighbors import KNeighborsClassifier\n",
        "knn = KNeighborsClassifier(n_neighbors =4 )\n",
        "knn.fit(X_train,Y_train)\n",
        "knn.score(X_test, Y_test)"
      ]
    },
    {
      "cell_type": "code",
      "execution_count": null,
      "metadata": {
        "colab": {
          "base_uri": "https://localhost:8080/"
        },
        "id": "V9OdQMw80zu1",
        "outputId": "df44b906-05a2-4418-8760-e3785d653909"
      },
      "outputs": [
        {
          "output_type": "stream",
          "name": "stdout",
          "text": [
            "Classification Report: \n",
            "               precision    recall  f1-score   support\n",
            "\n",
            "           0       0.90      0.99      0.94     55067\n",
            "           1       0.99      0.89      0.94     55066\n",
            "\n",
            "    accuracy                           0.94    110133\n",
            "   macro avg       0.95      0.94      0.94    110133\n",
            "weighted avg       0.95      0.94      0.94    110133\n",
            "\n"
          ]
        }
      ],
      "source": [
        "y_preds =knn.predict(X_test)\n",
        "from sklearn.metrics import confusion_matrix , classification_report\n",
        "print(\"Classification Report: \\n\", classification_report(Y_test, y_preds))"
      ]
    },
    {
      "cell_type": "code",
      "execution_count": null,
      "metadata": {
        "colab": {
          "base_uri": "https://localhost:8080/",
          "height": 449
        },
        "id": "ZDYLzG0S011U",
        "outputId": "c1fbb369-7557-4551-b6d0-c3b4367f9005"
      },
      "outputs": [
        {
          "output_type": "display_data",
          "data": {
            "text/plain": [
              "<Figure size 640x480 with 1 Axes>"
            ],
            "image/png": "[encoded data removed]"
          },
          "metadata": {}
        }
      ],
      "source": [
        "from sklearn import metrics\n",
        "from sklearn.metrics import  roc_auc_score\n",
        "from sklearn.metrics import roc_curve , auc\n",
        "y_pred_proba = knn.predict_proba(X_test)[::,1]\n",
        "fpr , tpr , thresh = metrics.roc_curve(Y_test , y_pred_proba , pos_label=1)\n",
        "\n",
        "plt.plot(fpr,tpr , label =\"K NEAREST NEIGHBOUR\")\n",
        "plt.ylabel(\"True Positve Rate\")\n",
        "plt.xlabel(\" False Positive Rate\")\n",
        "plt.show()"
      ]
    },
    {
      "cell_type": "code",
      "execution_count": null,
      "metadata": {
        "colab": {
          "base_uri": "https://localhost:8080/"
        },
        "id": "eMxk0xkh8hTc",
        "outputId": "9aa8a496-ddc9-4402-a637-18bc76f80dfb"
      },
      "outputs": [
        {
          "output_type": "execute_result",
          "data": {
            "text/plain": [
              "0.9568670000425832"
            ]
          },
          "metadata": {},
          "execution_count": 47
        }
      ],
      "source": [
        "roc_auc_score(Y_test , y_pred_proba)"
      ]
    },
    {
      "cell_type": "markdown",
      "metadata": {
        "id": "TvFYrRPP0__I"
      },
      "source": [
        "### RANDOM FOREST"
      ]
    },
    {
      "cell_type": "code",
      "execution_count": null,
      "metadata": {
        "colab": {
          "base_uri": "https://localhost:8080/"
        },
        "id": "3k25bdsa058L",
        "outputId": "ecb51d16-ab3f-4ed8-e1a6-41e090f104c9"
      },
      "outputs": [
        {
          "output_type": "execute_result",
          "data": {
            "text/plain": [
              "0.9322001579907929"
            ]
          },
          "metadata": {},
          "execution_count": 48
        }
      ],
      "source": [
        "from sklearn.ensemble import RandomForestClassifier\n",
        "RF = RandomForestClassifier(n_estimators = 100 , criterion = \"entropy\")\n",
        "RF.fit(X_train,Y_train)\n",
        "RF.score(X_test,Y_test)"
      ]
    },
    {
      "cell_type": "code",
      "execution_count": null,
      "metadata": {
        "colab": {
          "base_uri": "https://localhost:8080/",
          "height": 449
        },
        "id": "PEfJ862719gV",
        "outputId": "95ea3764-dae3-4446-8119-ca27dda96fbe"
      },
      "outputs": [
        {
          "output_type": "display_data",
          "data": {
            "text/plain": [
              "<Figure size 640x480 with 1 Axes>"
            ],
            "image/png": "[encoded data removed]"
          },
          "metadata": {}
        }
      ],
      "source": [
        "from sklearn import metrics\n",
        "from sklearn.metrics import  roc_auc_score\n",
        "from sklearn.metrics import roc_curve , auc\n",
        "y_pred_proba = RF.predict_proba(X_test)[::,1]\n",
        "fpr , tpr , thresh = metrics.roc_curve(Y_test , y_pred_proba , pos_label=1)\n",
        "auc = metrics.roc_curve(Y_test , y_pred_proba , pos_label=1)\n",
        "plt.plot(fpr,tpr , label =\"AUC=\"+str(auc))\n",
        "plt.ylabel(\"True Positve Rate\")\n",
        "plt.xlabel(\" False Positive Rate\")\n",
        "plt.show()"
      ]
    },
    {
      "cell_type": "code",
      "execution_count": null,
      "metadata": {
        "colab": {
          "base_uri": "https://localhost:8080/"
        },
        "id": "sdOehpyiFOxc",
        "outputId": "081b7c59-11b3-4650-8b8b-b130d3b6d2f6"
      },
      "outputs": [
        {
          "output_type": "execute_result",
          "data": {
            "text/plain": [
              "0.9599125226986064"
            ]
          },
          "metadata": {},
          "execution_count": 50
        }
      ],
      "source": [
        "roc_auc_score(Y_test , y_pred_proba)"
      ]
    },
    {
      "cell_type": "code",
      "execution_count": null,
      "metadata": {
        "colab": {
          "base_uri": "https://localhost:8080/"
        },
        "id": "ZSnTSK_a2Cjy",
        "outputId": "a5b8d245-c451-4f5c-d61a-41c169851597"
      },
      "outputs": [
        {
          "output_type": "stream",
          "name": "stdout",
          "text": [
            "Classification Report: \n",
            "               precision    recall  f1-score   support\n",
            "\n",
            "           0       0.92      0.95      0.93     55067\n",
            "           1       0.95      0.91      0.93     55066\n",
            "\n",
            "    accuracy                           0.93    110133\n",
            "   macro avg       0.93      0.93      0.93    110133\n",
            "weighted avg       0.93      0.93      0.93    110133\n",
            "\n"
          ]
        }
      ],
      "source": [
        "y_preds =RF.predict(X_test)\n",
        "from sklearn.metrics import confusion_matrix , classification_report\n",
        "print(\"Classification Report: \\n\", classification_report(Y_test, y_preds))"
      ]
    },
    {
      "cell_type": "markdown",
      "metadata": {
        "id": "h2_5ALT92jJ_"
      },
      "source": [
        "### DECISION TREE"
      ]
    },
    {
      "cell_type": "code",
      "execution_count": null,
      "metadata": {
        "colab": {
          "base_uri": "https://localhost:8080/"
        },
        "id": "PeM4TrI02g56",
        "outputId": "8060c7fe-eb4b-475d-fc16-5412a2acc81d"
      },
      "outputs": [
        {
          "output_type": "execute_result",
          "data": {
            "text/plain": [
              "0.9504871382782636"
            ]
          },
          "metadata": {},
          "execution_count": 52
        }
      ],
      "source": [
        "from sklearn.tree import DecisionTreeClassifier\n",
        "dt = DecisionTreeClassifier(criterion='entropy', random_state=100 , max_depth = 35 ,min_samples_leaf= 11)\n",
        "dt.fit(X_train , Y_train)\n",
        "dt.score(X_test,Y_test)"
      ]
    },
    {
      "cell_type": "code",
      "execution_count": null,
      "metadata": {
        "colab": {
          "base_uri": "https://localhost:8080/",
          "height": 449
        },
        "id": "xmqCYSEg2nXi",
        "outputId": "980c6389-62f6-46a9-e0e2-424f611407fb"
      },
      "outputs": [
        {
          "output_type": "display_data",
          "data": {
            "text/plain": [
              "<Figure size 640x480 with 1 Axes>"
            ],
            "image/png": "[encoded data removed]"
          },
          "metadata": {}
        }
      ],
      "source": [
        "from sklearn import metrics\n",
        "from sklearn.metrics import  roc_auc_score\n",
        "from sklearn.metrics import roc_curve , auc\n",
        "y_pred_proba = dt.predict_proba(X_test)[::,1]\n",
        "fpr , tpr , thresh = metrics.roc_curve(Y_test , y_pred_proba , pos_label=1)\n",
        "auc = metrics.roc_curve(Y_test , y_pred_proba , pos_label=1)\n",
        "plt.plot(fpr,tpr , label =\"AUC=\"+str(auc))\n",
        "plt.ylabel(\"True Positve Rate\")\n",
        "plt.xlabel(\" False Positive Rate\")\n",
        "plt.show()"
      ]
    },
    {
      "cell_type": "code",
      "execution_count": null,
      "metadata": {
        "id": "h4oArd7f37ag",
        "colab": {
          "base_uri": "https://localhost:8080/"
        },
        "outputId": "049fce4c-f19a-4f09-d38d-8ccc7a71dfff"
      },
      "outputs": [
        {
          "output_type": "execute_result",
          "data": {
            "text/plain": [
              "0.9612264822277685"
            ]
          },
          "metadata": {},
          "execution_count": 54
        }
      ],
      "source": [
        "roc_auc_score(Y_test , y_pred_proba)"
      ]
    },
    {
      "cell_type": "code",
      "execution_count": null,
      "metadata": {
        "colab": {
          "base_uri": "https://localhost:8080/"
        },
        "id": "iVu2egqQ3CA8",
        "outputId": "105d4a95-3d13-44eb-833f-3925508b36f5"
      },
      "outputs": [
        {
          "output_type": "stream",
          "name": "stdout",
          "text": [
            "Classification Report: \n",
            "               precision    recall  f1-score   support\n",
            "\n",
            "           0       0.92      0.99      0.95     55067\n",
            "           1       0.99      0.91      0.95     55066\n",
            "\n",
            "    accuracy                           0.95    110133\n",
            "   macro avg       0.95      0.95      0.95    110133\n",
            "weighted avg       0.95      0.95      0.95    110133\n",
            "\n"
          ]
        }
      ],
      "source": [
        "y_preds =dt.predict(X_test)\n",
        "from sklearn.metrics import confusion_matrix , classification_report\n",
        "print(\"Classification Report: \\n\", classification_report(Y_test, y_preds))"
      ]
    },
    {
      "cell_type": "markdown",
      "metadata": {
        "id": "AJMp9AZ93ubs"
      },
      "source": [
        "### LOGISTIC REGRESSION"
      ]
    },
    {
      "cell_type": "code",
      "execution_count": null,
      "metadata": {
        "colab": {
          "base_uri": "https://localhost:8080/"
        },
        "id": "7y99ZHt23HNy",
        "outputId": "cf46c257-1857-47e3-9c74-ee8e067aec7f"
      },
      "outputs": [
        {
          "output_type": "execute_result",
          "data": {
            "text/plain": [
              "0.587789309289677"
            ]
          },
          "metadata": {},
          "execution_count": 56
        }
      ],
      "source": [
        "\n",
        "from sklearn.linear_model import LogisticRegression\n",
        "lr = LogisticRegression(C=5.0 , multi_class = 'multinomial', solver ='newton-cg')\n",
        "lr.fit(X_train,Y_train)\n",
        "lr.score(X_test,Y_test)"
      ]
    },
    {
      "cell_type": "code",
      "execution_count": null,
      "metadata": {
        "colab": {
          "base_uri": "https://localhost:8080/",
          "height": 449
        },
        "id": "DlVuUj8O3x--",
        "outputId": "4571e934-5b25-4de4-c62b-7eda80667222"
      },
      "outputs": [
        {
          "output_type": "display_data",
          "data": {
            "text/plain": [
              "<Figure size 640x480 with 1 Axes>"
            ],
            "image/png": "[encoded data removed]"
          },
          "metadata": {}
        }
      ],
      "source": [
        "from sklearn import metrics\n",
        "from sklearn.metrics import  roc_auc_score\n",
        "from sklearn.metrics import roc_curve , auc\n",
        "y_pred_proba = lr.predict_proba(X_test)[::,1]\n",
        "fpr , tpr , thresh = metrics.roc_curve(Y_test , y_pred_proba , pos_label=1)\n",
        "auc = metrics.roc_curve(Y_test , y_pred_proba , pos_label=1)\n",
        "plt.plot(fpr,tpr , label =\"AUC=\"+str(auc))\n",
        "plt.ylabel(\"True Positve Rate\")\n",
        "plt.xlabel(\" False Positive Rate\")\n",
        "plt.show()"
      ]
    },
    {
      "cell_type": "code",
      "execution_count": null,
      "metadata": {
        "id": "shTENQGV303c",
        "colab": {
          "base_uri": "https://localhost:8080/"
        },
        "outputId": "2fc280e2-4e02-4ff4-eaec-ab474463713f"
      },
      "outputs": [
        {
          "output_type": "execute_result",
          "data": {
            "text/plain": [
              "0.6469730806611573"
            ]
          },
          "metadata": {},
          "execution_count": 58
        }
      ],
      "source": [
        "roc_auc_score(Y_test , y_pred_proba)"
      ]
    },
    {
      "cell_type": "code",
      "execution_count": null,
      "metadata": {
        "colab": {
          "base_uri": "https://localhost:8080/"
        },
        "id": "jYVflGUu3-FY",
        "outputId": "fc0a6674-e43e-4320-ebdf-b93ccb2437fa"
      },
      "outputs": [
        {
          "output_type": "stream",
          "name": "stdout",
          "text": [
            "Classification Report: \n",
            "               precision    recall  f1-score   support\n",
            "\n",
            "           0       0.60      0.53      0.56     55067\n",
            "           1       0.58      0.65      0.61     55066\n",
            "\n",
            "    accuracy                           0.59    110133\n",
            "   macro avg       0.59      0.59      0.59    110133\n",
            "weighted avg       0.59      0.59      0.59    110133\n",
            "\n"
          ]
        }
      ],
      "source": [
        "y_preds =lr.predict(X_test)\n",
        "from sklearn.metrics import confusion_matrix , classification_report\n",
        "print(\"Classification Report: \\n\", classification_report(Y_test, y_preds))"
      ]
    },
    {
      "cell_type": "markdown",
      "metadata": {
        "id": "595iAnWj9XoW"
      },
      "source": [
        "### BAGGING METHOD"
      ]
    },
    {
      "cell_type": "markdown",
      "source": [],
      "metadata": {
        "id": "JvC83vnc6Hxh"
      }
    },
    {
      "cell_type": "code",
      "execution_count": null,
      "metadata": {
        "colab": {
          "base_uri": "https://localhost:8080/"
        },
        "id": "1SuLqYHFE-4s",
        "outputId": "68bc836a-20d3-4b1c-f0d7-81f5856af30f"
      },
      "outputs": [
        {
          "output_type": "execute_result",
          "data": {
            "text/plain": [
              "0.9343793413418322"
            ]
          },
          "metadata": {},
          "execution_count": 60
        }
      ],
      "source": [
        "from sklearn.ensemble import BaggingClassifier\n",
        "bc = BaggingClassifier()\n",
        "bc.fit(X_train, Y_train)\n",
        "bc.score(X_test , Y_test)"
      ]
    },
    {
      "cell_type": "code",
      "execution_count": null,
      "metadata": {
        "colab": {
          "base_uri": "https://localhost:8080/",
          "height": 449
        },
        "id": "e_frqqPu9kf2",
        "outputId": "1cdf798b-6cf4-4c7b-cce7-687aa38ca9de"
      },
      "outputs": [
        {
          "output_type": "display_data",
          "data": {
            "text/plain": [
              "<Figure size 640x480 with 1 Axes>"
            ],
            "image/png": "[encoded data removed]"
          },
          "metadata": {}
        }
      ],
      "source": [
        "from sklearn import metrics\n",
        "from sklearn.metrics import  roc_auc_score\n",
        "from sklearn.metrics import roc_curve , auc\n",
        "y_pred_proba = bc.predict_proba(X_test)[::,1]\n",
        "fpr , tpr , thresh = metrics.roc_curve(Y_test , y_pred_proba)\n",
        "auc = metrics.roc_curve(Y_test , y_pred_proba )\n",
        "plt.plot(fpr,tpr , label =\"AUC=\"+str(auc))\n",
        "plt.ylabel(\"True Positve Rate\")\n",
        "plt.xlabel(\" False Positive Rate\")\n",
        "plt.show()"
      ]
    },
    {
      "cell_type": "code",
      "execution_count": null,
      "metadata": {
        "id": "Df5oXtTZ9oEY",
        "colab": {
          "base_uri": "https://localhost:8080/"
        },
        "outputId": "7f1cd79c-8c01-4f20-89f4-a74abfc5ccf9"
      },
      "outputs": [
        {
          "output_type": "execute_result",
          "data": {
            "text/plain": [
              "0.9582497084306181"
            ]
          },
          "metadata": {},
          "execution_count": 62
        }
      ],
      "source": [
        "roc_auc_score(Y_test , y_pred_proba)"
      ]
    },
    {
      "cell_type": "code",
      "execution_count": null,
      "metadata": {
        "colab": {
          "base_uri": "https://localhost:8080/"
        },
        "id": "8C6Iozxl9r4W",
        "outputId": "7ea0d28f-e335-4122-e869-45e30cf83f32"
      },
      "outputs": [
        {
          "output_type": "stream",
          "name": "stdout",
          "text": [
            "Classification Report: \n",
            "               precision    recall  f1-score   support\n",
            "\n",
            "           0       0.92      0.95      0.94     55067\n",
            "           1       0.95      0.91      0.93     55066\n",
            "\n",
            "    accuracy                           0.93    110133\n",
            "   macro avg       0.94      0.93      0.93    110133\n",
            "weighted avg       0.94      0.93      0.93    110133\n",
            "\n"
          ]
        }
      ],
      "source": [
        "y_preds = bc.predict(X_test)\n",
        "from sklearn.metrics import confusion_matrix , classification_report\n",
        "print(\"Classification Report: \\n\", classification_report(Y_test, y_preds))"
      ]
    },
    {
      "cell_type": "code",
      "execution_count": null,
      "metadata": {
        "colab": {
          "base_uri": "https://localhost:8080/",
          "height": 261
        },
        "id": "9jQc32s15Niq",
        "outputId": "e3229000-c131-417a-db00-d4eca6c64134"
      },
      "outputs": [
        {
          "output_type": "execute_result",
          "data": {
            "text/plain": [
              "   0  Electricity:Facility [kW](Hourly)  Fans:Electricity [kW](Hourly)  \\\n",
              "0  0                          22.035977                       3.586221   \n",
              "1  1                          14.649757                       0.000000   \n",
              "2  2                          14.669567                       0.000000   \n",
              "3  3                          14.677808                       0.000000   \n",
              "4  4                          14.824794                       0.000000   \n",
              "\n",
              "   Cooling:Electricity [kW](Hourly)  Heating:Electricity [kW](Hourly)  \\\n",
              "0                               0.0                               0.0   \n",
              "1                               0.0                               0.0   \n",
              "2                               0.0                               0.0   \n",
              "3                               0.0                               0.0   \n",
              "4                               0.0                               0.0   \n",
              "\n",
              "   InteriorLights:Electricity [kW](Hourly)  \\\n",
              "0                                 4.589925   \n",
              "1                                 1.529975   \n",
              "2                                 1.529975   \n",
              "3                                 1.529975   \n",
              "4                                 1.529975   \n",
              "\n",
              "   InteriorEquipment:Electricity [kW](Hourly)  Gas:Facility [kW](Hourly)  \\\n",
              "0                                      8.1892                 136.585903   \n",
              "1                                      7.4902                   3.359880   \n",
              "2                                      7.4902                   3.359880   \n",
              "3                                      7.4902                   3.931932   \n",
              "4                                      7.4902                   3.359880   \n",
              "\n",
              "   Heating:Gas [kW](Hourly)  InteriorEquipment:Gas [kW](Hourly)  \\\n",
              "0                123.999076                             3.33988   \n",
              "1                  0.000000                             3.33988   \n",
              "2                  0.000000                             3.33988   \n",
              "3                  0.000000                             3.33988   \n",
              "4                  0.000000                             3.33988   \n",
              "\n",
              "   Water Heater:WaterSystems:Gas [kW](Hourly)  Class  theft  \n",
              "0                                    9.246947      1      0  \n",
              "1                                    0.020000      1      0  \n",
              "2                                    0.020000      1      0  \n",
              "3                                    0.592052      1      0  \n",
              "4                                    0.020000      1      0  "
            ],
            "text/html": [
              "\n",
              "  <div id=\"df-95799c7f-ad74-4619-a344-b6eace8645fa\" class=\"colab-df-container\">\n",
              "    <div>\n",
              "<style scoped>\n",
              "    .dataframe tbody tr th:only-of-type {\n",
              "        vertical-align: middle;\n",
              "    }\n",
              "\n",
              "    .dataframe tbody tr th {\n",
              "        vertical-align: top;\n",
              "    }\n",
              "\n",
              "    .dataframe thead th {\n",
              "        text-align: right;\n",
              "    }\n",
              "</style>\n",
              "<table border=\"1\" class=\"dataframe\">\n",
              "  <thead>\n",
              "    <tr style=\"text-align: right;\">\n",
              "      <th></th>\n",
              "      <th>0</th>\n",
              "      <th>Electricity:Facility [kW](Hourly)</th>\n",
              "      <th>Fans:Electricity [kW](Hourly)</th>\n",
              "      <th>Cooling:Electricity [kW](Hourly)</th>\n",
              "      <th>Heating:Electricity [kW](Hourly)</th>\n",
              "      <th>InteriorLights:Electricity [kW](Hourly)</th>\n",
              "      <th>InteriorEquipment:Electricity [kW](Hourly)</th>\n",
              "      <th>Gas:Facility [kW](Hourly)</th>\n",
              "      <th>Heating:Gas [kW](Hourly)</th>\n",
              "      <th>InteriorEquipment:Gas [kW](Hourly)</th>\n",
              "      <th>Water Heater:WaterSystems:Gas [kW](Hourly)</th>\n",
              "      <th>Class</th>\n",
              "      <th>theft</th>\n",
              "    </tr>\n",
              "  </thead>\n",
              "  <tbody>\n",
              "    <tr>\n",
              "      <th>0</th>\n",
              "      <td>0</td>\n",
              "      <td>22.035977</td>\n",
              "      <td>3.586221</td>\n",
              "      <td>0.0</td>\n",
              "      <td>0.0</td>\n",
              "      <td>4.589925</td>\n",
              "      <td>8.1892</td>\n",
              "      <td>136.585903</td>\n",
              "      <td>123.999076</td>\n",
              "      <td>3.33988</td>\n",
              "      <td>9.246947</td>\n",
              "      <td>1</td>\n",
              "      <td>0</td>\n",
              "    </tr>\n",
              "    <tr>\n",
              "      <th>1</th>\n",
              "      <td>1</td>\n",
              "      <td>14.649757</td>\n",
              "      <td>0.000000</td>\n",
              "      <td>0.0</td>\n",
              "      <td>0.0</td>\n",
              "      <td>1.529975</td>\n",
              "      <td>7.4902</td>\n",
              "      <td>3.359880</td>\n",
              "      <td>0.000000</td>\n",
              "      <td>3.33988</td>\n",
              "      <td>0.020000</td>\n",
              "      <td>1</td>\n",
              "      <td>0</td>\n",
              "    </tr>\n",
              "    <tr>\n",
              "      <th>2</th>\n",
              "      <td>2</td>\n",
              "      <td>14.669567</td>\n",
              "      <td>0.000000</td>\n",
              "      <td>0.0</td>\n",
              "      <td>0.0</td>\n",
              "      <td>1.529975</td>\n",
              "      <td>7.4902</td>\n",
              "      <td>3.359880</td>\n",
              "      <td>0.000000</td>\n",
              "      <td>3.33988</td>\n",
              "      <td>0.020000</td>\n",
              "      <td>1</td>\n",
              "      <td>0</td>\n",
              "    </tr>\n",
              "    <tr>\n",
              "      <th>3</th>\n",
              "      <td>3</td>\n",
              "      <td>14.677808</td>\n",
              "      <td>0.000000</td>\n",
              "      <td>0.0</td>\n",
              "      <td>0.0</td>\n",
              "      <td>1.529975</td>\n",
              "      <td>7.4902</td>\n",
              "      <td>3.931932</td>\n",
              "      <td>0.000000</td>\n",
              "      <td>3.33988</td>\n",
              "      <td>0.592052</td>\n",
              "      <td>1</td>\n",
              "      <td>0</td>\n",
              "    </tr>\n",
              "    <tr>\n",
              "      <th>4</th>\n",
              "      <td>4</td>\n",
              "      <td>14.824794</td>\n",
              "      <td>0.000000</td>\n",
              "      <td>0.0</td>\n",
              "      <td>0.0</td>\n",
              "      <td>1.529975</td>\n",
              "      <td>7.4902</td>\n",
              "      <td>3.359880</td>\n",
              "      <td>0.000000</td>\n",
              "      <td>3.33988</td>\n",
              "      <td>0.020000</td>\n",
              "      <td>1</td>\n",
              "      <td>0</td>\n",
              "    </tr>\n",
              "  </tbody>\n",
              "</table>\n",
              "</div>\n",
              "    <div class=\"colab-df-buttons\">\n",
              "\n",
              "  <div class=\"colab-df-container\">\n",
              "    <button class=\"colab-df-convert\" onclick=\"convertToInteractive('df-95799c7f-ad74-4619-a344-b6eace8645fa')\"\n",
              "            title=\"Convert this dataframe to an interactive table.\"\n",
              "            style=\"display:none;\">\n",
              "\n",
              "  <svg xmlns=\"http://www.w3.org/2000/svg\" height=\"24px\" viewBox=\"0 -960 960 960\">\n",
              "    <path d=\"M120-120v-720h720v720H120Zm60-500h600v-160H180v160Zm220 220h160v-160H400v160Zm0 220h160v-160H400v160ZM180-400h160v-160H180v160Zm440 0h160v-160H620v160ZM180-180h160v-160H180v160Zm440 0h160v-160H620v160Z\"/>\n",
              "  </svg>\n",
              "    </button>\n",
              "\n",
              "  <style>\n",
              "    .colab-df-container {\n",
              "      display:flex;\n",
              "      gap: 12px;\n",
              "    }\n",
              "\n",
              "    .colab-df-convert {\n",
              "      background-color: #E8F0FE;\n",
              "      border: none;\n",
              "      border-radius: 50%;\n",
              "      cursor: pointer;\n",
              "      display: none;\n",
              "      fill: #1967D2;\n",
              "      height: 32px;\n",
              "      padding: 0 0 0 0;\n",
              "      width: 32px;\n",
              "    }\n",
              "\n",
              "    .colab-df-convert:hover {\n",
              "      background-color: #E2EBFA;\n",
              "      box-shadow: 0px 1px 2px rgba(60, 64, 67, 0.3), 0px 1px 3px 1px rgba(60, 64, 67, 0.15);\n",
              "      fill: #174EA6;\n",
              "    }\n",
              "\n",
              "    .colab-df-buttons div {\n",
              "      margin-bottom: 4px;\n",
              "    }\n",
              "\n",
              "    [theme=dark] .colab-df-convert {\n",
              "      background-color: #3B4455;\n",
              "      fill: #D2E3FC;\n",
              "    }\n",
              "\n",
              "    [theme=dark] .colab-df-convert:hover {\n",
              "      background-color: #434B5C;\n",
              "      box-shadow: 0px 1px 3px 1px rgba(0, 0, 0, 0.15);\n",
              "      filter: drop-shadow(0px 1px 2px rgba(0, 0, 0, 0.3));\n",
              "      fill: #FFFFFF;\n",
              "    }\n",
              "  </style>\n",
              "\n",
              "    <script>\n",
              "      const buttonEl =\n",
              "        document.querySelector('#df-95799c7f-ad74-4619-a344-b6eace8645fa button.colab-df-convert');\n",
              "      buttonEl.style.display =\n",
              "        google.colab.kernel.accessAllowed ? 'block' : 'none';\n",
              "\n",
              "      async function convertToInteractive(key) {\n",
              "        const element = document.querySelector('#df-95799c7f-ad74-4619-a344-b6eace8645fa');\n",
              "        const dataTable =\n",
              "          await google.colab.kernel.invokeFunction('convertToInteractive',\n",
              "                                                    [key], {});\n",
              "        if (!dataTable) return;\n",
              "\n",
              "        const docLinkHtml = 'Like what you see? Visit the ' +\n",
              "          '<a target=\"_blank\" href=https://colab.research.google.com/notebooks/data_table.ipynb>data table notebook</a>'\n",
              "          + ' to learn more about interactive tables.';\n",
              "        element.innerHTML = '';\n",
              "        dataTable['output_type'] = 'display_data';\n",
              "        await google.colab.output.renderOutput(dataTable, element);\n",
              "        const docLink = document.createElement('div');\n",
              "        docLink.innerHTML = docLinkHtml;\n",
              "        element.appendChild(docLink);\n",
              "      }\n",
              "    </script>\n",
              "  </div>\n",
              "\n",
              "\n",
              "<div id=\"df-4920167d-cb7b-4795-9839-68f33bc8e533\">\n",
              "  <button class=\"colab-df-quickchart\" onclick=\"quickchart('df-4920167d-cb7b-4795-9839-68f33bc8e533')\"\n",
              "            title=\"Suggest charts.\"\n",
              "            style=\"display:none;\">\n",
              "\n",
              "<svg xmlns=\"http://www.w3.org/2000/svg\" height=\"24px\"viewBox=\"0 0 24 24\"\n",
              "     width=\"24px\">\n",
              "    <g>\n",
              "        <path d=\"M19 3H5c-1.1 0-2 .9-2 2v14c0 1.1.9 2 2 2h14c1.1 0 2-.9 2-2V5c0-1.1-.9-2-2-2zM9 17H7v-7h2v7zm4 0h-2V7h2v10zm4 0h-2v-4h2v4z\"/>\n",
              "    </g>\n",
              "</svg>\n",
              "  </button>\n",
              "\n",
              "<style>\n",
              "  .colab-df-quickchart {\n",
              "    background-color: #E8F0FE;\n",
              "    border: none;\n",
              "    border-radius: 50%;\n",
              "    cursor: pointer;\n",
              "    display: none;\n",
              "    fill: #1967D2;\n",
              "    height: 32px;\n",
              "    padding: 0 0 0 0;\n",
              "    width: 32px;\n",
              "  }\n",
              "\n",
              "  .colab-df-quickchart:hover {\n",
              "    background-color: #E2EBFA;\n",
              "    box-shadow: 0px 1px 2px rgba(60, 64, 67, 0.3), 0px 1px 3px 1px rgba(60, 64, 67, 0.15);\n",
              "    fill: #174EA6;\n",
              "  }\n",
              "\n",
              "  [theme=dark] .colab-df-quickchart {\n",
              "    background-color: #3B4455;\n",
              "    fill: #D2E3FC;\n",
              "  }\n",
              "\n",
              "  [theme=dark] .colab-df-quickchart:hover {\n",
              "    background-color: #434B5C;\n",
              "    box-shadow: 0px 1px 3px 1px rgba(0, 0, 0, 0.15);\n",
              "    filter: drop-shadow(0px 1px 2px rgba(0, 0, 0, 0.3));\n",
              "    fill: #FFFFFF;\n",
              "  }\n",
              "</style>\n",
              "\n",
              "  <script>\n",
              "    async function quickchart(key) {\n",
              "      const charts = await google.colab.kernel.invokeFunction(\n",
              "          'suggestCharts', [key], {});\n",
              "    }\n",
              "    (() => {\n",
              "      let quickchartButtonEl =\n",
              "        document.querySelector('#df-4920167d-cb7b-4795-9839-68f33bc8e533 button');\n",
              "      quickchartButtonEl.style.display =\n",
              "        google.colab.kernel.accessAllowed ? 'block' : 'none';\n",
              "    })();\n",
              "  </script>\n",
              "</div>\n",
              "    </div>\n",
              "  </div>\n"
            ]
          },
          "metadata": {},
          "execution_count": 64
        }
      ],
      "source": [
        "df.head()"
      ]
    },
    {
      "cell_type": "code",
      "execution_count": null,
      "metadata": {
        "colab": {
          "base_uri": "https://localhost:8080/"
        },
        "id": "XFMjxN9uBoH9",
        "outputId": "803e653a-e643-48fd-fe91-ae317b903e5f"
      },
      "outputs": [
        {
          "output_type": "execute_result",
          "data": {
            "text/plain": [
              "(489674, 13)"
            ]
          },
          "metadata": {},
          "execution_count": 65
        }
      ],
      "source": [
        "df.shape"
      ]
    },
    {
      "cell_type": "code",
      "source": [
        "plt.figure(4).clf()\n",
        "fig , ax= plt.subplots(figsize=(12,6))\n",
        "\n",
        "from sklearn import metrics\n",
        "from sklearn.metrics import  roc_auc_score\n",
        "from sklearn.metrics import roc_curve , auc\n",
        "y_pred_proba = lr.predict_proba(X_test)[::,1]\n",
        "fpr , tpr , thresh = metrics.roc_curve(Y_test , y_pred_proba)\n",
        "auc = metrics.roc_curve(Y_test , y_pred_proba )\n",
        "plt.plot(fpr,tpr , label =\"Logistic Regression \"  , color = \"blue\")\n",
        "plt.ylabel(\"True Positve Rate\")\n",
        "plt.xlabel(\" False Positive Rate\")\n",
        "print(\"Logistic Regression AUC Score->\",roc_auc_score(Y_test , y_pred_proba))\n",
        "\n",
        "\n",
        "from sklearn import metrics\n",
        "from sklearn.metrics import  roc_auc_score\n",
        "from sklearn.metrics import roc_curve , auc\n",
        "y_pred_proba = bc.predict_proba(X_test)[::,1]\n",
        "fpr , tpr , thresh = metrics.roc_curve(Y_test , y_pred_proba)\n",
        "auc = metrics.roc_curve(Y_test , y_pred_proba )\n",
        "plt.plot(fpr,tpr , label =\"Bagging Method \" , color = \"red\")\n",
        "plt.ylabel(\"True Positve Rate\")\n",
        "plt.xlabel(\" False Positive Rate\")\n",
        "print(\"Bagging Method AUC Score->\",roc_auc_score(Y_test , y_pred_proba))\n",
        "\n",
        "\n",
        "from sklearn import metrics\n",
        "from sklearn.metrics import  roc_auc_score\n",
        "from sklearn.metrics import roc_curve , auc\n",
        "y_pred_proba = dt.predict_proba(X_test)[::,1]\n",
        "fpr , tpr , thresh = metrics.roc_curve(Y_test , y_pred_proba)\n",
        "auc = metrics.roc_curve(Y_test , y_pred_proba )\n",
        "plt.plot(fpr,tpr , label =\"Decesion Tree \" , color= \"yellow\")\n",
        "plt.ylabel(\"True Positve Rate\")\n",
        "plt.xlabel(\" False Positive Rate\")\n",
        "print(\"Decesion Tree AUC Score->\",roc_auc_score(Y_test , y_pred_proba))\n",
        "\n",
        "\n",
        "from sklearn import metrics\n",
        "from sklearn.metrics import  roc_auc_score\n",
        "from sklearn.metrics import roc_curve , auc\n",
        "y_pred_proba = knn.predict_proba(X_test)[::,1]\n",
        "fpr , tpr , thresh = metrics.roc_curve(Y_test , y_pred_proba)\n",
        "auc = metrics.roc_curve(Y_test , y_pred_proba )\n",
        "plt.plot(fpr,tpr , label =\"K nearest neighbor \", color=\"green\")\n",
        "plt.ylabel(\"True Positve Rate\")\n",
        "plt.xlabel(\" False Positive Rate\")\n",
        "print(\"K nearest Neighbor AUC Score->\",roc_auc_score(Y_test , y_pred_proba))\n",
        "\n",
        "\n",
        "\n",
        "\n",
        "\n",
        "plt.legend()"
      ],
      "metadata": {
        "colab": {
          "base_uri": "https://localhost:8080/",
          "height": 652
        },
        "id": "Mqq00DD2I9uO",
        "outputId": "19b97af6-f3e8-4c91-b00f-c3457eaef002"
      },
      "execution_count": null,
      "outputs": [
        {
          "output_type": "stream",
          "name": "stdout",
          "text": [
            "Logistic Regression AUC Score-> 0.6469730806611573\n",
            "Bagging Method AUC Score-> 0.9582497084306181\n",
            "Decesion Tree AUC Score-> 0.9612264822277685\n",
            "K nearest Neighbor AUC Score-> 0.9568670000425832\n"
          ]
        },
        {
          "output_type": "execute_result",
          "data": {
            "text/plain": [
              "<matplotlib.legend.Legend at 0x7e9ead9add20>"
            ]
          },
          "metadata": {},
          "execution_count": 66
        },
        {
          "output_type": "display_data",
          "data": {
            "text/plain": [
              "<Figure size 640x480 with 0 Axes>"
            ]
          },
          "metadata": {}
        },
        {
          "output_type": "display_data",
          "data": {
            "text/plain": [
              "<Figure size 1200x600 with 1 Axes>"
            ],
            "image/png": "[encoded data removed]"
          },
          "metadata": {}
        }
      ]
    },
    {
      "cell_type": "markdown",
      "source": [
        "## CNN LSTM"
      ],
      "metadata": {
        "id": "4gY0D3a0n1AK"
      }
    },
    {
      "cell_type": "code",
      "source": [
        "\n",
        "from sklearn.model_selection import train_test_split\n",
        "X =df[['Electricity:Facility [kW](Hourly)','Fans:Electricity [kW](Hourly)','Cooling:Electricity [kW](Hourly)','Heating:Electricity [kW](Hourly)','InteriorLights:Electricity [kW](Hourly)','InteriorEquipment:Electricity [kW](Hourly)','Gas:Facility [kW](Hourly)','Heating:Gas [kW](Hourly)','InteriorEquipment:Gas [kW](Hourly)','Water Heater:WaterSystems:Gas [kW](Hourly)','Class']]\n",
        "Y = df[['theft']]\n",
        "X_train, X_test, Y_train, Y_test = train_test_split(X, Y, test_size=0.2, random_state=15)"
      ],
      "metadata": {
        "id": "UCcfDcU2cWuu"
      },
      "execution_count": null,
      "outputs": []
    },
    {
      "cell_type": "code",
      "execution_count": null,
      "metadata": {
        "id": "C-mOHkSZ7_ih"
      },
      "outputs": [],
      "source": [
        "import pandas as pd\n",
        "import numpy as np\n",
        "from sklearn.preprocessing import StandardScaler\n",
        "from sklearn.model_selection import train_test_split\n",
        "from imblearn.over_sampling import SMOTE\n",
        "from imblearn.combine import SMOTETomek\n",
        "from imblearn.under_sampling import RandomUnderSampler\n",
        "from sklearn.utils import shuffle\n",
        "\n",
        "# X_train, X_test, Y_train, Y_test = train_test_split(X, Y, test_size=0.2, random_state=42)\n",
        "\n",
        "# Standardize the feature values\n",
        "scaler = StandardScaler()\n",
        "X_train = scaler.fit_transform(X_train)\n",
        "X_test = scaler.transform(X_test)\n",
        "\n",
        "# Oversample the minority class using SMOTE\n",
        "smote = SMOTETomek(random_state=42)\n",
        "X_train_resampled, y_train_resampled = smote.fit_resample(X_train, Y_train)\n",
        "\n",
        "# Apply random under-sampling to the majority class\n",
        "rus = RandomUnderSampler(random_state=42)\n",
        "X_train_augmented, y_train_augmented = rus.fit_resample(X_train_resampled, y_train_resampled)\n",
        "\n",
        "# Add random noise to the training data\n",
        "X_train_augmented_noisy = X_train_augmented + np.random.normal(loc=0, scale=0.1, size=X_train_augmented.shape)\n",
        "\n",
        "\n"
      ]
    },
    {
      "cell_type": "code",
      "source": [
        "X_train.shape , Y_train.shape"
      ],
      "metadata": {
        "colab": {
          "base_uri": "https://localhost:8080/"
        },
        "id": "vYN2IsiTYsLF",
        "outputId": "93d41730-abd9-4b4f-bf9d-d58e08a57acd"
      },
      "execution_count": null,
      "outputs": [
        {
          "output_type": "execute_result",
          "data": {
            "text/plain": [
              "((391739, 11), (391739, 1))"
            ]
          },
          "metadata": {},
          "execution_count": 62
        }
      ]
    },
    {
      "cell_type": "code",
      "source": [
        "y_train_resampled.shape ,Y_train.shape"
      ],
      "metadata": {
        "colab": {
          "base_uri": "https://localhost:8080/"
        },
        "id": "abn7GFxZb1-L",
        "outputId": "b9bfe2c2-0520-44ad-ab87-2e2c783aaa1d"
      },
      "execution_count": null,
      "outputs": [
        {
          "output_type": "execute_result",
          "data": {
            "text/plain": [
              "((435116, 1), (391739, 1))"
            ]
          },
          "metadata": {},
          "execution_count": 63
        }
      ]
    },
    {
      "cell_type": "code",
      "source": [
        "X_train_augmented_noisy.shape , X_train_augmented.shape  , y_train_augmented.shape"
      ],
      "metadata": {
        "colab": {
          "base_uri": "https://localhost:8080/"
        },
        "id": "qCX-rBJWs4Gi",
        "outputId": "acdc4166-255b-4d25-e740-ea9c00202949"
      },
      "execution_count": null,
      "outputs": [
        {
          "output_type": "execute_result",
          "data": {
            "text/plain": [
              "((435116, 11), (435116, 11), (435116, 1))"
            ]
          },
          "metadata": {},
          "execution_count": 64
        }
      ]
    },
    {
      "cell_type": "code",
      "source": [
        " y_train_augmented.shape"
      ],
      "metadata": {
        "colab": {
          "base_uri": "https://localhost:8080/"
        },
        "id": "_NPgzJFm9-z6",
        "outputId": "9eae0477-7714-4384-959f-2f42b3c8e25a"
      },
      "execution_count": null,
      "outputs": [
        {
          "output_type": "execute_result",
          "data": {
            "text/plain": [
              "(435116, 1)"
            ]
          },
          "metadata": {},
          "execution_count": 65
        }
      ]
    },
    {
      "cell_type": "code",
      "source": [
        "Y_train.shape"
      ],
      "metadata": {
        "colab": {
          "base_uri": "https://localhost:8080/"
        },
        "id": "FP3z5Qe6-QeN",
        "outputId": "9245376f-31c1-4ad2-9113-03a07b5d038f"
      },
      "execution_count": null,
      "outputs": [
        {
          "output_type": "execute_result",
          "data": {
            "text/plain": [
              "(391739, 1)"
            ]
          },
          "metadata": {},
          "execution_count": 48
        }
      ]
    },
    {
      "cell_type": "code",
      "source": [
        "\n",
        "# Shuffle the training data\n",
        "X_train_augmented_final, y_train_augmented_final = shuffle(np.vstack((X_train_augmented, X_train_augmented_noisy)), np.vstack((y_train_augmented, y_train_augmented)))"
      ],
      "metadata": {
        "id": "PiCR-FaDo6P_"
      },
      "execution_count": null,
      "outputs": []
    },
    {
      "cell_type": "code",
      "source": [
        " y_train_augmented_final.shape"
      ],
      "metadata": {
        "colab": {
          "base_uri": "https://localhost:8080/"
        },
        "id": "zer7VB3SvXwF",
        "outputId": "9792909e-78be-43c4-ca7b-c4c0262ac0ce"
      },
      "execution_count": null,
      "outputs": [
        {
          "output_type": "execute_result",
          "data": {
            "text/plain": [
              "(870232, 1)"
            ]
          },
          "metadata": {},
          "execution_count": 67
        }
      ]
    },
    {
      "cell_type": "code",
      "source": [
        "from keras.layers import Input , Conv1D,MaxPooling1D, Dropout , Dense  , concatenate,AveragePooling1D,Flatten , LSTM , TimeDistributed\n",
        "from keras.models import Model , Sequential\n",
        "from tensorflow.keras.models import Sequential\n",
        "from tensorflow.keras.layers import Dense\n",
        "from tensorflow.keras.layers import LSTM\n",
        "from tensorflow.keras.models import Sequential , Model\n",
        "from tensorflow.keras.layers import Conv1D , MaxPooling1D , Flatten , Dense\n",
        "from keras.layers import BatchNormalization\n",
        "\n",
        "model = Sequential()\n",
        "model.add(Conv1D(filters = 64 ,kernel_size = 7 , activation = 'relu' ,  input_shape = ( 11 ,1 ) , padding='same') )\n",
        "model.add(BatchNormalization())\n",
        "model.add(Conv1D(filters = 128 , kernel_size = 5 , activation='relu', name =\"Layer2\"))\n",
        "model.add(BatchNormalization())\n",
        "model.add(MaxPooling1D(pool_size=2))\n",
        "\n",
        "model.add(Conv1D(filters = 256 , kernel_size = 2 , activation='relu',name =\"Layer3\"))\n",
        "model.add(BatchNormalization())\n",
        "model.add(Conv1D(filters = 512 , kernel_size = 2 , activation='relu' , name =\"Layer4\"))\n",
        "model.add(BatchNormalization())\n",
        "model.add(MaxPooling1D(pool_size=1))\n",
        "\n",
        "model.add(Conv1D(filters = 256 , kernel_size = 1 , activation='relu' , name =\"Layer5\"))\n",
        "model.add(BatchNormalization())\n",
        "model.add(Conv1D(filters = 128 , kernel_size = 1 , activation='relu' , name =\"Layer6\"))\n",
        "model.add(BatchNormalization())\n",
        "model.add(MaxPooling1D(pool_size=1))\n",
        "\n",
        "\n",
        "\n",
        "model.add(LSTM(units=128, dropout=0.2 , recurrent_dropout= 0.2,name =\"Layer11\",activation='relu',return_sequences=True))\n",
        "model.add(LSTM(units=256, dropout=0.2 , recurrent_dropout= 0.2,name =\"Layer12\",return_sequences=True))\n",
        "model.add(BatchNormalization())\n",
        "\n",
        "model.add(LSTM(units=64, dropout=0.2 , recurrent_dropout= 0.2,name =\"Layer13\",activation='relu',return_sequences=True))\n",
        "model.add(LSTM(units=32, dropout=0.2 , recurrent_dropout= 0.2,name =\"Layer14\",activation='relu',return_sequences=True))\n",
        "model.add(BatchNormalization())\n",
        "\n",
        "model.add(Dense(units=11, activation='sigmoid'))\n",
        "\n",
        "\n",
        "model.compile(loss =\"sparse_categorical_crossentropy\" , optimizer = \"adam\" , metrics = [\"accuracy\"])\n",
        "model.summary()"
      ],
      "metadata": {
        "colab": {
          "base_uri": "https://localhost:8080/"
        },
        "id": "iaOJh6W4pBGn",
        "outputId": "65d033af-86d7-466c-e65c-0a1c88890026"
      },
      "execution_count": null,
      "outputs": [
        {
          "output_type": "stream",
          "name": "stderr",
          "text": [
            "WARNING:tensorflow:Layer Layer11 will not use cuDNN kernels since it doesn't meet the criteria. It will use a generic GPU kernel as fallback when running on GPU.\n",
            "WARNING:tensorflow:Layer Layer12 will not use cuDNN kernels since it doesn't meet the criteria. It will use a generic GPU kernel as fallback when running on GPU.\n",
            "WARNING:tensorflow:Layer Layer13 will not use cuDNN kernels since it doesn't meet the criteria. It will use a generic GPU kernel as fallback when running on GPU.\n",
            "WARNING:tensorflow:Layer Layer14 will not use cuDNN kernels since it doesn't meet the criteria. It will use a generic GPU kernel as fallback when running on GPU.\n"
          ]
        },
        {
          "output_type": "stream",
          "name": "stdout",
          "text": [
            "Model: \"sequential\"\n",
            "_________________________________________________________________\n",
            " Layer (type)                Output Shape              Param #   \n",
            "=================================================================\n",
            " conv1d (Conv1D)             (None, 11, 64)            512       \n",
            "                                                                 \n",
            " batch_normalization (BatchN  (None, 11, 64)           256       \n",
            " ormalization)                                                   \n",
            "                                                                 \n",
            " Layer2 (Conv1D)             (None, 7, 128)            41088     \n",
            "                                                                 \n",
            " batch_normalization_1 (Batc  (None, 7, 128)           512       \n",
            " hNormalization)                                                 \n",
            "                                                                 \n",
            " max_pooling1d (MaxPooling1D  (None, 3, 128)           0         \n",
            " )                                                               \n",
            "                                                                 \n",
            " Layer3 (Conv1D)             (None, 2, 256)            65792     \n",
            "                                                                 \n",
            " batch_normalization_2 (Batc  (None, 2, 256)           1024      \n",
            " hNormalization)                                                 \n",
            "                                                                 \n",
            " Layer4 (Conv1D)             (None, 1, 512)            262656    \n",
            "                                                                 \n",
            " batch_normalization_3 (Batc  (None, 1, 512)           2048      \n",
            " hNormalization)                                                 \n",
            "                                                                 \n",
            " max_pooling1d_1 (MaxPooling  (None, 1, 512)           0         \n",
            " 1D)                                                             \n",
            "                                                                 \n",
            " Layer5 (Conv1D)             (None, 1, 256)            131328    \n",
            "                                                                 \n",
            " batch_normalization_4 (Batc  (None, 1, 256)           1024      \n",
            " hNormalization)                                                 \n",
            "                                                                 \n",
            " Layer6 (Conv1D)             (None, 1, 128)            32896     \n",
            "                                                                 \n",
            " batch_normalization_5 (Batc  (None, 1, 128)           512       \n",
            " hNormalization)                                                 \n",
            "                                                                 \n",
            " max_pooling1d_2 (MaxPooling  (None, 1, 128)           0         \n",
            " 1D)                                                             \n",
            "                                                                 \n",
            " Layer11 (LSTM)              (None, 1, 128)            131584    \n",
            "                                                                 \n",
            " Layer12 (LSTM)              (None, 1, 256)            394240    \n",
            "                                                                 \n",
            " batch_normalization_6 (Batc  (None, 1, 256)           1024      \n",
            " hNormalization)                                                 \n",
            "                                                                 \n",
            " Layer13 (LSTM)              (None, 1, 64)             82176     \n",
            "                                                                 \n",
            " Layer14 (LSTM)              (None, 1, 32)             12416     \n",
            "                                                                 \n",
            " batch_normalization_7 (Batc  (None, 1, 32)            128       \n",
            " hNormalization)                                                 \n",
            "                                                                 \n",
            " dense (Dense)               (None, 1, 11)             363       \n",
            "                                                                 \n",
            "=================================================================\n",
            "Total params: 1,161,579\n",
            "Trainable params: 1,158,315\n",
            "Non-trainable params: 3,264\n",
            "_________________________________________________________________\n"
          ]
        }
      ]
    },
    {
      "cell_type": "code",
      "source": [
        "model.fit(X_train_augmented_final, y_train_augmented_final , batch_size = 512 , epochs=1, validation_data=(X_test , Y_test))"
      ],
      "metadata": {
        "colab": {
          "base_uri": "https://localhost:8080/"
        },
        "id": "0MTOmZcPpHLr",
        "outputId": "7022d00d-9dc5-46ed-cb51-de7dfce4a13b"
      },
      "execution_count": null,
      "outputs": [
        {
          "output_type": "stream",
          "name": "stdout",
          "text": [
            "1700/1700 [==============================] - 132s 61ms/step - loss: 0.4712 - accuracy: 0.8307 - val_loss: 0.2892 - val_accuracy: 0.8958\n"
          ]
        },
        {
          "output_type": "execute_result",
          "data": {
            "text/plain": [
              "<keras.callbacks.History at 0x7d5845a92620>"
            ]
          },
          "metadata": {},
          "execution_count": 69
        }
      ]
    },
    {
      "cell_type": "code",
      "source": [
        "y_preds = model.predict(X_test)\n",
        "y_preds =y_preds.argmax(axis=-1)\n",
        "from sklearn.metrics import confusion_matrix , classification_report\n",
        "print(\"Classification Report: \\n\", classification_report(Y_test, y_preds))"
      ],
      "metadata": {
        "id": "tyhKsxfGpKe6",
        "colab": {
          "base_uri": "https://localhost:8080/"
        },
        "outputId": "9b21c785-4884-46f3-8375-048a306cecb7"
      },
      "execution_count": null,
      "outputs": [
        {
          "output_type": "stream",
          "name": "stdout",
          "text": [
            " 240/3061 [=>............................] - ETA: 22s"
          ]
        }
      ]
    },
    {
      "cell_type": "code",
      "source": [],
      "metadata": {
        "id": "0PnNrgsidad8"
      },
      "execution_count": null,
      "outputs": []
    },
    {
      "cell_type": "markdown",
      "source": [
        "## CNN RF"
      ],
      "metadata": {
        "id": "_RYOOcR_n9uO"
      }
    },
    {
      "cell_type": "code",
      "source": [
        "from tensorflow import keras\n",
        "from tensorflow.keras.models import Sequential , Model\n",
        "\n",
        "from tensorflow.keras.layers import Conv1D , MaxPooling1D , Flatten , Dense\n",
        "from sklearn.preprocessing import MinMaxScaler\n",
        "# scaler = MinMaxScaler(feature_range=(0,1))\n",
        "# df1 = scaler.fit_transform(np.array(df).reshape(-1,1))\n",
        "# X_train_reshaped = X_train.values.reshape(X_train.shape[0] , X_train.shape[1] , 1)\n",
        "# X_test_reshape = X_test.values.reshape(X_test.shape[0] , X_test.shape[1] , 1)"
      ],
      "metadata": {
        "id": "eKO4Q1KGoj9X"
      },
      "execution_count": null,
      "outputs": []
    },
    {
      "cell_type": "code",
      "source": [
        "# n_timesteps = X_train_reshaped.shape[1]\n",
        "# n_features = X_train_reshaped.shape[2]\n",
        "model = keras.Sequential(name = \"model_conv1D\")\n",
        "model.add(keras.layers.Input(shape = (11 , 1)))\n",
        "model.add(keras.layers.Conv1D(filters=256 , kernel_size = 5 , activation='relu', name = \"Conv1D_1\"))\n",
        "model.add(keras.layers.Dropout(0.5))\n",
        "model.add(keras.layers.Conv1D(filters=128 , kernel_size = 3 , activation = 'relu' , name = \"Conv1D_2\"))\n",
        "model.add(keras.layers.MaxPooling1D(pool_size =1,padding = 'same' , name = \"MaxPooling1D\"))\n",
        "model.add(keras.layers.Conv1D(filters=64 , kernel_size = 2 , activation='relu' , name = \"Conv1D_3\"))\n",
        "model.add(keras.layers.MaxPooling1D(pool_size =1,padding = 'same' , name = \"MaxPooling1D_1\"))\n",
        "model.add(keras.layers.Flatten())\n",
        "xe= model.output\n",
        "xe =Dense(128 , activation = 'sigmoid' , kernel_initializer = 'normal')(xe)\n",
        "prediction_layer = Dense(1,activation = 'relu')(xe)\n",
        "\n",
        "cnn_model = Model(inputs = model.input , outputs = prediction_layer)\n",
        "cnn_model.compile(loss =\"mse\" , optimizer = \"rmsprop\" , metrics = [\"accuracy\"])\n",
        "cnn_model.summary()\n",
        "#model.add(keras.layers.Dense(32,activation = \"relu\" , name = \"Dense_1\"))\n",
        "# model.add(keras.layers.Dense(n_features , name = \"Dense_2\"))\n",
        "# model.compile(loss =\"mse\" , optimizer = \"adam\" , metrics = [\"mae\"])\n",
        "# model.summary()"
      ],
      "metadata": {
        "colab": {
          "base_uri": "https://localhost:8080/"
        },
        "id": "bQoMdw1an8YY",
        "outputId": "e455caa5-d53a-46ab-91e5-718a0013abd2"
      },
      "execution_count": null,
      "outputs": [
        {
          "output_type": "stream",
          "name": "stdout",
          "text": [
            "Model: \"model\"\n",
            "_________________________________________________________________\n",
            " Layer (type)                Output Shape              Param #   \n",
            "=================================================================\n",
            " input_3 (InputLayer)        [(None, 11, 1)]           0         \n",
            "                                                                 \n",
            " Conv1D_1 (Conv1D)           (None, 7, 256)            1536      \n",
            "                                                                 \n",
            " dropout_2 (Dropout)         (None, 7, 256)            0         \n",
            "                                                                 \n",
            " Conv1D_2 (Conv1D)           (None, 5, 128)            98432     \n",
            "                                                                 \n",
            " MaxPooling1D (MaxPooling1D)  (None, 5, 128)           0         \n",
            "                                                                 \n",
            " Conv1D_3 (Conv1D)           (None, 4, 64)             16448     \n",
            "                                                                 \n",
            " MaxPooling1D_1 (MaxPooling1  (None, 4, 64)            0         \n",
            " D)                                                              \n",
            "                                                                 \n",
            " flatten_2 (Flatten)         (None, 256)               0         \n",
            "                                                                 \n",
            " dense_2 (Dense)             (None, 128)               32896     \n",
            "                                                                 \n",
            " dense_3 (Dense)             (None, 1)                 129       \n",
            "                                                                 \n",
            "=================================================================\n",
            "Total params: 149,441\n",
            "Trainable params: 149,441\n",
            "Non-trainable params: 0\n",
            "_________________________________________________________________\n"
          ]
        }
      ]
    },
    {
      "cell_type": "code",
      "source": [
        "history =cnn_model.fit(X_train,Y_train, epochs = 1, batch_size=256 ,validation_data=(X_test , Y_test), validation_split = 0.2, verbose =1 )"
      ],
      "metadata": {
        "colab": {
          "base_uri": "https://localhost:8080/"
        },
        "id": "SFtCAM3_pV9I",
        "outputId": "e0d60834-4da4-4a4f-cef6-7b1065f0b865"
      },
      "execution_count": null,
      "outputs": [
        {
          "output_type": "stream",
          "name": "stdout",
          "text": [
            "1721/1721 [==============================] - 10s 6ms/step - loss: 0.1704 - accuracy: 0.7530 - val_loss: 0.1298 - val_accuracy: 0.8272\n"
          ]
        }
      ]
    },
    {
      "cell_type": "code",
      "source": [
        "y_preds = cnn_model.predict(X_test)\n",
        "from sklearn.metrics import confusion_matrix , classification_report\n",
        "print(\"Classification Report: \\n\", classification_report(Y_test, y_preds.round()))"
      ],
      "metadata": {
        "colab": {
          "base_uri": "https://localhost:8080/"
        },
        "id": "pxxaZ3-ipZEn",
        "outputId": "2718f4f1-c150-4190-e5c8-2b118942283e"
      },
      "execution_count": null,
      "outputs": [
        {
          "output_type": "stream",
          "name": "stdout",
          "text": [
            "3442/3442 [==============================] - 8s 2ms/step\n",
            "Classification Report: \n",
            "               precision    recall  f1-score   support\n",
            "\n",
            "           0       0.76      0.96      0.85     55067\n",
            "           1       0.95      0.69      0.80     55066\n",
            "\n",
            "    accuracy                           0.83    110133\n",
            "   macro avg       0.85      0.83      0.82    110133\n",
            "weighted avg       0.85      0.83      0.82    110133\n",
            "\n"
          ]
        }
      ]
    },
    {
      "cell_type": "code",
      "source": [
        "X_for_RF = model.predict(X_train)"
      ],
      "metadata": {
        "colab": {
          "base_uri": "https://localhost:8080/"
        },
        "id": "4oA0hIQppf9H",
        "outputId": "60b9c637-4ba8-472d-ba95-77d724b84e47"
      },
      "execution_count": null,
      "outputs": [
        {
          "output_type": "stream",
          "name": "stdout",
          "text": [
            "13767/13767 [==============================] - 28s 2ms/step\n"
          ]
        }
      ]
    },
    {
      "cell_type": "code",
      "source": [
        "from sklearn.ensemble import RandomForestClassifier\n",
        "model1 = RandomForestClassifier(n_estimators = 5 , random_state = 1200, min_samples_leaf= 5)\n"
      ],
      "metadata": {
        "id": "gmA4Pj7ApkKS"
      },
      "execution_count": null,
      "outputs": []
    },
    {
      "cell_type": "code",
      "source": [
        "model1.fit(X_for_RF , Y_train)"
      ],
      "metadata": {
        "colab": {
          "base_uri": "https://localhost:8080/",
          "height": 74
        },
        "id": "q0-LFQZJpmYh",
        "outputId": "5a96f0ad-0f16-4ca4-b8ef-575446f05f69"
      },
      "execution_count": null,
      "outputs": [
        {
          "output_type": "execute_result",
          "data": {
            "text/plain": [
              "RandomForestClassifier(min_samples_leaf=5, n_estimators=5, random_state=1200)"
            ],
            "text/html": [
              "<style>#sk-container-id-1 {color: black;background-color: white;}#sk-container-id-1 pre{padding: 0;}#sk-container-id-1 div.sk-toggleable {background-color: white;}#sk-container-id-1 label.sk-toggleable__label {cursor: pointer;display: block;width: 100%;margin-bottom: 0;padding: 0.3em;box-sizing: border-box;text-align: center;}#sk-container-id-1 label.sk-toggleable__label-arrow:before {content: \"▸\";float: left;margin-right: 0.25em;color: #696969;}#sk-container-id-1 label.sk-toggleable__label-arrow:hover:before {color: black;}#sk-container-id-1 div.sk-estimator:hover label.sk-toggleable__label-arrow:before {color: black;}#sk-container-id-1 div.sk-toggleable__content {max-height: 0;max-width: 0;overflow: hidden;text-align: left;background-color: #f0f8ff;}#sk-container-id-1 div.sk-toggleable__content pre {margin: 0.2em;color: black;border-radius: 0.25em;background-color: #f0f8ff;}#sk-container-id-1 input.sk-toggleable__control:checked~div.sk-toggleable__content {max-height: 200px;max-width: 100%;overflow: auto;}#sk-container-id-1 input.sk-toggleable__control:checked~label.sk-toggleable__label-arrow:before {content: \"▾\";}#sk-container-id-1 div.sk-estimator input.sk-toggleable__control:checked~label.sk-toggleable__label {background-color: #d4ebff;}#sk-container-id-1 div.sk-label input.sk-toggleable__control:checked~label.sk-toggleable__label {background-color: #d4ebff;}#sk-container-id-1 input.sk-hidden--visually {border: 0;clip: rect(1px 1px 1px 1px);clip: rect(1px, 1px, 1px, 1px);height: 1px;margin: -1px;overflow: hidden;padding: 0;position: absolute;width: 1px;}#sk-container-id-1 div.sk-estimator {font-family: monospace;background-color: #f0f8ff;border: 1px dotted black;border-radius: 0.25em;box-sizing: border-box;margin-bottom: 0.5em;}#sk-container-id-1 div.sk-estimator:hover {background-color: #d4ebff;}#sk-container-id-1 div.sk-parallel-item::after {content: \"\";width: 100%;border-bottom: 1px solid gray;flex-grow: 1;}#sk-container-id-1 div.sk-label:hover label.sk-toggleable__label {background-color: #d4ebff;}#sk-container-id-1 div.sk-serial::before {content: \"\";position: absolute;border-left: 1px solid gray;box-sizing: border-box;top: 0;bottom: 0;left: 50%;z-index: 0;}#sk-container-id-1 div.sk-serial {display: flex;flex-direction: column;align-items: center;background-color: white;padding-right: 0.2em;padding-left: 0.2em;position: relative;}#sk-container-id-1 div.sk-item {position: relative;z-index: 1;}#sk-container-id-1 div.sk-parallel {display: flex;align-items: stretch;justify-content: center;background-color: white;position: relative;}#sk-container-id-1 div.sk-item::before, #sk-container-id-1 div.sk-parallel-item::before {content: \"\";position: absolute;border-left: 1px solid gray;box-sizing: border-box;top: 0;bottom: 0;left: 50%;z-index: -1;}#sk-container-id-1 div.sk-parallel-item {display: flex;flex-direction: column;z-index: 1;position: relative;background-color: white;}#sk-container-id-1 div.sk-parallel-item:first-child::after {align-self: flex-end;width: 50%;}#sk-container-id-1 div.sk-parallel-item:last-child::after {align-self: flex-start;width: 50%;}#sk-container-id-1 div.sk-parallel-item:only-child::after {width: 0;}#sk-container-id-1 div.sk-dashed-wrapped {border: 1px dashed gray;margin: 0 0.4em 0.5em 0.4em;box-sizing: border-box;padding-bottom: 0.4em;background-color: white;}#sk-container-id-1 div.sk-label label {font-family: monospace;font-weight: bold;display: inline-block;line-height: 1.2em;}#sk-container-id-1 div.sk-label-container {text-align: center;}#sk-container-id-1 div.sk-container {/* jupyter's `normalize.less` sets `[hidden] { display: none; }` but bootstrap.min.css set `[hidden] { display: none !important; }` so we also need the `!important` here to be able to override the default hidden behavior on the sphinx rendered scikit-learn.org. See: https://github.com/scikit-learn/scikit-learn/issues/21755 */display: inline-block !important;position: relative;}#sk-container-id-1 div.sk-text-repr-fallback {display: none;}</style><div id=\"sk-container-id-1\" class=\"sk-top-container\"><div class=\"sk-text-repr-fallback\"><pre>RandomForestClassifier(min_samples_leaf=5, n_estimators=5, random_state=1200)</pre><b>In a Jupyter environment, please rerun this cell to show the HTML representation or trust the notebook. <br />On GitHub, the HTML representation is unable to render, please try loading this page with nbviewer.org.</b></div><div class=\"sk-container\" hidden><div class=\"sk-item\"><div class=\"sk-estimator sk-toggleable\"><input class=\"sk-toggleable__control sk-hidden--visually\" id=\"sk-estimator-id-1\" type=\"checkbox\" checked><label for=\"sk-estimator-id-1\" class=\"sk-toggleable__label sk-toggleable__label-arrow\">RandomForestClassifier</label><div class=\"sk-toggleable__content\"><pre>RandomForestClassifier(min_samples_leaf=5, n_estimators=5, random_state=1200)</pre></div></div></div></div></div>"
            ]
          },
          "metadata": {},
          "execution_count": 58
        }
      ]
    },
    {
      "cell_type": "code",
      "source": [
        "X_test_feature = model.predict(X_test)"
      ],
      "metadata": {
        "colab": {
          "base_uri": "https://localhost:8080/"
        },
        "id": "023YL-pzpo06",
        "outputId": "44ff568c-7110-43f1-db97-76ada2d8001d"
      },
      "execution_count": null,
      "outputs": [
        {
          "output_type": "stream",
          "name": "stdout",
          "text": [
            "3442/3442 [==============================] - 8s 2ms/step\n"
          ]
        }
      ]
    },
    {
      "cell_type": "code",
      "source": [
        "prediction_RF = model1.predict(X_test_feature)"
      ],
      "metadata": {
        "id": "K4PmUnpTprMe"
      },
      "execution_count": null,
      "outputs": []
    },
    {
      "cell_type": "code",
      "source": [
        "prediction_RF.shape"
      ],
      "metadata": {
        "colab": {
          "base_uri": "https://localhost:8080/"
        },
        "id": "E3DSB09WptRl",
        "outputId": "00d6fd26-bcdc-4473-b3f5-de4a3456e977"
      },
      "execution_count": null,
      "outputs": [
        {
          "output_type": "execute_result",
          "data": {
            "text/plain": [
              "(110133,)"
            ]
          },
          "metadata": {},
          "execution_count": 61
        }
      ]
    },
    {
      "cell_type": "code",
      "source": [
        "from sklearn.metrics import confusion_matrix , classification_report\n",
        "print(\"Classification Report: \\n\", classification_report(Y_test, prediction_RF.round()))"
      ],
      "metadata": {
        "colab": {
          "base_uri": "https://localhost:8080/"
        },
        "id": "a_B-Eh3lpv2V",
        "outputId": "9819167d-335f-48e0-f5cf-817038d7b130"
      },
      "execution_count": null,
      "outputs": [
        {
          "output_type": "stream",
          "name": "stdout",
          "text": [
            "Classification Report: \n",
            "               precision    recall  f1-score   support\n",
            "\n",
            "           0       0.90      0.99      0.94     55067\n",
            "           1       0.98      0.90      0.94     55066\n",
            "\n",
            "    accuracy                           0.94    110133\n",
            "   macro avg       0.94      0.94      0.94    110133\n",
            "weighted avg       0.94      0.94      0.94    110133\n",
            "\n"
          ]
        }
      ]
    },
    {
      "cell_type": "code",
      "source": [
        "!apt-get install git\n"
      ],
      "metadata": {
        "id": "JD3AU30sFU4i",
        "colab": {
          "base_uri": "https://localhost:8080/"
        },
        "outputId": "e5b6ce25-0964-4cd7-d127-57969e6b97a8"
      },
      "execution_count": 2,
      "outputs": [
        {
          "output_type": "stream",
          "name": "stdout",
          "text": [
            "Reading package lists... Done\n",
            "Building dependency tree... Done\n",
            "Reading state information... Done\n",
            "git is already the newest version (1:2.34.1-1ubuntu1.10).\n",
            "0 upgraded, 0 newly installed, 0 to remove and 19 not upgraded.\n"
          ]
        }
      ]
    },
    {
      "cell_type": "code",
      "source": [
        "!git config --global user.email \"tiwarianurag812@gmail.com\"\n",
        "!git config --global user.name \"sanataniLadkaa\"\n"
      ],
      "metadata": {
        "id": "6suBjA7A2s-H"
      },
      "execution_count": 3,
      "outputs": []
    },
    {
      "cell_type": "code",
      "source": [
        "!cd /content/drive/MyDrive/Colab Notebooks/Electricity Theft Detection Project.ipynb  # Navigate to the directory where your Colab file is stored\n",
        "\n",
        "# Initialize a Git repository in the directory if it's not already a Git repository\n",
        "!git init\n",
        "\n",
        "# Add the Colab file\n",
        "!git add Electricity Theft Detection Project.ipynb\n",
        "\n",
        "# Commit the changes\n",
        "!git commit -m \"Adding Colab file to repository\"\n",
        "\n",
        "# Add your GitHub repository URL as the origin\n",
        "!git remote add origin https://github.com/sanataniLadkaa/AnuragTiwari.git\n",
        "\n",
        "# Push the changes to GitHub\n",
        "!git push -u origin main\n"
      ],
      "metadata": {
        "colab": {
          "base_uri": "https://localhost:8080/"
        },
        "id": "fAmqdX6V277P",
        "outputId": "0b9c6dad-8abb-4206-cadb-76c701fdb5ed"
      },
      "execution_count": 6,
      "outputs": [
        {
          "output_type": "stream",
          "name": "stdout",
          "text": [
            "/bin/bash: line 1: cd: too many arguments\n",
            "Reinitialized existing Git repository in /content/.git/\n",
            "fatal: pathspec 'Electricity' did not match any files\n",
            "On branch master\n",
            "\n",
            "Initial commit\n",
            "\n",
            "Untracked files:\n",
            "  (use \"git add <file>...\" to include in what will be committed)\n",
            "\t\u001b[31m.config/\u001b[m\n",
            "\t\u001b[31mdrive/\u001b[m\n",
            "\t\u001b[31msample_data/\u001b[m\n",
            "\n",
            "nothing added to commit but untracked files present (use \"git add\" to track)\n",
            "error: src refspec main does not match any\n",
            "\u001b[31merror: failed to push some refs to 'https://github.com/sanataniLadkaa/AnuragTiwari.git'\n",
            "\u001b[m"
          ]
        }
      ]
    },
    {
      "cell_type": "code",
      "source": [],
      "metadata": {
        "id": "Updj3JFx3bod"
      },
      "execution_count": null,
      "outputs": []
    }
  ],
  "metadata": {
    "accelerator": "GPU",
    "colab": {
      "provenance": []
    },
    "gpuClass": "standard",
    "kernelspec": {
      "display_name": "Python 3",
      "name": "python3"
    },
    "language_info": {
      "name": "python"
    }
  },
  "nbformat": 4,
  "nbformat_minor": 0
}